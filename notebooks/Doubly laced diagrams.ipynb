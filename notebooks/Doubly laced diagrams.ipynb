{
 "cells": [
  {
   "cell_type": "markdown",
   "id": "d770b964",
   "metadata": {},
   "source": [
    "# Installation\n",
    "\n",
    "For installation instructions please refer to `Simply laced diagrams` notebook."
   ]
  },
  {
   "cell_type": "code",
   "execution_count": 1,
   "id": "1d3320d4",
   "metadata": {},
   "outputs": [],
   "source": [
    "using Pkg"
   ]
  },
  {
   "cell_type": "code",
   "execution_count": 2,
   "id": "876b467d",
   "metadata": {},
   "outputs": [
    {
     "name": "stderr",
     "output_type": "stream",
     "text": [
      "\u001b[32m\u001b[1m  Activating\u001b[22m\u001b[39m project at `~/Mathematics/Research/Property (T)/Chevalley/2306.12358`\n"
     ]
    }
   ],
   "source": [
    "Pkg.activate(joinpath(@__DIR__, \"..\"))"
   ]
  },
  {
   "cell_type": "code",
   "execution_count": 3,
   "id": "07cfe4da",
   "metadata": {},
   "outputs": [
    {
     "name": "stdout",
     "output_type": "stream",
     "text": [
      "Julia Version 1.10.4\n",
      "Commit 48d4fd48430 (2024-06-04 10:41 UTC)\n",
      "Build Info:\n",
      "  Official https://julialang.org/ release\n",
      "Platform Info:\n",
      "  OS: Linux (x86_64-linux-gnu)\n",
      "  CPU: 16 × AMD Ryzen 7 7840U w/ Radeon  780M Graphics\n",
      "  WORD_SIZE: 64\n",
      "  LIBM: libopenlibm\n",
      "  LLVM: libLLVM-15.0.7 (ORCJIT, znver3)\n",
      "Threads: 8 default, 0 interactive, 4 GC (on 16 virtual cores)\n",
      "Environment:\n",
      "  JULIA_NUM_THREADS = 8\n"
     ]
    }
   ],
   "source": [
    "versioninfo()"
   ]
  },
  {
   "cell_type": "code",
   "execution_count": 4,
   "id": "a6451423",
   "metadata": {},
   "outputs": [
    {
     "name": "stdout",
     "output_type": "stream",
     "text": [
      "\u001b[32m\u001b[1mStatus\u001b[22m\u001b[39m `~/Mathematics/Research/Property (T)/Chevalley/2306.12358/Project.toml`\n",
      "  \u001b[90m[c7e460c6] \u001b[39mArgParse v1.2.0\n",
      "  \u001b[90m[1e616198] \u001b[39mCOSMO v0.8.9\n",
      "  \u001b[90m[5d8bd718] \u001b[39mGroups v0.8.0\n",
      "  \u001b[90m[7073ff75] \u001b[39mIJulia v1.25.0\n",
      "  \u001b[90m[4076af6c] \u001b[39mJuMP v1.22.2\n",
      "  \u001b[90m[03b72c93] \u001b[39mPropertyT v0.6.0 `https://github.com/kalmarek/PropertyT.jl#master`\n",
      "  \u001b[90m[c946c3f1] \u001b[39mSCS v2.0.0\n",
      "\u001b[32m⌃\u001b[39m \u001b[90m[3f2553a9] \u001b[39mSCS_MKL_jll v3.2.4+1 ⚲\n",
      "  \u001b[90m[ade2ca70] \u001b[39mDates\n",
      "  \u001b[90m[37e2e46d] \u001b[39mLinearAlgebra\n",
      "\u001b[36m\u001b[1mInfo\u001b[22m\u001b[39m Packages marked with \u001b[32m⌃\u001b[39m have new versions available and may be upgradable.\n"
     ]
    }
   ],
   "source": [
    "Pkg.status()"
   ]
  },
  {
   "cell_type": "code",
   "execution_count": 5,
   "id": "d3c11836",
   "metadata": {},
   "outputs": [],
   "source": [
    "using Groups\n",
    "import Groups.MatrixGroups"
   ]
  },
  {
   "cell_type": "code",
   "execution_count": 6,
   "id": "a6a99ce6",
   "metadata": {},
   "outputs": [],
   "source": [
    "using PropertyT\n",
    "using PropertyT.IntervalArithmetic"
   ]
  },
  {
   "cell_type": "markdown",
   "id": "4ce28391",
   "metadata": {},
   "source": [
    "> In this notebook only rudimentary commentary is included. For the extended one please consult `Simply laced diagrams` notebook."
   ]
  },
  {
   "cell_type": "markdown",
   "id": "c10d9bbc",
   "metadata": {},
   "source": [
    "# Sum of squares proof of property (T) for $\\operatorname{Sp}_{4}(\\mathbb{Z})$"
   ]
  },
  {
   "cell_type": "markdown",
   "id": "30de5d21",
   "metadata": {},
   "source": [
    "We wish to prove\n",
    "> **Theorem 3.12** Let $G= \\operatorname{Sp}_{4}(\\mathbb{Z})$ be the universal Chevalley group over $\\mathbb{Z}$ of type $\\texttt{B}_{\\texttt{2}} = \\texttt{C}_{\\texttt{2}}$ endowed with the set of Steinberg generators $S$. The pair $(G, S)$ has property (T) with a witness of type $(\\lambda, R) = (0.87890, 2)$.\n",
    "\n",
    "We will show this by exhibiting $\\xi_i\\in \\mathbb{R}G$, supported inside $\\operatorname{Ball}(S, 2)$ such that\n",
    "\n",
    "$$\n",
    "\\Delta^2 - \\lambda \\Delta - \\sum_i \\xi_i^* \\xi_i = r,\n",
    "$$\n",
    "\n",
    "with $\\|r\\|_1$ much smaller (a few orders of magnitue) than $\\lambda$."
   ]
  },
  {
   "cell_type": "code",
   "execution_count": 7,
   "id": "1899c282",
   "metadata": {},
   "outputs": [
    {
     "data": {
      "text/plain": [
       "group of 4×4 symplectic matrices"
      ]
     },
     "execution_count": 7,
     "metadata": {},
     "output_type": "execute_result"
    }
   ],
   "source": [
    "N = 2\n",
    "G = MatrixGroups.SymplecticGroup{2*N}(Int8)"
   ]
  },
  {
   "cell_type": "code",
   "execution_count": 8,
   "id": "7e81238c",
   "metadata": {},
   "outputs": [
    {
     "data": {
      "text/plain": [
       "A₁.₂ ∈ Sp{4,Int8}\n",
       " 1  1   0  0\n",
       " 0  1   0  0\n",
       " 0  0   1  0\n",
       " 0  0  -1  1"
      ]
     },
     "execution_count": 8,
     "metadata": {},
     "output_type": "execute_result"
    }
   ],
   "source": [
    "gens(G, 1)"
   ]
  },
  {
   "cell_type": "code",
   "execution_count": 9,
   "id": "1017cf0e",
   "metadata": {},
   "outputs": [
    {
     "data": {
      "text/plain": [
       "B₃.₁ ∈ Sp{4,Int8}\n",
       " 1  0  0  0\n",
       " 0  1  0  0\n",
       " 1  0  1  0\n",
       " 0  0  0  1"
      ]
     },
     "execution_count": 9,
     "metadata": {},
     "output_type": "execute_result"
    }
   ],
   "source": [
    "gens(G, 3)"
   ]
  },
  {
   "cell_type": "code",
   "execution_count": 10,
   "id": "5a7eb3a2",
   "metadata": {},
   "outputs": [
    {
     "data": {
      "text/plain": [
       "B₃.₂ ∈ Sp{4,Int8}\n",
       " 1  0  0  0\n",
       " 0  1  0  0\n",
       " 0  1  1  0\n",
       " 1  0  0  1"
      ]
     },
     "execution_count": 10,
     "metadata": {},
     "output_type": "execute_result"
    }
   ],
   "source": [
    "gens(G, 5)"
   ]
  },
  {
   "cell_type": "code",
   "execution_count": 11,
   "id": "044ca9cb",
   "metadata": {},
   "outputs": [
    {
     "name": "stdout",
     "output_type": "stream",
     "text": [
      "  0.031126 seconds (462.12 k allocations: 18.141 MiB, 40.13% gc time)\n",
      "  0.004681 seconds (72.70 k allocations: 2.806 MiB)\n",
      "  0.741827 seconds (2.00 M allocations: 121.676 MiB, 4.65% gc time, 95.06% compilation time)\n"
     ]
    },
    {
     "name": "stderr",
     "output_type": "stream",
     "text": [
      "\u001b[36m\u001b[1m[ \u001b[22m\u001b[39m\u001b[36m\u001b[1mInfo: \u001b[22m\u001b[39mgenerating wl-metric ball of radius 4\n",
      "\u001b[36m\u001b[1m[ \u001b[22m\u001b[39m\u001b[36m\u001b[1mInfo: \u001b[22m\u001b[39msizes = [17, 209, 2073, 18313]\n",
      "\u001b[36m\u001b[1m[ \u001b[22m\u001b[39m\u001b[36m\u001b[1mInfo: \u001b[22m\u001b[39mcomputing the *-algebra structure for G\n"
     ]
    }
   ],
   "source": [
    "HALFRADIUS = 2\n",
    "RG, S, sizes = @time PropertyT.group_algebra(G, halfradius = HALFRADIUS);"
   ]
  },
  {
   "cell_type": "code",
   "execution_count": 12,
   "id": "972668c0",
   "metadata": {},
   "outputs": [
    {
     "data": {
      "text/plain": [
       "16-element Vector{FPGroupElement{Groups.MatrixGroups.SymplecticGroup{4, Int8, DataType, Groups.MatrixGroups.ElementarySymplectic{4, Int8}}, KnuthBendix.Words.Word{UInt8}}}:\n",
       " A₁.₂\n",
       " A₂.₁\n",
       " B₃.₁\n",
       " B₄.₂\n",
       " B₃.₂\n",
       " B₁.₃\n",
       " B₂.₄\n",
       " B₂.₃\n",
       " A₁.₂^-1\n",
       " A₂.₁^-1\n",
       " B₃.₁^-1\n",
       " B₄.₂^-1\n",
       " B₃.₂^-1\n",
       " B₁.₃^-1\n",
       " B₂.₄^-1\n",
       " B₂.₃^-1"
      ]
     },
     "execution_count": 12,
     "metadata": {},
     "output_type": "execute_result"
    }
   ],
   "source": [
    "S"
   ]
  },
  {
   "cell_type": "code",
   "execution_count": 13,
   "id": "9392e435",
   "metadata": {},
   "outputs": [
    {
     "data": {
      "text/plain": [
       "16·(id) -1·A₁.₂ -1·A₂.₁ -1·B₃.₁ -1·B₄.₂ -1·B₃.₂ -1·B₁.₃ -1·B₂.₄ -1·B₂.₃ -1·A₁.₂^-1 -1·A₂.₁^-1 -1·B₃.₁^-1 -1·B₄.₂^-1 -1·B₃.₂^-1 -1·B₁.₃^-1 -1·B₂.₄^-1 -1·B₂.₃^-1"
      ]
     },
     "execution_count": 13,
     "metadata": {},
     "output_type": "execute_result"
    }
   ],
   "source": [
    "Δ = RG(length(S)) - sum(RG(s) for s in S)"
   ]
  },
  {
   "cell_type": "markdown",
   "id": "2a7d9e36",
   "metadata": {},
   "source": [
    "## Optimization problem"
   ]
  },
  {
   "cell_type": "code",
   "execution_count": 14,
   "id": "f7c99d79",
   "metadata": {},
   "outputs": [
    {
     "name": "stdout",
     "output_type": "stream",
     "text": [
      "  1.690365 seconds (5.49 M allocations: 380.104 MiB, 6.31% gc time, 90.15% compilation time: <1% of which was recompilation)\n"
     ]
    },
    {
     "data": {
      "text/plain": [
       "A JuMP Model\n",
       "Maximization problem with:\n",
       "Variables: 21946\n",
       "Objective function type: JuMP.VariableRef\n",
       "`JuMP.AffExpr`-in-`MathOptInterface.EqualTo{Float64}`: 18313 constraints\n",
       "`Vector{JuMP.VariableRef}`-in-`MathOptInterface.PositiveSemidefiniteConeTriangle`: 1 constraint\n",
       "Model mode: AUTOMATIC\n",
       "CachingOptimizer state: NO_OPTIMIZER\n",
       "Solver name: No optimizer attached.\n",
       "Names registered in the model: P, psd, λ"
      ]
     },
     "execution_count": 14,
     "metadata": {},
     "output_type": "execute_result"
    }
   ],
   "source": [
    "@time model = PropertyT.sos_problem_primal(\n",
    "    Δ^2,\n",
    "    Δ,\n",
    "    augmented = true,\n",
    ")"
   ]
  },
  {
   "cell_type": "markdown",
   "id": "acffa7ba",
   "metadata": {},
   "source": [
    "However, since we know the action of the Weyl group, we do not want to solve this formulation."
   ]
  },
  {
   "cell_type": "markdown",
   "id": "99d0fe2a",
   "metadata": {},
   "source": [
    "### Symmetry reduction"
   ]
  },
  {
   "cell_type": "code",
   "execution_count": 15,
   "id": "5ced119a",
   "metadata": {},
   "outputs": [],
   "source": [
    "import PropertyT.SA as StarAlgebras\n",
    "import PropertyT.SW as SymbolicWedderburn\n",
    "using PropertyT.PG # PermutationGroups"
   ]
  },
  {
   "cell_type": "code",
   "execution_count": 16,
   "id": "792a93f4",
   "metadata": {},
   "outputs": [
    {
     "name": "stdout",
     "output_type": "stream",
     "text": [
      "  8.087853 seconds (15.74 M allocations: 1.035 GiB, 2.84% gc time, 246.91% compilation time: <1% of which was recompilation)\n"
     ]
    },
    {
     "name": "stderr",
     "output_type": "stream",
     "text": [
      "\u001b[36m\u001b[1m┌ \u001b[22m\u001b[39m\u001b[36m\u001b[1mInfo: \u001b[22m\u001b[39mWedderburn Decomposition into 4830 orbits and 4 simple summands of sizes\n",
      "\u001b[36m\u001b[1m└ \u001b[22m\u001b[39m[71, 58, 44, 36]\n"
     ]
    }
   ],
   "source": [
    "wd = let RG = RG, N = N\n",
    "    G = StarAlgebras.object(RG)\n",
    "    P = PermGroup(perm\"(1,2)\", Perm(circshift(1:N, -1)))\n",
    "    Weyl = Groups.Constructions.WreathProduct(PermGroup(perm\"(1,2)\"), P)\n",
    "    act = PropertyT.action_by_conjugation(G, Weyl)\n",
    "\n",
    "    @time SymbolicWedderburn.WedderburnDecomposition(\n",
    "        Float64,\n",
    "        Weyl,\n",
    "        act,\n",
    "        StarAlgebras.basis(RG),\n",
    "        StarAlgebras.Basis{UInt16}(@view StarAlgebras.basis(RG)[1:sizes[HALFRADIUS]]),\n",
    "    )\n",
    "end\n",
    "@info wd"
   ]
  },
  {
   "cell_type": "code",
   "execution_count": 17,
   "id": "6b98dcdf",
   "metadata": {},
   "outputs": [
    {
     "name": "stdout",
     "output_type": "stream",
     "text": [
      "  1.929635 seconds (5.31 M allocations: 600.561 MiB, 8.92% gc time, 242.29% compilation time)\n"
     ]
    },
    {
     "data": {
      "text/plain": [
       "A JuMP Model\n",
       "Maximization problem with:\n",
       "Variables: 5924\n",
       "Objective function type: JuMP.VariableRef\n",
       "`JuMP.AffExpr`-in-`MathOptInterface.EqualTo{Float64}`: 4829 constraints\n",
       "`Vector{JuMP.VariableRef}`-in-`MathOptInterface.PositiveSemidefiniteConeTriangle`: 4 constraints\n",
       "Model mode: AUTOMATIC\n",
       "CachingOptimizer state: NO_OPTIMIZER\n",
       "Solver name: No optimizer attached.\n",
       "Names registered in the model: λ"
      ]
     },
     "execution_count": 17,
     "metadata": {},
     "output_type": "execute_result"
    }
   ],
   "source": [
    "@time model, varP = PropertyT.sos_problem_primal(Δ^2, Δ, wd; augmented = true);\n",
    "model"
   ]
  },
  {
   "cell_type": "code",
   "execution_count": 18,
   "id": "c5255979",
   "metadata": {},
   "outputs": [],
   "source": [
    "include(joinpath(@__DIR__, \"..\", \"src\", \"optimizers.jl\"));\n",
    "with_optimizer = scs_optimizer(;\n",
    "    eps = 1e-9,\n",
    "    max_iters = 20_000,\n",
    "    accel = 50,\n",
    "    alpha = 1.95,\n",
    ");"
   ]
  },
  {
   "cell_type": "code",
   "execution_count": 19,
   "id": "b3b2fd9f",
   "metadata": {},
   "outputs": [],
   "source": [
    "warm = nothing"
   ]
  },
  {
   "cell_type": "code",
   "execution_count": 20,
   "id": "21244c80",
   "metadata": {},
   "outputs": [
    {
     "name": "stdout",
     "output_type": "stream",
     "text": [
      "------------------------------------------------------------------\n",
      "\t       SCS v3.2.4 - Splitting Conic Solver\n",
      "\t(c) Brendan O'Donoghue, Stanford University, 2012\n",
      "------------------------------------------------------------------\n",
      "problem:  variables n: 5924, constraints m: 10752\n",
      "cones: \t  z: primal zero / dual free vars: 4829\n",
      "\t  s: psd vars: 5923, ssize: 4\n",
      "settings: eps_abs: 1.0e-09, eps_rel: 1.0e-09, eps_infeas: 1.0e-07\n",
      "\t  alpha: 1.95, scale: 1.00e-01, adaptive_scale: 1\n",
      "\t  max_iters: 20000, normalize: 1, rho_x: 1.00e-06\n",
      "\t  acceleration_lookback: 50, acceleration_interval: 10\n",
      "\t  compiled with openmp parallelization enabled\n",
      "lin-sys:  sparse-direct-mkl-pardiso\n",
      "\t  nnz(A): 46608, nnz(P): 0\n",
      "------------------------------------------------------------------\n",
      " iter | pri res | dua res |   gap   |   obj   |  scale  | time (s)\n",
      "------------------------------------------------------------------\n",
      "     0| 3.21e+01  1.00e+00  1.06e+02 -1.13e+02  1.00e-01  4.44e-02 \n",
      "   250| 7.51e-03  2.64e-04  1.41e-01 -1.26e+00  1.00e-01  2.89e-01 \n",
      "   500| 4.42e-03  1.95e-04  7.46e-02 -9.80e-01  1.00e-01  5.35e-01 \n",
      "   750| 2.03e-03  8.33e-05  1.83e-02 -9.13e-01  1.00e-01  7.84e-01 \n",
      "  1000| 8.42e-04  5.18e-05  1.00e-02 -9.02e-01  1.00e-01  1.02e+00 \n",
      "  1250| 6.62e-04  3.21e-05  7.63e-03 -8.95e-01  1.00e-01  1.27e+00 \n",
      "  1500| 5.25e-04  2.68e-05  6.16e-03 -8.90e-01  1.00e-01  1.52e+00 \n",
      "  1750| 4.10e-04  2.30e-05  4.96e-03 -8.86e-01  1.00e-01  1.77e+00 \n",
      "  2000| 3.14e-04  1.92e-05  3.90e-03 -8.84e-01  1.00e-01  2.01e+00 \n",
      "  2250| 2.37e-04  1.54e-05  3.00e-03 -8.82e-01  1.00e-01  2.27e+00 \n",
      "  2500| 1.76e-04  1.25e-05  2.27e-03 -8.81e-01  1.00e-01  2.53e+00 \n",
      "  2750| 1.30e-04  1.10e-05  1.69e-03 -8.81e-01  1.00e-01  2.78e+00 \n",
      "  3000| 9.34e-05  9.71e-06  1.25e-03 -8.80e-01  1.00e-01  3.04e+00 \n",
      "  3250| 6.75e-05  8.39e-06  9.07e-04 -8.80e-01  1.00e-01  3.28e+00 \n",
      "  3500| 4.85e-05  7.09e-06  6.54e-04 -8.80e-01  1.00e-01  3.54e+00 \n",
      "  3750| 2.97e-06  5.94e-07  2.74e-05 -8.79e-01  1.00e-01  3.80e+00 \n",
      "  4000| 1.32e-06  3.54e-07  1.86e-05 -8.79e-01  1.00e-01  4.04e+00 \n",
      "  4250| 8.38e-07  7.20e-08  3.17e-06 -8.79e-01  1.00e-01  4.30e+00 \n",
      "  4500| 3.15e-07  5.53e-08  2.26e-06 -8.79e-01  1.00e-01  4.55e+00 \n",
      "  4750| 1.35e-07  1.14e-08  4.27e-07 -8.79e-01  1.00e-01  4.80e+00 \n",
      "  5000| 4.02e-08  7.17e-09  4.23e-07 -8.79e-01  1.00e-01  5.05e+00 \n",
      "  5250| 9.43e-09  1.47e-09  7.44e-08 -8.79e-01  1.00e-01  5.30e+00 \n",
      "  5500| 4.82e-09  9.89e-10  4.52e-08 -8.79e-01  1.00e-01  5.56e+00 \n",
      "  5750| 8.98e-10  2.54e-10  5.84e-09 -8.79e-01  1.00e-01  5.81e+00 \n",
      "  6000| 7.68e-10  2.18e-10  4.58e-09 -8.79e-01  1.00e-01  6.06e+00 \n",
      "  6250| 4.98e-10  1.94e-11  1.57e-09 -8.79e-01  1.00e-01  6.31e+00 \n",
      "------------------------------------------------------------------\n",
      "status:  solved\n",
      "timings: total: 6.31e+00s = setup: 4.20e-02s + solve: 6.27e+00s\n",
      "\t lin-sys: 1.37e+00s, cones: 4.55e+00s, accel: 9.87e-02s\n",
      "------------------------------------------------------------------\n",
      "objective = -0.879164\n",
      "------------------------------------------------------------------\n"
     ]
    },
    {
     "name": "stderr",
     "output_type": "stream",
     "text": [
      "\u001b[36m\u001b[1m┌ \u001b[22m\u001b[39m\u001b[36m\u001b[1mInfo: \u001b[22m\u001b[39mOptimization has finished with\n",
      "\u001b[36m\u001b[1m└ \u001b[22m\u001b[39m  status = OPTIMAL::TerminationStatusCode = 1\n"
     ]
    }
   ],
   "source": [
    "status, warm = PropertyT.solve(model, with_optimizer, warm)\n",
    "@info \"Optimization has finished with\" status"
   ]
  },
  {
   "cell_type": "markdown",
   "id": "858646b3",
   "metadata": {},
   "source": [
    "### Reconstructing and certifying the solution\n",
    "Since we symmetrized our problem, we don't have direct access to `P` or `Q` as defined above. So first we need to reconstruct `Q` from the action of `Weyl` on $\\operatorname{Ball}(S, R)$:"
   ]
  },
  {
   "cell_type": "code",
   "execution_count": 21,
   "id": "46967657",
   "metadata": {},
   "outputs": [
    {
     "name": "stdout",
     "output_type": "stream",
     "text": [
      " 13.479702 seconds (24.32 M allocations: 1.457 GiB, 3.36% gc time, 101.22% compilation time)\n"
     ]
    },
    {
     "data": {
      "text/plain": [
       "209×209 Matrix{Float64}:\n",
       " 0.0   0.0          0.0          0.0         …   0.0           0.0\n",
       " 0.0   2.32376      0.240808     0.149926       -0.00871263    0.014647\n",
       " 0.0   0.240808     2.32376     -0.0270742      -0.00871263    0.014647\n",
       " 0.0   0.149926    -0.0270742    2.92568        -0.0101342    -0.00672851\n",
       " 0.0  -0.0270742    0.149926     0.10302        -0.0101342    -0.00672851\n",
       " 0.0   0.0689792    0.0689792   -0.0270742   …  -0.00898902    0.00720565\n",
       " 0.0  -0.0270742    0.149926    -0.0792395       0.0298759     0.0692953\n",
       " 0.0   0.149926    -0.0270742    0.152797        0.0298759     0.0692953\n",
       " 0.0   0.0689792    0.0689792    0.149926       -0.00517579    0.00692666\n",
       " 0.0   0.184116    -0.0699972    0.149926       -0.00871263    0.014647\n",
       " 0.0  -0.0699972    0.184116    -0.0270742   …  -0.00871263    0.014647\n",
       " 0.0   0.149926    -0.0270742    0.231367       -0.0101342    -0.00672855\n",
       " 0.0  -0.0270742    0.149926     0.152797       -0.0101342    -0.00672855\n",
       " ⋮                                           ⋱                \n",
       " 0.0  -0.0434862   -0.0620894   -0.0293605       0.00982305   -0.0435188\n",
       " 0.0   0.0685744    0.00461843   0.00113666      0.0167351     0.0105904\n",
       " 0.0   0.00461843   0.0685744    0.0189578       0.0167351     0.0105904\n",
       " 0.0   0.00198382   0.00697326   0.0101765   …  -0.0289867     0.0181253\n",
       " 0.0   0.00697326   0.00198382  -0.0012947      -0.0289867     0.0181253\n",
       " 0.0   0.0170851    0.0170851   -0.00383022     -0.000558929   0.0497886\n",
       " 0.0   0.00252304   0.00821913   0.00342458      0.0167351     0.0105903\n",
       " 0.0   0.00821913   0.00252304  -0.00966405      0.0167351     0.0105903\n",
       " 0.0   0.00374922   0.00664934  -0.00106868  …  -0.0289865     0.0181253\n",
       " 0.0   0.00664934   0.00374922   0.011607       -0.0289865     0.0181253\n",
       " 0.0  -0.00871263  -0.00871263  -0.0101342       0.0943609     0.0151348\n",
       " 0.0   0.014647     0.014647    -0.00672851      0.0151348     0.13277"
      ]
     },
     "execution_count": 21,
     "metadata": {},
     "output_type": "execute_result"
    }
   ],
   "source": [
    "Q = @time let wd = wd, Ps = [JuMP.value.(P) for P in varP]\n",
    "    Qs = real.(sqrt.(Ps))\n",
    "    PropertyT.reconstruct(Qs, wd)\n",
    "end"
   ]
  },
  {
   "cell_type": "code",
   "execution_count": 22,
   "id": "56d3d482",
   "metadata": {},
   "outputs": [
    {
     "name": "stderr",
     "output_type": "stream",
     "text": [
      "\u001b[36m\u001b[1m[ \u001b[22m\u001b[39m\u001b[36m\u001b[1mInfo: \u001b[22m\u001b[39mcertifying the solution\n",
      "\u001b[36m\u001b[1m┌ \u001b[22m\u001b[39m\u001b[36m\u001b[1mInfo: \u001b[22m\u001b[39mChecking in Float64 arithmetic with\n",
      "\u001b[36m\u001b[1m└ \u001b[22m\u001b[39m  λ = 0.8791635045476334\n"
     ]
    },
    {
     "name": "stdout",
     "output_type": "stream",
     "text": [
      "  0.000639 seconds (6 allocations: 484.656 KiB)\n"
     ]
    },
    {
     "name": "stderr",
     "output_type": "stream",
     "text": [
      "\u001b[36m\u001b[1m┌ \u001b[22m\u001b[39m\u001b[36m\u001b[1mInfo: \u001b[22m\u001b[39mNumerical metrics of the obtained SOS:\n",
      "\u001b[36m\u001b[1m│ \u001b[22m\u001b[39mɛ(elt - λu - ∑ξᵢ*ξᵢ) ≈ -2.2393e-12\n",
      "\u001b[36m\u001b[1m│ \u001b[22m\u001b[39m‖elt - λu - ∑ξᵢ*ξᵢ‖₁ ≈ 3.44416e-7\n",
      "\u001b[36m\u001b[1m└ \u001b[22m\u001b[39m λ ≈ 0.879162126883405\n",
      "\u001b[36m\u001b[1m┌ \u001b[22m\u001b[39m\u001b[36m\u001b[1mInfo: \u001b[22m\u001b[39mChecking in Interval{Float64} arithmetic with\n",
      "\u001b[36m\u001b[1m└ \u001b[22m\u001b[39m  λ_int = [0.879163, 0.879164]\n"
     ]
    },
    {
     "name": "stdout",
     "output_type": "stream",
     "text": [
      "  0.303985 seconds (225.64 k allocations: 22.970 MiB, 8.95% gc time, 98.24% compilation time)\n"
     ]
    },
    {
     "name": "stderr",
     "output_type": "stream",
     "text": [
      "\u001b[36m\u001b[1m┌ \u001b[22m\u001b[39m\u001b[36m\u001b[1mInfo: \u001b[22m\u001b[39mNumerical metrics of the obtained SOS:\n",
      "\u001b[36m\u001b[1m│ \u001b[22m\u001b[39mɛ(elt - λu - ∑ξᵢ*ξᵢ) ∈ [-7.03357e-10, 7.12468e-10]\n",
      "\u001b[36m\u001b[1m│ \u001b[22m\u001b[39m‖elt - λu - ∑ξᵢ*ξᵢ‖₁ ∈ [3.43701e-07, 3.45118e-07]\n",
      "\u001b[36m\u001b[1m└ \u001b[22m\u001b[39m λ ∈ [0.879162, 0.879163]\n",
      "\u001b[36m\u001b[1m┌ \u001b[22m\u001b[39m\u001b[36m\u001b[1mInfo: \u001b[22m\u001b[39mCertified result: Sp_{4}(ℤ) has property (T)\n",
      "\u001b[36m\u001b[1m└ \u001b[22m\u001b[39m  PropertyT.IntervalArithmetic.inf(λ) = 0.8791621240787585\n"
     ]
    }
   ],
   "source": [
    "@info \"certifying the solution\"\n",
    "certified, λ = PropertyT.certify_solution(\n",
    "    Δ^2,\n",
    "    Δ,\n",
    "    JuMP.objective_value(model),\n",
    "    Q;\n",
    "    halfradius = HALFRADIUS,\n",
    "    augmented = true,\n",
    ")\n",
    "\n",
    "if certified && λ > 0\n",
    "    @info \"Certified result: Sp_{$(2N)}(ℤ) has property (T)\" PropertyT.IntervalArithmetic.inf(λ)\n",
    "else\n",
    "    @info \"Could NOT certify the Property(T) for Sp_{$(2N)}(ℤ)\" certified λ\n",
    "end"
   ]
  },
  {
   "cell_type": "markdown",
   "id": "97a55781",
   "metadata": {},
   "source": [
    "# Levels in $\\operatorname{Sp}_{6}(\\mathbb{Z})$"
   ]
  },
  {
   "cell_type": "markdown",
   "id": "bd54f76b",
   "metadata": {},
   "source": [
    "We wish here to prove\n",
    "> **Theorem 3.15**: Let $G= \\operatorname{Sp}_{6}(\\mathbb{Z})$ be the universal Chevalley group over $\\mathbb{Z}$ of type $\\texttt{C}_\\texttt{3}$ endowed with the set of Steinberg generators $S$. Let $V$ denote the ambient vector space of the root system. Then for $\\lambda=2.41212$ we have\n",
    ">\n",
    ">$$ \\operatorname{Lev}_2^3 + \\operatorname{Lev}_3^3 -\\lambda \\Delta_V = \\sum \\xi_i^* \\xi_i$$\n",
    ">\n",
    ">for some $\\xi_i\\in \\mathbb{R}G$ supported inside $\\operatorname{Ball}(S, 2)$."
   ]
  },
  {
   "cell_type": "code",
   "execution_count": 23,
   "id": "0f28a49b",
   "metadata": {},
   "outputs": [
    {
     "data": {
      "text/plain": [
       "group of 6×6 symplectic matrices"
      ]
     },
     "execution_count": 23,
     "metadata": {},
     "output_type": "execute_result"
    }
   ],
   "source": [
    "N = 3\n",
    "G = MatrixGroups.SymplecticGroup{2*N}(Int8)"
   ]
  },
  {
   "cell_type": "code",
   "execution_count": 24,
   "id": "7a385167",
   "metadata": {},
   "outputs": [
    {
     "name": "stderr",
     "output_type": "stream",
     "text": [
      "\u001b[36m\u001b[1m[ \u001b[22m\u001b[39m\u001b[36m\u001b[1mInfo: \u001b[22m\u001b[39mgenerating wl-metric ball of radius 4\n"
     ]
    },
    {
     "name": "stdout",
     "output_type": "stream",
     "text": [
      "  1.359282 seconds (12.08 M allocations: 598.559 MiB, 18.87% gc time)\n"
     ]
    },
    {
     "name": "stderr",
     "output_type": "stream",
     "text": [
      "\u001b[36m\u001b[1m[ \u001b[22m\u001b[39m\u001b[36m\u001b[1mInfo: \u001b[22m\u001b[39msizes = [37, 961, 21183, 424899]\n",
      "\u001b[36m\u001b[1m[ \u001b[22m\u001b[39m\u001b[36m\u001b[1mInfo: \u001b[22m\u001b[39mcomputing the *-algebra structure for G\n"
     ]
    },
    {
     "name": "stdout",
     "output_type": "stream",
     "text": [
      "  0.180161 seconds (1.69 M allocations: 94.108 MiB)\n",
      "  2.094619 seconds (14.78 M allocations: 759.727 MiB, 12.25% gc time, 26.46% compilation time)\n"
     ]
    }
   ],
   "source": [
    "HALFRADIUS = 2\n",
    "RG, S, sizes = @time PropertyT.group_algebra(G, halfradius = HALFRADIUS);"
   ]
  },
  {
   "cell_type": "code",
   "execution_count": 25,
   "id": "16748495",
   "metadata": {},
   "outputs": [
    {
     "data": {
      "text/plain": [
       "36-element Vector{FPGroupElement{Groups.MatrixGroups.SymplecticGroup{6, Int8, DataType, Groups.MatrixGroups.ElementarySymplectic{6, Int8}}, KnuthBendix.Words.Word{UInt8}}}:\n",
       " A₁.₂\n",
       " A₁.₃\n",
       " A₂.₁\n",
       " A₂.₃\n",
       " A₃.₁\n",
       " A₃.₂\n",
       " B₄.₁\n",
       " B₅.₂\n",
       " B₆.₃\n",
       " B₄.₂\n",
       " B₄.₃\n",
       " B₅.₃\n",
       " B₁.₄\n",
       " ⋮\n",
       " B₄.₁^-1\n",
       " B₅.₂^-1\n",
       " B₆.₃^-1\n",
       " B₄.₂^-1\n",
       " B₄.₃^-1\n",
       " B₅.₃^-1\n",
       " B₁.₄^-1\n",
       " B₂.₅^-1\n",
       " B₃.₆^-1\n",
       " B₂.₄^-1\n",
       " B₃.₄^-1\n",
       " B₃.₅^-1"
      ]
     },
     "execution_count": 25,
     "metadata": {},
     "output_type": "execute_result"
    }
   ],
   "source": [
    "S"
   ]
  },
  {
   "cell_type": "code",
   "execution_count": 26,
   "id": "81dc230f",
   "metadata": {},
   "outputs": [
    {
     "data": {
      "text/plain": [
       "36·(id) -1·A₁.₂ -1·A₁.₃ -1·A₂.₁ -1·A₂.₃ -1·A₃.₁ -1·A₃.₂ -1·B₄.₁ -1·B₅.₂ -1·B₆.₃ -1·B₄.₂ -1·B₄.₃ -1·B₅.₃ -1·B₁.₄ -1·B₂.₅ -1·B₃.₆ -1·B₂.₄ -1·B₃.₄ -1·B₃.₅ -1·A₁.₂^-1 -1·A₁.₃^-1 -1·A₂.₁^-1 -1·A₂.₃^-1 -1·A₃.₁^-1 -1·A₃.₂^-1 -1·B₄.₁^-1 -1·B₅.₂^-1 -1·B₆.₃^-1 -1·B₄.₂^-1 -1·B₄.₃^-1 -1·B₅.₃^-1 -1·B₁.₄^-1 -1·B₂.₅^-1 -1·B₃.₆^-1 -1·B₂.₄^-1 -1·B₃.₄^-1 -1·B₃.₅^-1"
      ]
     },
     "execution_count": 26,
     "metadata": {},
     "output_type": "execute_result"
    }
   ],
   "source": [
    "Δ = RG(length(S)) - sum(RG(s) for s in S)"
   ]
  },
  {
   "cell_type": "markdown",
   "id": "d6990deb",
   "metadata": {},
   "source": [
    "## Grading\n",
    "\n",
    "Let us define a $\\texttt{C}_\\texttt{2}$ grading for $(G, S)$. That is, to every generator $s \\in S$ we need to assign a root in $\\texttt{C}_\\texttt{2}$ in a compatible fashion. For a precise description of this grading see **Example 3.2 (2)**.  "
   ]
  },
  {
   "cell_type": "code",
   "execution_count": 27,
   "id": "a538b31e",
   "metadata": {},
   "outputs": [
    {
     "data": {
      "text/plain": [
       "A₁.₂ ∈ Sp{6,Int8}\n",
       " 1  1  0   0  0  0\n",
       " 0  1  0   0  0  0\n",
       " 0  0  1   0  0  0\n",
       " 0  0  0   1  0  0\n",
       " 0  0  0  -1  1  0\n",
       " 0  0  0   0  0  1"
      ]
     },
     "execution_count": 27,
     "metadata": {},
     "output_type": "execute_result"
    }
   ],
   "source": [
    "g = gens(G, 1)"
   ]
  },
  {
   "cell_type": "code",
   "execution_count": 28,
   "id": "fe79cf96",
   "metadata": {},
   "outputs": [
    {
     "data": {
      "text/plain": [
       "Root in ℝ^3 of length √2\n",
       "[1, -1, 0]"
      ]
     },
     "execution_count": 28,
     "metadata": {},
     "output_type": "execute_result"
    }
   ],
   "source": [
    "PropertyT.grading(g)"
   ]
  },
  {
   "cell_type": "code",
   "execution_count": 29,
   "id": "75a4f49f",
   "metadata": {},
   "outputs": [
    {
     "data": {
      "text/plain": [
       "B₄.₁ ∈ Sp{6,Int8}\n",
       " 1  0  0  0  0  0\n",
       " 0  1  0  0  0  0\n",
       " 0  0  1  0  0  0\n",
       " 1  0  0  1  0  0\n",
       " 0  0  0  0  1  0\n",
       " 0  0  0  0  0  1"
      ]
     },
     "execution_count": 29,
     "metadata": {},
     "output_type": "execute_result"
    }
   ],
   "source": [
    "g = gens(G, 7)"
   ]
  },
  {
   "cell_type": "code",
   "execution_count": 30,
   "id": "6e3102a9",
   "metadata": {},
   "outputs": [
    {
     "data": {
      "text/plain": [
       "Root in ℝ^3 of length 2\n",
       "[-2, 0, 0]"
      ]
     },
     "execution_count": 30,
     "metadata": {},
     "output_type": "execute_result"
    }
   ],
   "source": [
    "PropertyT.grading(g)"
   ]
  },
  {
   "cell_type": "code",
   "execution_count": 31,
   "id": "7eda3152",
   "metadata": {},
   "outputs": [
    {
     "data": {
      "text/plain": [
       "B₄.₂ ∈ Sp{6,Int8}\n",
       " 1  0  0  0  0  0\n",
       " 0  1  0  0  0  0\n",
       " 0  0  1  0  0  0\n",
       " 0  1  0  1  0  0\n",
       " 1  0  0  0  1  0\n",
       " 0  0  0  0  0  1"
      ]
     },
     "execution_count": 31,
     "metadata": {},
     "output_type": "execute_result"
    }
   ],
   "source": [
    "g = gens(G, 10)"
   ]
  },
  {
   "cell_type": "code",
   "execution_count": 32,
   "id": "cf9200ee",
   "metadata": {},
   "outputs": [
    {
     "data": {
      "text/plain": [
       "Root in ℝ^3 of length √2\n",
       "[-1, -1, 0]"
      ]
     },
     "execution_count": 32,
     "metadata": {},
     "output_type": "execute_result"
    }
   ],
   "source": [
    "PropertyT.grading(g)"
   ]
  },
  {
   "cell_type": "code",
   "execution_count": 33,
   "id": "9eba8b59",
   "metadata": {},
   "outputs": [],
   "source": [
    "Δs = PropertyT.laplacians(\n",
    "    RG,\n",
    "    S,\n",
    "    x -> (gx = PropertyT.grading(x); Set([gx, -gx])),\n",
    ");"
   ]
  },
  {
   "cell_type": "markdown",
   "id": "8d5854d6",
   "metadata": {},
   "source": [
    "According to **Definition 3.13** we define $\\operatorname{Lev}_2^3$ as follows (note: `PropertyT.Adj(Δs, :A₁)` stands here for short squares)."
   ]
  },
  {
   "cell_type": "code",
   "execution_count": 34,
   "id": "928e506e",
   "metadata": {},
   "outputs": [
    {
     "data": {
      "text/plain": [
       "696·(id) -32·A₁.₂ -32·A₁.₃ -32·A₂.₁ -32·A₂.₃ -32·A₃.₁ -32·A₃.₂ -48·B₄.₁ -48·B₅.₂ -48·B₆.₃ -32·B₄.₂ -32·B₄.₃ -32·B₅.₃ -48·B₁.₄ -48·B₂.₅ -48·B₃.₆ -32·B₂.₄ -32·B₃.₄ -32·B₃.₅ -32·A₁.₂^-1 -32·A₁.₃^-1 -32·A₂.₁^-1 -32·A₂.₃^-1 -32·A₃.₁^-1 -32·A₃.₂^-1 -48·B₄.₁^-1 -48·B₅.₂^-1 -48·B₆.₃^-1 -32·B₄.₂^-1 -32·B₄.₃^-1 -32·B₅.₃^-1 -48·B₁.₄^-1 -48·B₂.₅^-1 -48·B₃.₆^-1 -32·B₂.₄^-1 -32·B₃.₄^-1 -32·B₃.₅^-1 +1·A₁.₂^2 +1·A₁.₂*A₂.₁ +1·A₁.₂*B₄.₁ +2·A₁.₂*B₅.₂ +1·A₁.₂*B₄.₂ +2·A₁.₂*B₁.₄ +1·A₁.₂*B₂.₅ +1·A₁.₂*B₂.₄ +1·A₁.₂*A₂.₁^-1 +1·A₁.₂*B₄.₁^-1 +2·A₁.₂*B₅.₂^-1 +1·A₁.₂*B₄.₂^-1 +2·A₁.₂*B₁.₄^-1 +1·A₁.₂*B₂.₅^-1 +1·A₁.₂*B₂.₄^-1 +1·A₁.₃^2 +1·A₁.₃*A₃.₁ +1·A₁.₃*B₄.₁ +2·A₁.₃*B₆.₃ +1·A₁.₃*B₄.₃ +2·A₁.₃*B₁.₄ +1·A₁.₃*B₃.₆ +1·A₁.₃*B₃.₄ +1·A₁.₃*A₃.₁^-1 +1·A₁.₃*B₄.₁^-1 +2·A₁.₃*B₆.₃^-1 +1·A₁.₃*B₄.₃^-1 +2·A₁.₃*B₁.₄^-1 +1·A₁.₃*B₃.₆^-1 +1·A₁.₃*B₃.₄^-1 +1·A₂.₁*A₁.₂ +1·A₂.₁^2 +2·A₂.₁*B₄.₁ +1·A₂.₁*B₅.₂ +1·A₂.₁*B₄.₂ +1·A₂.₁*B₁.₄ +2·A₂.₁*B₂.₅ +1·A₂.₁*B₂.₄ +1·A₂.₁*A₁.₂^-1 +2·A₂.₁*B₄.₁^-1 +1·A₂.₁*B₅.₂^-1 +1·A₂.₁*B₄.₂^-1 +1·A₂.₁*B₁.₄^-1 +2·A₂.₁*B₂.₅^-1 +1·A₂.₁*B₂.₄^-1 +1·A₂.₃^2 +1·A₂.₃*A₃.₂ +1·A₂.₃*B₅.₂ +2·A₂.₃*B₆.₃ +1·A₂.₃*B₅.₃ +2·A₂.₃*B₂.₅ +1·A₂.₃*B₃.₆ +1·A₂.₃*B₃.₅ +1·A₂.₃*A₃.₂^-1 +1·A₂.₃*B₅.₂^-1 +2·A₂.₃*B₆.₃^-1 +1·A₂.₃*B₅.₃^-1 +2·A₂.₃*B₂.₅^-1 +1·A₂.₃*B₃.₆^-1 +1·A₂.₃*B₃.₅^-1 +1·A₃.₁*A₁.₃ +1·A₃.₁^2 +2·A₃.₁*B₄.₁ +1·A₃.₁*B₆.₃ +1·A₃.₁*B₄.₃ +1·A₃.₁*B₁.₄ +2·A₃.₁*B₃.₆ +1·A₃.₁*B₃.₄ +1·A₃.₁*A₁.₃^-1 +2·A₃.₁*B₄.₁^-1 +1·A₃.₁*B₆.₃^-1 +1·A₃.₁*B₄.₃^-1 +1·A₃.₁*B₁.₄^-1 +2·A₃.₁*B₃.₆^-1 +1·A₃.₁*B₃.₄^-1 +1·A₃.₂*A₂.₃ +1·A₃.₂^2 +2·A₃.₂*B₅.₂ +1·A₃.₂*B₆.₃ +1·A₃.₂*B₅.₃ +1·A₃.₂*B₂.₅ +2·A₃.₂*B₃.₆ +1·A₃.₂*B₃.₅ +1·A₃.₂*A₂.₃^-1 +2·A₃.₂*B₅.₂^-1 +1·A₃.₂*B₆.₃^-1 +1·A₃.₂*B₅.₃^-1 +1·A₃.₂*B₂.₅^-1 +2·A₃.₂*B₃.₆^-1 +1·A₃.₂*B₃.₅^-1 +1·B₄.₁*A₁.₂ +1·B₄.₁*A₁.₃ +2·B₄.₁*B₅.₂ +2·B₄.₁*B₆.₃ +2·B₄.₁*B₄.₂ +2·B₄.₁*B₄.₃ +2·B₄.₁*B₂.₅ +2·B₄.₁*B₃.₆ +1·B₄.₁*B₂.₄ +1·B₄.₁*B₃.₄ +1·B₄.₁*A₁.₂^-1 +1·B₄.₁*A₁.₃^-1 +2·B₄.₁*A₂.₁^-1 +2·B₄.₁*A₃.₁^-1 +2·B₄.₁*B₅.₂^-1 +2·B₄.₁*B₆.₃^-1 +2·B₄.₁*B₄.₂^-1 +2·B₄.₁*B₄.₃^-1 +2·B₄.₁*B₂.₅^-1 +2·B₄.₁*B₃.₆^-1 +1·B₄.₁*B₂.₄^-1 +1·B₄.₁*B₃.₄^-1 +1·B₅.₂*A₂.₁ +1·B₅.₂*A₂.₃ +2·B₅.₂*B₆.₃ +2·B₅.₂*B₄.₂ +2·B₅.₂*B₅.₃ +2·B₅.₂*B₁.₄ +2·B₅.₂*B₃.₆ +1·B₅.₂*B₂.₄ +1·B₅.₂*B₃.₅ +2·B₅.₂*A₁.₂^-1 +1·B₅.₂*A₂.₁^-1 +1·B₅.₂*A₂.₃^-1 +2·B₅.₂*A₃.₂^-1 +2·B₅.₂*B₄.₁^-1 +2·B₅.₂*B₆.₃^-1 +2·B₅.₂*B₄.₂^-1 +2·B₅.₂*B₅.₃^-1 +2·B₅.₂*B₁.₄^-1 +2·B₅.₂*B₃.₆^-1 +1·B₅.₂*B₂.₄^-1 +1·B₅.₂*B₃.₅^-1 +1·B₆.₃*A₃.₁ +1·B₆.₃*A₃.₂ +2·B₆.₃*B₄.₃ +2·B₆.₃*B₅.₃ +2·B₆.₃*B₁.₄ +2·B₆.₃*B₂.₅ +1·B₆.₃*B₃.₄ +1·B₆.₃*B₃.₅ +2·B₆.₃*A₁.₃^-1 +2·B₆.₃*A₂.₃^-1 +1·B₆.₃*A₃.₁^-1 +1·B₆.₃*A₃.₂^-1 +2·B₆.₃*B₄.₁^-1 +2·B₆.₃*B₅.₂^-1 +2·B₆.₃*B₄.₃^-1 +2·B₆.₃*B₅.₃^-1 +2·B₆.₃*B₁.₄^-1 +2·B₆.₃*B₂.₅^-1 +1·B₆.₃*B₃.₄^-1 +1·B₆.₃*B₃.₅^-1 +1·B₄.₂*A₁.₂ +1·B₄.₂*A₂.₁ +1·B₄.₂^2 +1·B₄.₂*B₁.₄ +1·B₄.₂*B₂.₅ +1·B₄.₂*B₂.₄ +1·B₄.₂*A₁.₂^-1 +1·B₄.₂*A₂.₁^-1 +2·B₄.₂*B₄.₁^-1 +2·B₄.₂*B₅.₂^-1 +1·B₄.₂*B₁.₄^-1 +1·B₄.₂*B₂.₅^-1 +1·B₄.₂*B₂.₄^-1 +1·B₄.₃*A₁.₃ +1·B₄.₃*A₃.₁ +1·B₄.₃^2 +1·B₄.₃*B₁.₄ +1·B₄.₃*B₃.₆ +1·B₄.₃*B₃.₄ +1·B₄.₃*A₁.₃^-1 +1·B₄.₃*A₃.₁^-1 +2·B₄.₃*B₄.₁^-1 +2·B₄.₃*B₆.₃^-1 +1·B₄.₃*B₁.₄^-1 +1·B₄.₃*B₃.₆^-1 +1·B₄.₃*B₃.₄^-1 +1·B₅.₃*A₂.₃ +1·B₅.₃*A₃.₂ +1·B₅.₃^2 +1·B₅.₃*B₂.₅ +1·B₅.₃*B₃.₆ +1·B₅.₃*B₃.₅ +1·B₅.₃*A₂.₃^-1 +1·B₅.₃*A₃.₂^-1 +2·B₅.₃*B₅.₂^-1 +2·B₅.₃*B₆.₃^-1 +1·B₅.₃*B₂.₅^-1 +1·B₅.₃*B₃.₆^-1 +1·B₅.₃*B₃.₅^-1 +1·B₁.₄*A₂.₁ +1·B₁.₄*A₃.₁ +1·B₁.₄*B₄.₂ +1·B₁.₄*B₄.₃ +2·B₁.₄*B₂.₅ +2·B₁.₄*B₃.₆ +2·B₁.₄*B₂.₄ +2·B₁.₄*B₃.₄ +2·B₁.₄*A₁.₂^-1 +2·B₁.₄*A₁.₃^-1 +1·B₁.₄*A₂.₁^-1 +1·B₁.₄*A₃.₁^-1 +2·B₁.₄*B₅.₂^-1 +2·B₁.₄*B₆.₃^-1 +1·B₁.₄*B₄.₂^-1 +1·B₁.₄*B₄.₃^-1 +2·B₁.₄*B₂.₅^-1 +2·B₁.₄*B₃.₆^-1 +2·B₁.₄*B₂.₄^-1 +2·B₁.₄*B₃.₄^-1 +1·B₂.₅*A₁.₂ +1·B₂.₅*A₃.₂ +1·B₂.₅*B₄.₂ +1·B₂.₅*B₅.₃ +2·B₂.₅*B₃.₆ +2·B₂.₅*B₂.₄ +2·B₂.₅*B₃.₅ +1·B₂.₅*A₁.₂^-1 +2·B₂.₅*A₂.₁^-1 +2·B₂.₅*A₂.₃^-1 +1·B₂.₅*A₃.₂^-1 +2·B₂.₅*B₄.₁^-1 +2·B₂.₅*B₆.₃^-1 +1·B₂.₅*B₄.₂^-1 +1·B₂.₅*B₅.₃^-1 +2·B₂.₅*B₁.₄^-1 +2·B₂.₅*B₃.₆^-1 +2·B₂.₅*B₂.₄^-1 +2·B₂.₅*B₃.₅^-1 +1·B₃.₆*A₁.₃ +1·B₃.₆*A₂.₃ +1·B₃.₆*B₄.₃ +1·B₃.₆*B₅.₃ +2·B₃.₆*B₃.₄ +2·B₃.₆*B₃.₅ +1·B₃.₆*A₁.₃^-1 +1·B₃.₆*A₂.₃^-1 +2·B₃.₆*A₃.₁^-1 +2·B₃.₆*A₃.₂^-1 +2·B₃.₆*B₄.₁^-1 +2·B₃.₆*B₅.₂^-1 +1·B₃.₆*B₄.₃^-1 +1·B₃.₆*B₅.₃^-1 +2·B₃.₆*B₁.₄^-1 +2·B₃.₆*B₂.₅^-1 +2·B₃.₆*B₃.₄^-1 +2·B₃.₆*B₃.₅^-1 +1·B₂.₄*A₁.₂ +1·B₂.₄*A₂.₁ +1·B₂.₄*B₄.₁ +1·B₂.₄*B₅.₂ +1·B₂.₄*B₄.₂ +1·B₂.₄^2 +1·B₂.₄*A₁.₂^-1 +1·B₂.₄*A₂.₁^-1 +1·B₂.₄*B₄.₁^-1 +1·B₂.₄*B₅.₂^-1 +1·B₂.₄*B₄.₂^-1 +2·B₂.₄*B₁.₄^-1 +2·B₂.₄*B₂.₅^-1 +1·B₃.₄*A₁.₃ +1·B₃.₄*A₃.₁ +1·B₃.₄*B₄.₁ +1·B₃.₄*B₆.₃ +1·B₃.₄*B₄.₃ +1·B₃.₄^2 +1·B₃.₄*A₁.₃^-1 +1·B₃.₄*A₃.₁^-1 +1·B₃.₄*B₄.₁^-1 +1·B₃.₄*B₆.₃^-1 +1·B₃.₄*B₄.₃^-1 +2·B₃.₄*B₁.₄^-1 +2·B₃.₄*B₃.₆^-1 +1·B₃.₅*A₂.₃ +1·B₃.₅*A₃.₂ +1·B₃.₅*B₅.₂ +1·B₃.₅*B₆.₃ +1·B₃.₅*B₅.₃ +1·B₃.₅^2 +1·B₃.₅*A₂.₃^-1 +1·B₃.₅*A₃.₂^-1 +1·B₃.₅*B₅.₂^-1 +1·B₃.₅*B₆.₃^-1 +1·B₃.₅*B₅.₃^-1 +2·B₃.₅*B₂.₅^-1 +2·B₃.₅*B₃.₆^-1 +1·A₁.₂^-1*A₂.₁ +1·A₁.₂^-1*B₄.₁ +1·A₁.₂^-1*B₄.₂ +1·A₁.₂^-1*B₂.₅ +1·A₁.₂^-1*B₂.₄ +1·A₁.₂^-2 +1·A₁.₂^-1*A₂.₁^-1 +1·A₁.₂^-1*B₄.₁^-1 +2·A₁.₂^-1*B₅.₂^-1 +1·A₁.₂^-1*B₄.₂^-1 +2·A₁.₂^-1*B₁.₄^-1 +1·A₁.₂^-1*B₂.₅^-1 +1·A₁.₂^-1*B₂.₄^-1 +1·A₁.₃^-1*A₃.₁ +1·A₁.₃^-1*B₄.₁ +1·A₁.₃^-1*B₄.₃ +1·A₁.₃^-1*B₃.₆ +1·A₁.₃^-1*B₃.₄ +1·A₁.₃^-2 +1·A₁.₃^-1*A₃.₁^-1 +1·A₁.₃^-1*B₄.₁^-1 +2·A₁.₃^-1*B₆.₃^-1 +1·A₁.₃^-1*B₄.₃^-1 +2·A₁.₃^-1*B₁.₄^-1 +1·A₁.₃^-1*B₃.₆^-1 +1·A₁.₃^-1*B₃.₄^-1 +1·A₂.₁^-1*A₁.₂ +1·A₂.₁^-1*B₅.₂ +1·A₂.₁^-1*B₄.₂ +1·A₂.₁^-1*B₁.₄ +1·A₂.₁^-1*B₂.₄ +1·A₂.₁^-1*A₁.₂^-1 +1·A₂.₁^-2 +2·A₂.₁^-1*B₄.₁^-1 +1·A₂.₁^-1*B₅.₂^-1 +1·A₂.₁^-1*B₄.₂^-1 +1·A₂.₁^-1*B₁.₄^-1 +2·A₂.₁^-1*B₂.₅^-1 +1·A₂.₁^-1*B₂.₄^-1 +1·A₂.₃^-1*A₃.₂ +1·A₂.₃^-1*B₅.₂ +1·A₂.₃^-1*B₅.₃ +1·A₂.₃^-1*B₃.₆ +1·A₂.₃^-1*B₃.₅ +1·A₂.₃^-2 +1·A₂.₃^-1*A₃.₂^-1 +1·A₂.₃^-1*B₅.₂^-1 +2·A₂.₃^-1*B₆.₃^-1 +1·A₂.₃^-1*B₅.₃^-1 +2·A₂.₃^-1*B₂.₅^-1 +1·A₂.₃^-1*B₃.₆^-1 +1·A₂.₃^-1*B₃.₅^-1 +1·A₃.₁^-1*A₁.₃ +1·A₃.₁^-1*B₆.₃ +1·A₃.₁^-1*B₄.₃ +1·A₃.₁^-1*B₁.₄ +1·A₃.₁^-1*B₃.₄ +1·A₃.₁^-1*A₁.₃^-1 +1·A₃.₁^-2 +2·A₃.₁^-1*B₄.₁^-1 +1·A₃.₁^-1*B₆.₃^-1 +1·A₃.₁^-1*B₄.₃^-1 +1·A₃.₁^-1*B₁.₄^-1 +2·A₃.₁^-1*B₃.₆^-1 +1·A₃.₁^-1*B₃.₄^-1 +1·A₃.₂^-1*A₂.₃ +1·A₃.₂^-1*B₆.₃ +1·A₃.₂^-1*B₅.₃ +1·A₃.₂^-1*B₂.₅ +1·A₃.₂^-1*B₃.₅ +1·A₃.₂^-1*A₂.₃^-1 +1·A₃.₂^-2 +2·A₃.₂^-1*B₅.₂^-1 +1·A₃.₂^-1*B₆.₃^-1 +1·A₃.₂^-1*B₅.₃^-1 +1·A₃.₂^-1*B₂.₅^-1 +2·A₃.₂^-1*B₃.₆^-1 +1·A₃.₂^-1*B₃.₅^-1 +1·B₄.₁^-1*A₁.₂ +1·B₄.₁^-1*A₁.₃ +1·B₄.₁^-1*B₂.₄ +1·B₄.₁^-1*B₃.₄ +1·B₄.₁^-1*A₁.₂^-1 +1·B₄.₁^-1*A₁.₃^-1 +2·B₄.₁^-1*B₅.₂^-1 +2·B₄.₁^-1*B₆.₃^-1 +2·B₄.₁^-1*B₄.₂^-1 +2·B₄.₁^-1*B₄.₃^-1 +2·B₄.₁^-1*B₂.₅^-1 +2·B₄.₁^-1*B₃.₆^-1 +1·B₄.₁^-1*B₂.₄^-1 +1·B₄.₁^-1*B₃.₄^-1 +1·B₅.₂^-1*A₂.₁ +1·B₅.₂^-1*A₂.₃ +1·B₅.₂^-1*B₂.₄ +1·B₅.₂^-1*B₃.₅ +1·B₅.₂^-1*A₂.₁^-1 +1·B₅.₂^-1*A₂.₃^-1 +2·B₅.₂^-1*B₆.₃^-1 +2·B₅.₂^-1*B₄.₂^-1 +2·B₅.₂^-1*B₅.₃^-1 +2·B₅.₂^-1*B₁.₄^-1 +2·B₅.₂^-1*B₃.₆^-1 +1·B₅.₂^-1*B₂.₄^-1 +1·B₅.₂^-1*B₃.₅^-1 +1·B₆.₃^-1*A₃.₁ +1·B₆.₃^-1*A₃.₂ +1·B₆.₃^-1*B₃.₄ +1·B₆.₃^-1*B₃.₅ +1·B₆.₃^-1*A₃.₁^-1 +1·B₆.₃^-1*A₃.₂^-1 +2·B₆.₃^-1*B₄.₃^-1 +2·B₆.₃^-1*B₅.₃^-1 +2·B₆.₃^-1*B₁.₄^-1 +2·B₆.₃^-1*B₂.₅^-1 +1·B₆.₃^-1*B₃.₄^-1 +1·B₆.₃^-1*B₃.₅^-1 +1·B₄.₂^-1*A₁.₂ +1·B₄.₂^-1*A₂.₁ +1·B₄.₂^-1*B₁.₄ +1·B₄.₂^-1*B₂.₅ +1·B₄.₂^-1*B₂.₄ +1·B₄.₂^-1*A₁.₂^-1 +1·B₄.₂^-1*A₂.₁^-1 +1·B₄.₂^-2 +1·B₄.₂^-1*B₁.₄^-1 +1·B₄.₂^-1*B₂.₅^-1 +1·B₄.₂^-1*B₂.₄^-1 +1·B₄.₃^-1*A₁.₃ +1·B₄.₃^-1*A₃.₁ +1·B₄.₃^-1*B₁.₄ +1·B₄.₃^-1*B₃.₆ +1·B₄.₃^-1*B₃.₄ +1·B₄.₃^-1*A₁.₃^-1 +1·B₄.₃^-1*A₃.₁^-1 +1·B₄.₃^-2 +1·B₄.₃^-1*B₁.₄^-1 +1·B₄.₃^-1*B₃.₆^-1 +1·B₄.₃^-1*B₃.₄^-1 +1·B₅.₃^-1*A₂.₃ +1·B₅.₃^-1*A₃.₂ +1·B₅.₃^-1*B₂.₅ +1·B₅.₃^-1*B₃.₆ +1·B₅.₃^-1*B₃.₅ +1·B₅.₃^-1*A₂.₃^-1 +1·B₅.₃^-1*A₃.₂^-1 +1·B₅.₃^-2 +1·B₅.₃^-1*B₂.₅^-1 +1·B₅.₃^-1*B₃.₆^-1 +1·B₅.₃^-1*B₃.₅^-1 +1·B₁.₄^-1*A₂.₁ +1·B₁.₄^-1*A₃.₁ +1·B₁.₄^-1*B₄.₂ +1·B₁.₄^-1*B₄.₃ +1·B₁.₄^-1*A₂.₁^-1 +1·B₁.₄^-1*A₃.₁^-1 +1·B₁.₄^-1*B₄.₂^-1 +1·B₁.₄^-1*B₄.₃^-1 +2·B₁.₄^-1*B₂.₅^-1 +2·B₁.₄^-1*B₃.₆^-1 +2·B₁.₄^-1*B₂.₄^-1 +2·B₁.₄^-1*B₃.₄^-1 +1·B₂.₅^-1*A₁.₂ +1·B₂.₅^-1*A₃.₂ +1·B₂.₅^-1*B₄.₂ +1·B₂.₅^-1*B₅.₃ +1·B₂.₅^-1*A₁.₂^-1 +1·B₂.₅^-1*A₃.₂^-1 +1·B₂.₅^-1*B₄.₂^-1 +1·B₂.₅^-1*B₅.₃^-1 +2·B₂.₅^-1*B₃.₆^-1 +2·B₂.₅^-1*B₂.₄^-1 +2·B₂.₅^-1*B₃.₅^-1 +1·B₃.₆^-1*A₁.₃ +1·B₃.₆^-1*A₂.₃ +1·B₃.₆^-1*B₄.₃ +1·B₃.₆^-1*B₅.₃ +1·B₃.₆^-1*A₁.₃^-1 +1·B₃.₆^-1*A₂.₃^-1 +1·B₃.₆^-1*B₄.₃^-1 +1·B₃.₆^-1*B₅.₃^-1 +2·B₃.₆^-1*B₃.₄^-1 +2·B₃.₆^-1*B₃.₅^-1 +1·B₂.₄^-1*A₁.₂ +1·B₂.₄^-1*A₂.₁ +1·B₂.₄^-1*B₄.₁ +1·B₂.₄^-1*B₅.₂ +1·B₂.₄^-1*B₄.₂ +1·B₂.₄^-1*A₁.₂^-1 +1·B₂.₄^-1*A₂.₁^-1 +1·B₂.₄^-1*B₄.₁^-1 +1·B₂.₄^-1*B₅.₂^-1 +1·B₂.₄^-1*B₄.₂^-1 +1·B₂.₄^-2 +1·B₃.₄^-1*A₁.₃ +1·B₃.₄^-1*A₃.₁ +1·B₃.₄^-1*B₄.₁ +1·B₃.₄^-1*B₆.₃ +1·B₃.₄^-1*B₄.₃ +1·B₃.₄^-1*A₁.₃^-1 +1·B₃.₄^-1*A₃.₁^-1 +1·B₃.₄^-1*B₄.₁^-1 +1·B₃.₄^-1*B₆.₃^-1 +1·B₃.₄^-1*B₄.₃^-1 +1·B₃.₄^-2 +1·B₃.₅^-1*A₂.₃ +1·B₃.₅^-1*A₃.₂ +1·B₃.₅^-1*B₅.₂ +1·B₃.₅^-1*B₆.₃ +1·B₃.₅^-1*B₅.₃ +1·B₃.₅^-1*A₂.₃^-1 +1·B₃.₅^-1*A₃.₂^-1 +1·B₃.₅^-1*B₅.₂^-1 +1·B₃.₅^-1*B₆.₃^-1 +1·B₃.₅^-1*B₅.₃^-1 +1·B₃.₅^-2"
      ]
     },
     "execution_count": 34,
     "metadata": {},
     "output_type": "execute_result"
    }
   ],
   "source": [
    "Lev₂³ = PropertyT.Adj(Δs, :A₁) + PropertyT.Adj(Δs, :C₂)"
   ]
  },
  {
   "cell_type": "code",
   "execution_count": 35,
   "id": "b0015923",
   "metadata": {
    "scrolled": true
   },
   "outputs": [
    {
     "data": {
      "text/plain": [
       "576·(id) -40·A₁.₂ -40·A₁.₃ -40·A₂.₁ -40·A₂.₃ -40·A₃.₁ -40·A₃.₂ -16·B₄.₁ -16·B₅.₂ -16·B₆.₃ -40·B₄.₂ -40·B₄.₃ -40·B₅.₃ -16·B₁.₄ -16·B₂.₅ -16·B₃.₆ -40·B₂.₄ -40·B₃.₄ -40·B₃.₅ -40·A₁.₂^-1 -40·A₁.₃^-1 -40·A₂.₁^-1 -40·A₂.₃^-1 -40·A₃.₁^-1 -40·A₃.₂^-1 -16·B₄.₁^-1 -16·B₅.₂^-1 -16·B₆.₃^-1 -40·B₄.₂^-1 -40·B₄.₃^-1 -40·B₅.₃^-1 -16·B₁.₄^-1 -16·B₂.₅^-1 -16·B₃.₆^-1 -40·B₂.₄^-1 -40·B₃.₄^-1 -40·B₃.₅^-1 +2·A₁.₂*A₁.₃ +1·A₁.₂*A₂.₃ +1·A₁.₂*A₃.₁ +2·A₁.₂*A₃.₂ +2·A₁.₂*B₆.₃ +1·A₁.₂*B₄.₃ +2·A₁.₂*B₅.₃ +2·A₁.₂*B₃.₆ +2·A₁.₂*B₃.₄ +1·A₁.₂*B₃.₅ +2·A₁.₂*A₁.₃^-1 +1·A₁.₂*A₂.₃^-1 +1·A₁.₂*A₃.₁^-1 +2·A₁.₂*A₃.₂^-1 +2·A₁.₂*B₆.₃^-1 +1·A₁.₂*B₄.₃^-1 +2·A₁.₂*B₅.₃^-1 +2·A₁.₂*B₃.₆^-1 +2·A₁.₂*B₃.₄^-1 +1·A₁.₂*B₃.₅^-1 +1·A₁.₃*A₂.₁ +2·A₁.₃*A₂.₃ +1·A₁.₃*A₃.₂ +2·A₁.₃*B₅.₂ +1·A₁.₃*B₄.₂ +2·A₁.₃*B₅.₃ +2·A₁.₃*B₂.₅ +2·A₁.₃*B₂.₄ +1·A₁.₃*B₃.₅ +2·A₁.₃*A₁.₂^-1 +1·A₁.₃*A₂.₁^-1 +2·A₁.₃*A₂.₃^-1 +1·A₁.₃*A₃.₂^-1 +2·A₁.₃*B₅.₂^-1 +1·A₁.₃*B₄.₂^-1 +2·A₁.₃*B₅.₃^-1 +2·A₁.₃*B₂.₅^-1 +2·A₁.₃*B₂.₄^-1 +1·A₁.₃*B₃.₅^-1 +1·A₂.₁*A₁.₃ +2·A₂.₁*A₂.₃ +2·A₂.₁*A₃.₁ +1·A₂.₁*A₃.₂ +2·A₂.₁*B₆.₃ +2·A₂.₁*B₄.₃ +1·A₂.₁*B₅.₃ +2·A₂.₁*B₃.₆ +1·A₂.₁*B₃.₄ +2·A₂.₁*B₃.₅ +1·A₂.₁*A₁.₃^-1 +2·A₂.₁*A₂.₃^-1 +2·A₂.₁*A₃.₁^-1 +1·A₂.₁*A₃.₂^-1 +2·A₂.₁*B₆.₃^-1 +2·A₂.₁*B₄.₃^-1 +1·A₂.₁*B₅.₃^-1 +2·A₂.₁*B₃.₆^-1 +1·A₂.₁*B₃.₄^-1 +2·A₂.₁*B₃.₅^-1 +1·A₂.₃*A₁.₂ +1·A₂.₃*A₃.₁ +2·A₂.₃*B₄.₁ +1·A₂.₃*B₄.₂ +2·A₂.₃*B₄.₃ +2·A₂.₃*B₁.₄ +2·A₂.₃*B₂.₄ +1·A₂.₃*B₃.₄ +1·A₂.₃*A₁.₂^-1 +2·A₂.₃*A₁.₃^-1 +2·A₂.₃*A₂.₁^-1 +1·A₂.₃*A₃.₁^-1 +2·A₂.₃*B₄.₁^-1 +1·A₂.₃*B₄.₂^-1 +2·A₂.₃*B₄.₃^-1 +2·A₂.₃*B₁.₄^-1 +2·A₂.₃*B₂.₄^-1 +1·A₂.₃*B₃.₄^-1 +1·A₃.₁*A₁.₂ +1·A₃.₁*A₂.₃ +2·A₃.₁*A₃.₂ +2·A₃.₁*B₅.₂ +2·A₃.₁*B₄.₂ +1·A₃.₁*B₅.₃ +2·A₃.₁*B₂.₅ +1·A₃.₁*B₂.₄ +2·A₃.₁*B₃.₅ +1·A₃.₁*A₁.₂^-1 +2·A₃.₁*A₂.₁^-1 +1·A₃.₁*A₂.₃^-1 +2·A₃.₁*A₃.₂^-1 +2·A₃.₁*B₅.₂^-1 +2·A₃.₁*B₄.₂^-1 +1·A₃.₁*B₅.₃^-1 +2·A₃.₁*B₂.₅^-1 +1·A₃.₁*B₂.₄^-1 +2·A₃.₁*B₃.₅^-1 +1·A₃.₂*A₁.₃ +1·A₃.₂*A₂.₁ +2·A₃.₂*B₄.₁ +2·A₃.₂*B₄.₂ +1·A₃.₂*B₄.₃ +2·A₃.₂*B₁.₄ +1·A₃.₂*B₂.₄ +2·A₃.₂*B₃.₄ +2·A₃.₂*A₁.₂^-1 +1·A₃.₂*A₁.₃^-1 +1·A₃.₂*A₂.₁^-1 +2·A₃.₂*A₃.₁^-1 +2·A₃.₂*B₄.₁^-1 +2·A₃.₂*B₄.₂^-1 +1·A₃.₂*B₄.₃^-1 +2·A₃.₂*B₁.₄^-1 +1·A₃.₂*B₂.₄^-1 +2·A₃.₂*B₃.₄^-1 +2·B₄.₁*B₅.₃ +2·B₄.₁*B₃.₅ +2·B₄.₁*A₂.₃^-1 +2·B₄.₁*A₃.₂^-1 +2·B₄.₁*B₅.₃^-1 +2·B₄.₁*B₃.₅^-1 +2·B₅.₂*B₄.₃ +2·B₅.₂*B₃.₄ +2·B₅.₂*A₁.₃^-1 +2·B₅.₂*A₃.₁^-1 +2·B₅.₂*B₄.₃^-1 +2·B₅.₂*B₃.₄^-1 +2·B₆.₃*B₄.₂ +2·B₆.₃*B₂.₄ +2·B₆.₃*A₁.₂^-1 +2·B₆.₃*A₂.₁^-1 +2·B₆.₃*B₄.₂^-1 +2·B₆.₃*B₂.₄^-1 +1·B₄.₂*A₁.₃ +1·B₄.₂*A₂.₃ +2·B₄.₂*B₄.₃ +2·B₄.₂*B₅.₃ +2·B₄.₂*B₃.₆ +1·B₄.₂*B₃.₄ +1·B₄.₂*B₃.₅ +1·B₄.₂*A₁.₃^-1 +1·B₄.₂*A₂.₃^-1 +2·B₄.₂*A₃.₁^-1 +2·B₄.₂*A₃.₂^-1 +2·B₄.₂*B₆.₃^-1 +2·B₄.₂*B₄.₃^-1 +2·B₄.₂*B₅.₃^-1 +2·B₄.₂*B₃.₆^-1 +1·B₄.₂*B₃.₄^-1 +1·B₄.₂*B₃.₅^-1 +1·B₄.₃*A₁.₂ +1·B₄.₃*A₃.₂ +2·B₄.₃*B₅.₃ +2·B₄.₃*B₂.₅ +1·B₄.₃*B₂.₄ +1·B₄.₃*B₃.₅ +1·B₄.₃*A₁.₂^-1 +2·B₄.₃*A₂.₁^-1 +2·B₄.₃*A₂.₃^-1 +1·B₄.₃*A₃.₂^-1 +2·B₄.₃*B₅.₂^-1 +2·B₄.₃*B₄.₂^-1 +2·B₄.₃*B₅.₃^-1 +2·B₄.₃*B₂.₅^-1 +1·B₄.₃*B₂.₄^-1 +1·B₄.₃*B₃.₅^-1 +1·B₅.₃*A₂.₁ +1·B₅.₃*A₃.₁ +2·B₅.₃*B₁.₄ +1·B₅.₃*B₂.₄ +1·B₅.₃*B₃.₄ +2·B₅.₃*A₁.₂^-1 +2·B₅.₃*A₁.₃^-1 +1·B₅.₃*A₂.₁^-1 +1·B₅.₃*A₃.₁^-1 +2·B₅.₃*B₄.₁^-1 +2·B₅.₃*B₄.₂^-1 +2·B₅.₃*B₄.₃^-1 +2·B₅.₃*B₁.₄^-1 +1·B₅.₃*B₂.₄^-1 +1·B₅.₃*B₃.₄^-1 +2·B₁.₄*B₃.₅ +2·B₁.₄*A₂.₃^-1 +2·B₁.₄*A₃.₂^-1 +2·B₁.₄*B₅.₃^-1 +2·B₁.₄*B₃.₅^-1 +2·B₂.₅*B₃.₄ +2·B₂.₅*A₁.₃^-1 +2·B₂.₅*A₃.₁^-1 +2·B₂.₅*B₄.₃^-1 +2·B₂.₅*B₃.₄^-1 +2·B₃.₆*B₂.₄ +2·B₃.₆*A₁.₂^-1 +2·B₃.₆*A₂.₁^-1 +2·B₃.₆*B₄.₂^-1 +2·B₃.₆*B₂.₄^-1 +1·B₂.₄*A₃.₁ +1·B₂.₄*A₃.₂ +1·B₂.₄*B₄.₃ +1·B₂.₄*B₅.₃ +2·B₂.₄*B₃.₄ +2·B₂.₄*B₃.₅ +2·B₂.₄*A₁.₃^-1 +2·B₂.₄*A₂.₃^-1 +1·B₂.₄*A₃.₁^-1 +1·B₂.₄*A₃.₂^-1 +2·B₂.₄*B₆.₃^-1 +1·B₂.₄*B₄.₃^-1 +1·B₂.₄*B₅.₃^-1 +2·B₂.₄*B₃.₆^-1 +2·B₂.₄*B₃.₄^-1 +2·B₂.₄*B₃.₅^-1 +1·B₃.₄*A₂.₁ +1·B₃.₄*A₂.₃ +1·B₃.₄*B₄.₂ +1·B₃.₄*B₅.₃ +2·B₃.₄*B₃.₅ +2·B₃.₄*A₁.₂^-1 +1·B₃.₄*A₂.₁^-1 +1·B₃.₄*A₂.₃^-1 +2·B₃.₄*A₃.₂^-1 +2·B₃.₄*B₅.₂^-1 +1·B₃.₄*B₄.₂^-1 +1·B₃.₄*B₅.₃^-1 +2·B₃.₄*B₂.₅^-1 +2·B₃.₄*B₂.₄^-1 +2·B₃.₄*B₃.₅^-1 +1·B₃.₅*A₁.₂ +1·B₃.₅*A₁.₃ +1·B₃.₅*B₄.₂ +1·B₃.₅*B₄.₃ +1·B₃.₅*A₁.₂^-1 +1·B₃.₅*A₁.₃^-1 +2·B₃.₅*A₂.₁^-1 +2·B₃.₅*A₃.₁^-1 +2·B₃.₅*B₄.₁^-1 +1·B₃.₅*B₄.₂^-1 +1·B₃.₅*B₄.₃^-1 +2·B₃.₅*B₁.₄^-1 +2·B₃.₅*B₂.₄^-1 +2·B₃.₅*B₃.₄^-1 +1·A₁.₂^-1*A₂.₃ +1·A₁.₂^-1*A₃.₁ +1·A₁.₂^-1*B₄.₃ +1·A₁.₂^-1*B₃.₅ +2·A₁.₂^-1*A₁.₃^-1 +1·A₁.₂^-1*A₂.₃^-1 +1·A₁.₂^-1*A₃.₁^-1 +2·A₁.₂^-1*A₃.₂^-1 +2·A₁.₂^-1*B₆.₃^-1 +1·A₁.₂^-1*B₄.₃^-1 +2·A₁.₂^-1*B₅.₃^-1 +2·A₁.₂^-1*B₃.₆^-1 +2·A₁.₂^-1*B₃.₄^-1 +1·A₁.₂^-1*B₃.₅^-1 +1·A₁.₃^-1*A₂.₁ +1·A₁.₃^-1*A₃.₂ +1·A₁.₃^-1*B₄.₂ +1·A₁.₃^-1*B₃.₅ +1·A₁.₃^-1*A₂.₁^-1 +2·A₁.₃^-1*A₂.₃^-1 +1·A₁.₃^-1*A₃.₂^-1 +2·A₁.₃^-1*B₅.₂^-1 +1·A₁.₃^-1*B₄.₂^-1 +2·A₁.₃^-1*B₅.₃^-1 +2·A₁.₃^-1*B₂.₅^-1 +2·A₁.₃^-1*B₂.₄^-1 +1·A₁.₃^-1*B₃.₅^-1 +1·A₂.₁^-1*A₁.₃ +1·A₂.₁^-1*A₃.₂ +1·A₂.₁^-1*B₅.₃ +1·A₂.₁^-1*B₃.₄ +1·A₂.₁^-1*A₁.₃^-1 +2·A₂.₁^-1*A₂.₃^-1 +2·A₂.₁^-1*A₃.₁^-1 +1·A₂.₁^-1*A₃.₂^-1 +2·A₂.₁^-1*B₆.₃^-1 +2·A₂.₁^-1*B₄.₃^-1 +1·A₂.₁^-1*B₅.₃^-1 +2·A₂.₁^-1*B₃.₆^-1 +1·A₂.₁^-1*B₃.₄^-1 +2·A₂.₁^-1*B₃.₅^-1 +1·A₂.₃^-1*A₁.₂ +1·A₂.₃^-1*A₃.₁ +1·A₂.₃^-1*B₄.₂ +1·A₂.₃^-1*B₃.₄ +1·A₂.₃^-1*A₁.₂^-1 +1·A₂.₃^-1*A₃.₁^-1 +2·A₂.₃^-1*B₄.₁^-1 +1·A₂.₃^-1*B₄.₂^-1 +2·A₂.₃^-1*B₄.₃^-1 +2·A₂.₃^-1*B₁.₄^-1 +2·A₂.₃^-1*B₂.₄^-1 +1·A₂.₃^-1*B₃.₄^-1 +1·A₃.₁^-1*A₁.₂ +1·A₃.₁^-1*A₂.₃ +1·A₃.₁^-1*B₅.₃ +1·A₃.₁^-1*B₂.₄ +1·A₃.₁^-1*A₁.₂^-1 +1·A₃.₁^-1*A₂.₃^-1 +2·A₃.₁^-1*A₃.₂^-1 +2·A₃.₁^-1*B₅.₂^-1 +2·A₃.₁^-1*B₄.₂^-1 +1·A₃.₁^-1*B₅.₃^-1 +2·A₃.₁^-1*B₂.₅^-1 +1·A₃.₁^-1*B₂.₄^-1 +2·A₃.₁^-1*B₃.₅^-1 +1·A₃.₂^-1*A₁.₃ +1·A₃.₂^-1*A₂.₁ +1·A₃.₂^-1*B₄.₃ +1·A₃.₂^-1*B₂.₄ +1·A₃.₂^-1*A₁.₃^-1 +1·A₃.₂^-1*A₂.₁^-1 +2·A₃.₂^-1*B₄.₁^-1 +2·A₃.₂^-1*B₄.₂^-1 +1·A₃.₂^-1*B₄.₃^-1 +2·A₃.₂^-1*B₁.₄^-1 +1·A₃.₂^-1*B₂.₄^-1 +2·A₃.₂^-1*B₃.₄^-1 +2·B₄.₁^-1*B₅.₃^-1 +2·B₄.₁^-1*B₃.₅^-1 +2·B₅.₂^-1*B₄.₃^-1 +2·B₅.₂^-1*B₃.₄^-1 +2·B₆.₃^-1*B₄.₂^-1 +2·B₆.₃^-1*B₂.₄^-1 +1·B₄.₂^-1*A₁.₃ +1·B₄.₂^-1*A₂.₃ +1·B₄.₂^-1*B₃.₄ +1·B₄.₂^-1*B₃.₅ +1·B₄.₂^-1*A₁.₃^-1 +1·B₄.₂^-1*A₂.₃^-1 +2·B₄.₂^-1*B₄.₃^-1 +2·B₄.₂^-1*B₅.₃^-1 +2·B₄.₂^-1*B₃.₆^-1 +1·B₄.₂^-1*B₃.₄^-1 +1·B₄.₂^-1*B₃.₅^-1 +1·B₄.₃^-1*A₁.₂ +1·B₄.₃^-1*A₃.₂ +1·B₄.₃^-1*B₂.₄ +1·B₄.₃^-1*B₃.₅ +1·B₄.₃^-1*A₁.₂^-1 +1·B₄.₃^-1*A₃.₂^-1 +2·B₄.₃^-1*B₅.₃^-1 +2·B₄.₃^-1*B₂.₅^-1 +1·B₄.₃^-1*B₂.₄^-1 +1·B₄.₃^-1*B₃.₅^-1 +1·B₅.₃^-1*A₂.₁ +1·B₅.₃^-1*A₃.₁ +1·B₅.₃^-1*B₂.₄ +1·B₅.₃^-1*B₃.₄ +1·B₅.₃^-1*A₂.₁^-1 +1·B₅.₃^-1*A₃.₁^-1 +2·B₅.₃^-1*B₁.₄^-1 +1·B₅.₃^-1*B₂.₄^-1 +1·B₅.₃^-1*B₃.₄^-1 +2·B₁.₄^-1*B₃.₅^-1 +2·B₂.₅^-1*B₃.₄^-1 +2·B₃.₆^-1*B₂.₄^-1 +1·B₂.₄^-1*A₃.₁ +1·B₂.₄^-1*A₃.₂ +1·B₂.₄^-1*B₄.₃ +1·B₂.₄^-1*B₅.₃ +1·B₂.₄^-1*A₃.₁^-1 +1·B₂.₄^-1*A₃.₂^-1 +1·B₂.₄^-1*B₄.₃^-1 +1·B₂.₄^-1*B₅.₃^-1 +2·B₂.₄^-1*B₃.₄^-1 +2·B₂.₄^-1*B₃.₅^-1 +1·B₃.₄^-1*A₂.₁ +1·B₃.₄^-1*A₂.₃ +1·B₃.₄^-1*B₄.₂ +1·B₃.₄^-1*B₅.₃ +1·B₃.₄^-1*A₂.₁^-1 +1·B₃.₄^-1*A₂.₃^-1 +1·B₃.₄^-1*B₄.₂^-1 +1·B₃.₄^-1*B₅.₃^-1 +2·B₃.₄^-1*B₃.₅^-1 +1·B₃.₅^-1*A₁.₂ +1·B₃.₅^-1*A₁.₃ +1·B₃.₅^-1*B₄.₂ +1·B₃.₅^-1*B₄.₃ +1·B₃.₅^-1*A₁.₂^-1 +1·B₃.₅^-1*A₁.₃^-1 +1·B₃.₅^-1*B₄.₂^-1 +1·B₃.₅^-1*B₄.₃^-1"
      ]
     },
     "execution_count": 35,
     "metadata": {},
     "output_type": "execute_result"
    }
   ],
   "source": [
    "Lev₃³ = PropertyT.Adj(Δs, :A₂) + PropertyT.Adj(Δs, Symbol(\"A₁×C₁\"))"
   ]
  },
  {
   "cell_type": "markdown",
   "id": "180ab3f4",
   "metadata": {},
   "source": [
    "## Optimization problem"
   ]
  },
  {
   "cell_type": "markdown",
   "id": "6b4969ec",
   "metadata": {},
   "source": [
    "### Symmetry reduction"
   ]
  },
  {
   "cell_type": "code",
   "execution_count": 36,
   "id": "04c65f70",
   "metadata": {},
   "outputs": [],
   "source": [
    "import PropertyT.SA as StarAlgebras\n",
    "import PropertyT.SW as SymbolicWedderburn\n",
    "using PropertyT.PG # PermutationGroups"
   ]
  },
  {
   "cell_type": "code",
   "execution_count": 37,
   "id": "1121c084",
   "metadata": {},
   "outputs": [
    {
     "name": "stdout",
     "output_type": "stream",
     "text": [
      "  6.334770 seconds (22.13 M allocations: 1.386 GiB, 3.18% gc time, 201.94% compilation time)\n"
     ]
    },
    {
     "name": "stderr",
     "output_type": "stream",
     "text": [
      "\u001b[36m\u001b[1m┌ \u001b[22m\u001b[39m\u001b[36m\u001b[1mInfo: \u001b[22m\u001b[39mWedderburn Decomposition into 21968 orbits and 5 simple summands of sizes\n",
      "\u001b[36m\u001b[1m└ \u001b[22m\u001b[39m[97, 56, 152, 94, 74]\n"
     ]
    }
   ],
   "source": [
    "wd = let RG = RG, N = N\n",
    "    G = StarAlgebras.object(RG)\n",
    "    P = PermGroup(perm\"(1,2)\", Perm(circshift(1:N, -1)))\n",
    "    Weyl = Groups.Constructions.WreathProduct(PermGroup(perm\"(1,2)\"), P)\n",
    "    act = PropertyT.action_by_conjugation(G, Weyl)\n",
    "\n",
    "    @time SymbolicWedderburn.WedderburnDecomposition(\n",
    "        Float64,\n",
    "        Weyl,\n",
    "        act,\n",
    "        StarAlgebras.basis(RG),\n",
    "        StarAlgebras.Basis{UInt16}(@view StarAlgebras.basis(RG)[1:sizes[HALFRADIUS]]),\n",
    "    )\n",
    "end\n",
    "@info wd"
   ]
  },
  {
   "cell_type": "code",
   "execution_count": 38,
   "id": "aafb2167",
   "metadata": {},
   "outputs": [
    {
     "name": "stdout",
     "output_type": "stream",
     "text": [
      "  4.377986 seconds (29.26 M allocations: 6.125 GiB, 13.44% gc time, 18.00% compilation time)\n"
     ]
    },
    {
     "data": {
      "text/plain": [
       "A JuMP Model\n",
       "Maximization problem with:\n",
       "Variables: 25218\n",
       "Objective function type: JuMP.VariableRef\n",
       "`JuMP.AffExpr`-in-`MathOptInterface.EqualTo{Float64}`: 21967 constraints\n",
       "`Vector{JuMP.VariableRef}`-in-`MathOptInterface.PositiveSemidefiniteConeTriangle`: 5 constraints\n",
       "Model mode: AUTOMATIC\n",
       "CachingOptimizer state: NO_OPTIMIZER\n",
       "Solver name: No optimizer attached.\n",
       "Names registered in the model: λ"
      ]
     },
     "execution_count": 38,
     "metadata": {},
     "output_type": "execute_result"
    }
   ],
   "source": [
    "@time model, varP = PropertyT.sos_problem_primal(\n",
    "    Lev₂³ + Lev₃³,\n",
    "    Δ,\n",
    "    wd;\n",
    "    augmented = true,\n",
    ");\n",
    "model"
   ]
  },
  {
   "cell_type": "code",
   "execution_count": 41,
   "id": "524ed96b",
   "metadata": {},
   "outputs": [],
   "source": [
    "include(joinpath(@__DIR__, \"..\", \"src\", \"optimizers.jl\"));\n",
    "with_optimizer = scs_optimizer(;\n",
    "    eps = 1e-10,\n",
    "    max_iters = 20_000,\n",
    "    accel = 50,\n",
    "    alpha = 1.6,\n",
    ");"
   ]
  },
  {
   "cell_type": "code",
   "execution_count": 42,
   "id": "a75d92b1",
   "metadata": {},
   "outputs": [],
   "source": [
    "warm = nothing"
   ]
  },
  {
   "cell_type": "markdown",
   "id": "5a7e7051",
   "metadata": {},
   "source": [
    "> **Note**: Running the following optimization step may take a few minutes."
   ]
  },
  {
   "cell_type": "code",
   "execution_count": 43,
   "id": "81a439ad",
   "metadata": {},
   "outputs": [
    {
     "name": "stdout",
     "output_type": "stream",
     "text": [
      "------------------------------------------------------------------\n",
      "\t       SCS v3.2.4 - Splitting Conic Solver\n",
      "\t(c) Brendan O'Donoghue, Stanford University, 2012\n",
      "------------------------------------------------------------------\n",
      "problem:  variables n: 25218, constraints m: 47184\n",
      "cones: \t  z: primal zero / dual free vars: 21967\n",
      "\t  s: psd vars: 25217, ssize: 5\n",
      "settings: eps_abs: 1.0e-10, eps_rel: 1.0e-10, eps_infeas: 1.0e-07\n",
      "\t  alpha: 1.60, scale: 1.00e-01, adaptive_scale: 1\n",
      "\t  max_iters: 20000, normalize: 1, rho_x: 1.00e-06\n",
      "\t  acceleration_lookback: 50, acceleration_interval: 10\n",
      "\t  compiled with openmp parallelization enabled\n",
      "lin-sys:  sparse-direct-mkl-pardiso\n",
      "\t  nnz(A): 301575, nnz(P): 0\n",
      "------------------------------------------------------------------\n",
      " iter | pri res | dua res |   gap   |   obj   |  scale  | time (s)\n",
      "------------------------------------------------------------------\n",
      "     0| 7.22e+01  9.99e-01  5.39e+02 -3.92e+02  1.00e-01  2.90e-01 \n",
      "   250| 1.13e-02  6.63e-04  1.92e-01 -4.23e+00  1.00e-01  1.87e+00 \n",
      "   500| 6.12e-03  4.77e-04  1.22e-01 -3.56e+00  1.00e-01  3.43e+00 \n",
      "   750| 5.81e-03  4.13e-04  1.72e-01 -3.20e+00  1.00e-01  4.92e+00 \n",
      "  1000| 4.90e-03  3.27e-04  2.08e-01 -2.89e+00  1.00e-01  6.41e+00 \n",
      "  1250| 2.72e-03  2.08e-04  9.61e-02 -2.64e+00  1.00e-01  7.94e+00 \n",
      "  1500| 1.22e-03  1.15e-04  1.91e-02 -2.57e+00  1.00e-01  9.61e+00 \n",
      "  1750| 1.03e-03  1.06e-04  1.74e-02 -2.56e+00  1.00e-01  1.12e+01 \n",
      "  2000| 9.22e-04  9.91e-05  1.53e-02 -2.55e+00  1.00e-01  1.28e+01 \n",
      "  2250| 8.06e-04  8.21e-05  1.31e-02 -2.54e+00  1.00e-01  1.43e+01 \n",
      "  2500| 7.16e-04  6.33e-05  1.11e-02 -2.53e+00  1.00e-01  1.59e+01 \n",
      "  2750| 6.69e-04  5.28e-05  9.35e-03 -2.53e+00  1.00e-01  1.75e+01 \n",
      "  3000| 6.13e-04  4.44e-05  7.90e-03 -2.53e+00  1.00e-01  1.91e+01 \n",
      "  3250| 5.54e-04  3.64e-05  6.69e-03 -2.53e+00  1.00e-01  2.06e+01 \n",
      "  3500| 4.95e-04  3.32e-05  5.67e-03 -2.52e+00  1.00e-01  2.21e+01 \n",
      "  3750| 4.39e-04  3.25e-05  4.77e-03 -2.52e+00  1.00e-01  2.37e+01 \n",
      "  4000| 3.87e-04  3.16e-05  3.98e-03 -2.52e+00  1.00e-01  2.53e+01 \n",
      "  4250| 3.42e-04  3.03e-05  3.30e-03 -2.52e+00  1.00e-01  2.68e+01 \n",
      "  4500| 3.01e-04  2.89e-05  2.72e-03 -2.52e+00  1.00e-01  2.83e+01 \n",
      "  4750| 2.66e-04  2.73e-05  2.23e-03 -2.52e+00  1.00e-01  2.98e+01 \n",
      "  5000| 2.37e-04  2.56e-05  1.83e-03 -2.52e+00  1.00e-01  3.14e+01 \n",
      "  5250| 2.16e-04  2.40e-05  1.51e-03 -2.52e+00  1.00e-01  3.29e+01 \n",
      "  5500| 2.00e-04  2.23e-05  1.27e-03 -2.51e+00  1.00e-01  3.44e+01 \n",
      "  5750| 1.87e-04  2.07e-05  1.08e-03 -2.51e+00  1.00e-01  3.60e+01 \n",
      "  6000| 1.76e-04  1.90e-05  9.53e-04 -2.51e+00  1.00e-01  3.75e+01 \n",
      "  6250| 1.67e-04  1.75e-05  8.65e-04 -2.51e+00  1.00e-01  3.91e+01 \n",
      "  6500| 1.60e-04  1.60e-05  8.12e-04 -2.51e+00  1.00e-01  4.07e+01 \n",
      "  6750| 1.62e-04  1.45e-05  7.89e-04 -2.51e+00  1.00e-01  4.22e+01 \n",
      "  7000| 1.64e-04  1.32e-05  7.88e-04 -2.51e+00  1.00e-01  4.37e+01 \n",
      "  7250| 1.65e-04  1.19e-05  7.95e-04 -2.51e+00  1.00e-01  4.52e+01 \n",
      "  7500| 1.66e-04  1.07e-05  8.27e-04 -2.51e+00  1.00e-01  4.67e+01 \n",
      "  7750| 1.67e-04  9.56e-06  8.70e-04 -2.51e+00  1.00e-01  4.82e+01 \n",
      "  8000| 1.67e-04  8.57e-06  9.21e-04 -2.51e+00  1.00e-01  4.98e+01 \n",
      "  8250| 1.68e-04  7.67e-06  9.79e-04 -2.51e+00  1.00e-01  5.13e+01 \n",
      "  8500| 1.68e-04  7.00e-06  1.04e-03 -2.51e+00  1.00e-01  5.28e+01 \n",
      "  8750| 1.68e-04  6.56e-06  1.11e-03 -2.51e+00  1.00e-01  5.43e+01 \n",
      "  9000| 1.69e-04  6.16e-06  1.17e-03 -2.51e+00  1.00e-01  5.58e+01 \n",
      "  9250| 1.69e-04  5.81e-06  1.24e-03 -2.51e+00  1.00e-01  5.73e+01 \n",
      "  9500| 1.69e-04  5.50e-06  1.32e-03 -2.51e+00  1.00e-01  5.89e+01 \n",
      "  9750| 1.69e-04  5.28e-06  1.39e-03 -2.51e+00  1.00e-01  6.04e+01 \n",
      " 10000| 1.70e-04  5.30e-06  1.46e-03 -2.51e+00  1.00e-01  6.19e+01 \n",
      " 10250| 1.70e-04  5.31e-06  1.54e-03 -2.51e+00  1.00e-01  6.34e+01 \n",
      " 10500| 1.70e-04  5.32e-06  1.61e-03 -2.50e+00  1.00e-01  6.49e+01 \n",
      " 10750| 1.70e-04  5.32e-06  1.68e-03 -2.50e+00  1.00e-01  6.64e+01 \n",
      " 11000| 1.70e-04  5.31e-06  1.76e-03 -2.50e+00  1.00e-01  6.79e+01 \n",
      " 11250| 1.71e-04  5.30e-06  1.83e-03 -2.50e+00  1.00e-01  6.94e+01 \n",
      " 11500| 1.71e-04  5.28e-06  1.90e-03 -2.50e+00  1.00e-01  7.09e+01 \n",
      " 11750| 1.71e-04  5.26e-06  1.98e-03 -2.50e+00  1.00e-01  7.24e+01 \n",
      " 12000| 1.71e-04  5.23e-06  2.05e-03 -2.50e+00  1.00e-01  7.39e+01 \n",
      " 12250| 1.71e-04  5.20e-06  2.12e-03 -2.50e+00  1.00e-01  7.54e+01 \n",
      " 12500| 1.72e-04  5.17e-06  2.20e-03 -2.50e+00  1.00e-01  7.69e+01 \n",
      " 12750| 1.74e+01  1.74e+00  3.38e-02 -2.30e+00  1.00e-01  7.84e+01 \n",
      " 13000| 1.72e-04  5.11e-06  2.34e-03 -2.50e+00  1.00e-01  7.98e+01 \n",
      " 13250| 1.72e-04  5.07e-06  2.42e-03 -2.50e+00  1.00e-01  8.14e+01 \n",
      " 13500| 1.73e-04  5.04e-06  2.49e-03 -2.50e+00  1.00e-01  8.29e+01 \n",
      " 13750| 1.73e-04  5.00e-06  2.56e-03 -2.50e+00  1.00e-01  8.44e+01 \n",
      " 14000| 1.73e-04  4.96e-06  2.63e-03 -2.50e+00  1.00e-01  8.59e+01 \n",
      " 14250| 1.73e-04  4.92e-06  2.71e-03 -2.50e+00  1.00e-01  8.74e+01 \n",
      " 14500| 1.74e-04  4.89e-06  2.78e-03 -2.50e+00  1.00e-01  8.89e+01 \n",
      " 14750| 1.74e-04  4.85e-06  2.85e-03 -2.50e+00  1.00e-01  9.04e+01 \n",
      " 15000| 1.74e-04  4.81e-06  2.92e-03 -2.50e+00  1.00e-01  9.19e+01 \n",
      " 15250| 1.74e-04  4.77e-06  2.99e-03 -2.50e+00  1.00e-01  9.34e+01 \n",
      " 15500| 1.75e-04  4.73e-06  3.07e-03 -2.50e+00  1.00e-01  9.49e+01 \n",
      " 15750| 1.75e-04  4.70e-06  3.14e-03 -2.50e+00  1.00e-01  9.64e+01 \n",
      " 16000| 1.75e-04  4.66e-06  3.21e-03 -2.50e+00  1.00e-01  9.80e+01 \n",
      " 16250| 1.75e-04  4.62e-06  3.28e-03 -2.49e+00  1.00e-01  9.95e+01 \n",
      " 16500| 1.76e-04  4.59e-06  3.35e-03 -2.49e+00  1.00e-01  1.01e+02 \n",
      " 16750| 1.76e-04  4.55e-06  3.42e-03 -2.49e+00  1.00e-01  1.02e+02 \n",
      " 17000| 1.76e-04  4.52e-06  3.49e-03 -2.49e+00  1.00e-01  1.04e+02 \n",
      " 17250| 1.76e-04  4.48e-06  3.56e-03 -2.49e+00  1.00e-01  1.05e+02 \n",
      " 17500| 1.77e-04  4.45e-06  3.64e-03 -2.49e+00  1.00e-01  1.07e+02 \n",
      " 17750| 1.77e-04  4.42e-06  3.71e-03 -2.49e+00  1.00e-01  1.08e+02 \n",
      " 18000| 1.77e-04  4.39e-06  3.78e-03 -2.49e+00  1.00e-01  1.10e+02 \n",
      " 18250| 1.78e-04  4.36e-06  3.85e-03 -2.49e+00  1.00e-01  1.11e+02 \n",
      " 18500| 1.78e-04  4.33e-06  3.92e-03 -2.49e+00  1.00e-01  1.13e+02 \n",
      " 18750| 1.78e-04  4.30e-06  3.99e-03 -2.49e+00  1.00e-01  1.14e+02 \n",
      " 19000| 1.79e-04  4.27e-06  4.06e-03 -2.49e+00  1.00e-01  1.16e+02 \n",
      " 19250| 1.79e-04  4.24e-06  4.13e-03 -2.49e+00  1.00e-01  1.18e+02 \n",
      " 19500| 1.79e-04  4.21e-06  4.20e-03 -2.49e+00  1.00e-01  1.19e+02 \n",
      " 19750| 1.79e-04  4.18e-06  4.27e-03 -2.49e+00  1.00e-01  1.21e+02 \n",
      " 20000| 1.80e-04  4.16e-06  4.34e-03 -2.49e+00  1.00e-01  1.22e+02 \n",
      "------------------------------------------------------------------\n",
      "status:  solved (inaccurate - reached max_iters)\n",
      "timings: total: 1.22e+02s = setup: 2.80e-01s + solve: 1.22e+02s\n",
      "\t lin-sys: 4.44e+01s, cones: 7.23e+01s, accel: 1.27e+00s\n",
      "------------------------------------------------------------------\n",
      "objective = -2.488009 (inaccurate)\n",
      "------------------------------------------------------------------\n"
     ]
    },
    {
     "name": "stderr",
     "output_type": "stream",
     "text": [
      "\u001b[36m\u001b[1m┌ \u001b[22m\u001b[39m\u001b[36m\u001b[1mInfo: \u001b[22m\u001b[39mOptimization has finished with\n",
      "\u001b[36m\u001b[1m└ \u001b[22m\u001b[39m  status = ITERATION_LIMIT::TerminationStatusCode = 11\n"
     ]
    }
   ],
   "source": [
    "status, warm = PropertyT.solve(\n",
    "        model,\n",
    "        with_optimizer,\n",
    "        warm,\n",
    "    );\n",
    "@info \"Optimization has finished with\" status"
   ]
  },
  {
   "cell_type": "markdown",
   "id": "a8ab2bcf",
   "metadata": {},
   "source": [
    "### Reconstructing and certifying the solution\n",
    "Since we symmetrized our problem, we don't have direct access to `P` or `Q` as defined above. So first we need to reconstruct `Q` from the action of `Weyl` on $\\operatorname{Ball}(S, R)$:"
   ]
  },
  {
   "cell_type": "code",
   "execution_count": 44,
   "id": "89eae3fe",
   "metadata": {},
   "outputs": [
    {
     "name": "stderr",
     "output_type": "stream",
     "text": [
      "\u001b[36m\u001b[1m[ \u001b[22m\u001b[39m\u001b[36m\u001b[1mInfo: \u001b[22m\u001b[39mreconstructing the solution\n"
     ]
    },
    {
     "name": "stdout",
     "output_type": "stream",
     "text": [
      "  0.336783 seconds (1.16 M allocations: 89.771 MiB, 7.58% gc time, 71.83% compilation time)\n"
     ]
    },
    {
     "data": {
      "text/plain": [
       "961×961 Matrix{Float64}:\n",
       " 0.0   0.0           0.0           0.0          …   0.0           0.0\n",
       " 0.0   4.23046       0.0844785    -0.111967        -0.00222208   -0.00666439\n",
       " 0.0   0.0844785     4.23046       0.0231808       -0.00222208   -0.00666439\n",
       " 0.0  -0.111967      0.0231808     4.23046          0.00194968   -0.00344572\n",
       " 0.0   0.0231808     0.0844785     0.0844785        0.0086506     0.00451286\n",
       " 0.0   0.0231808    -0.111967      0.0844785    …   0.00194968   -0.00344572\n",
       " 0.0   0.0844785     0.0231808     0.0231808        0.0086506     0.00451286\n",
       " 0.0   0.10433       0.10433      -0.0424452        0.01495      -0.00535707\n",
       " 0.0  -0.0424452     0.0448794     0.10433         -0.0104408    -0.0162984\n",
       " 0.0   0.0448794    -0.0424452     0.0448794       -0.0104408    -0.0162984\n",
       " 0.0   0.00377729    0.0179707     0.00377729   …  -0.00200845   -0.00622942\n",
       " 0.0   0.0179707     0.00377729    0.0858356       -0.00200845   -0.00622942\n",
       " 0.0   0.0858356     0.0858356     0.0179707       -0.000517159  -0.00111334\n",
       " ⋮                                              ⋱                 ⋮\n",
       " 0.0   0.00257708    0.00286143    9.79952e-5      -0.0234261    -0.00395148\n",
       " 0.0   0.000189299   0.000189299  -0.00185415   …   0.0172489     0.0457357\n",
       " 0.0  -0.00197543   -0.000795309   0.00185236      -0.0234396    -0.00402389\n",
       " 0.0  -0.000795309  -0.00197543   -0.0041928       -0.0234396    -0.00402389\n",
       " 0.0   0.00184863   -0.00229192    0.0086033        0.0247505     0.0512112\n",
       " 0.0  -0.00229192    0.00184863    0.000473772      0.0247505     0.0512112\n",
       " 0.0   0.00091362    0.00860134   -0.00310887   …   0.000380642   0.0162659\n",
       " 0.0   0.00860134    0.00091362    0.00813335       0.000380642   0.0162659\n",
       " 0.0   0.00286143    0.00417254    0.0121195       -0.0234261    -0.00395148\n",
       " 0.0   0.00417254    0.00286143   -0.002383        -0.0234261    -0.00395148\n",
       " 0.0  -0.00222208   -0.00222208    0.00194968       0.0938144     0.0503839\n",
       " 0.0  -0.00666439   -0.00666439   -0.00344572   …   0.0503839     0.218448"
      ]
     },
     "execution_count": 44,
     "metadata": {},
     "output_type": "execute_result"
    }
   ],
   "source": [
    "@info \"reconstructing the solution\"\n",
    "Q = @time let wd = wd, Ps = [JuMP.value.(P) for P in varP]\n",
    "    Qs = real.(sqrt.(Ps))\n",
    "    PropertyT.reconstruct(Qs, wd)\n",
    "end"
   ]
  },
  {
   "cell_type": "code",
   "execution_count": 45,
   "id": "ce4d4949",
   "metadata": {},
   "outputs": [
    {
     "name": "stderr",
     "output_type": "stream",
     "text": [
      "\u001b[36m\u001b[1m[ \u001b[22m\u001b[39m\u001b[36m\u001b[1mInfo: \u001b[22m\u001b[39mcertifying the solution\n",
      "\u001b[36m\u001b[1m┌ \u001b[22m\u001b[39m\u001b[36m\u001b[1mInfo: \u001b[22m\u001b[39mChecking in Float64 arithmetic with\n",
      "\u001b[36m\u001b[1m└ \u001b[22m\u001b[39m  λ = 2.4901805502281795\n"
     ]
    },
    {
     "name": "stdout",
     "output_type": "stream",
     "text": [
      "  0.013496 seconds (6 allocations: 10.288 MiB)\n"
     ]
    },
    {
     "name": "stderr",
     "output_type": "stream",
     "text": [
      "\u001b[36m\u001b[1m┌ \u001b[22m\u001b[39m\u001b[36m\u001b[1mInfo: \u001b[22m\u001b[39mNumerical metrics of the obtained SOS:\n",
      "\u001b[36m\u001b[1m│ \u001b[22m\u001b[39mɛ(elt - λu - ∑ξᵢ*ξᵢ) ≈ -2.29543e-10\n",
      "\u001b[36m\u001b[1m│ \u001b[22m\u001b[39m‖elt - λu - ∑ξᵢ*ξᵢ‖₁ ≈ 1.90382\n",
      "\u001b[36m\u001b[1m└ \u001b[22m\u001b[39m λ ≈ -5.12509926406636\n",
      "\u001b[36m\u001b[1m┌ \u001b[22m\u001b[39m\u001b[36m\u001b[1mInfo: \u001b[22m\u001b[39mCould NOT certify the positivity of Lev₂³ + Lev₃³\n",
      "\u001b[36m\u001b[1m│ \u001b[22m\u001b[39m  certified = false\n",
      "\u001b[36m\u001b[1m└ \u001b[22m\u001b[39m  λ = -5.12509926406636\n"
     ]
    }
   ],
   "source": [
    "@info \"certifying the solution\"\n",
    "certified, λ = PropertyT.certify_solution(\n",
    "    Lev₂³ + Lev₃³,\n",
    "    Δ,\n",
    "    JuMP.objective_value(model),\n",
    "    Q;\n",
    "    halfradius = HALFRADIUS,\n",
    "    augmented = true,\n",
    ")\n",
    "\n",
    "if certified && λ > 0\n",
    "    @info \"Certified result: Lev₂³ + Lev₃³ is positive\" PropertyT.IntervalArithmetic.inf(λ)\n",
    "else\n",
    "    @info \"Could NOT certify the positivity of Lev₂³ + Lev₃³\" certified λ\n",
    "end"
   ]
  },
  {
   "cell_type": "markdown",
   "id": "4ee0b88c",
   "metadata": {},
   "source": [
    "# $\\texttt{C}_\\texttt{2}$-graded $\\operatorname{Adj}$\n",
    "\n",
    "We wish to prove\n",
    "> **Theorem 3.10** Let $G = \\operatorname{Sp}_4(\\mathbb{Z})$ be the universal Chevalley group over $\\mathbb{Z}$ of type $\\texttt{C}_\\texttt{2}$ endowed with the set of Steinberg generators $S$. Let $V$ denote the ambient vector space of the root system. Then $$\\operatorname{Adj}_V −\\lambda \\Delta_V ⩾_R 0$$\n",
    "whenever $(\\lambda, R) \\in (0.24493, 3)$.\n",
    "\n",
    "Proving this theorem for $R = 3$ requires quite a bit of memory (`~16GB`) and quite a bit of patience."
   ]
  },
  {
   "cell_type": "code",
   "execution_count": 46,
   "id": "4271ec53",
   "metadata": {},
   "outputs": [
    {
     "data": {
      "text/plain": [
       "group of 4×4 symplectic matrices"
      ]
     },
     "execution_count": 46,
     "metadata": {},
     "output_type": "execute_result"
    }
   ],
   "source": [
    "N = 2\n",
    "G = MatrixGroups.SymplecticGroup{2*N}(Int8)"
   ]
  },
  {
   "cell_type": "code",
   "execution_count": 47,
   "id": "bb3614ee",
   "metadata": {},
   "outputs": [
    {
     "name": "stderr",
     "output_type": "stream",
     "text": [
      "\u001b[36m\u001b[1m[ \u001b[22m\u001b[39m\u001b[36m\u001b[1mInfo: \u001b[22m\u001b[39mgenerating wl-metric ball of radius 6\n"
     ]
    },
    {
     "name": "stdout",
     "output_type": "stream",
     "text": [
      "  3.351726 seconds (49.50 M allocations: 1.682 GiB, 15.35% gc time)\n"
     ]
    },
    {
     "name": "stderr",
     "output_type": "stream",
     "text": [
      "\u001b[36m\u001b[1m[ \u001b[22m\u001b[39m\u001b[36m\u001b[1mInfo: \u001b[22m\u001b[39msizes = [17, 209, 2073, 18313, 149449, 1148696]\n",
      "\u001b[36m\u001b[1m[ \u001b[22m\u001b[39m\u001b[36m\u001b[1mInfo: \u001b[22m\u001b[39mcomputing the *-algebra structure for G\n"
     ]
    },
    {
     "name": "stdout",
     "output_type": "stream",
     "text": [
      "  0.454616 seconds (6.80 M allocations: 250.062 MiB)\n",
      "  3.806987 seconds (56.30 M allocations: 1.927 GiB, 13.51% gc time)\n"
     ]
    }
   ],
   "source": [
    "HALFRADIUS = 3\n",
    "RG, S, sizes = @time PropertyT.group_algebra(G, halfradius = HALFRADIUS);"
   ]
  },
  {
   "cell_type": "code",
   "execution_count": 48,
   "id": "b0a9459a",
   "metadata": {},
   "outputs": [
    {
     "data": {
      "text/plain": [
       "16-element Vector{FPGroupElement{Groups.MatrixGroups.SymplecticGroup{4, Int8, DataType, Groups.MatrixGroups.ElementarySymplectic{4, Int8}}, KnuthBendix.Words.Word{UInt8}}}:\n",
       " A₁.₂\n",
       " A₂.₁\n",
       " B₃.₁\n",
       " B₄.₂\n",
       " B₃.₂\n",
       " B₁.₃\n",
       " B₂.₄\n",
       " B₂.₃\n",
       " A₁.₂^-1\n",
       " A₂.₁^-1\n",
       " B₃.₁^-1\n",
       " B₄.₂^-1\n",
       " B₃.₂^-1\n",
       " B₁.₃^-1\n",
       " B₂.₄^-1\n",
       " B₂.₃^-1"
      ]
     },
     "execution_count": 48,
     "metadata": {},
     "output_type": "execute_result"
    }
   ],
   "source": [
    "S"
   ]
  },
  {
   "cell_type": "code",
   "execution_count": 49,
   "id": "52516913",
   "metadata": {},
   "outputs": [
    {
     "data": {
      "text/plain": [
       "16·(id) -1·A₁.₂ -1·A₂.₁ -1·B₃.₁ -1·B₄.₂ -1·B₃.₂ -1·B₁.₃ -1·B₂.₄ -1·B₂.₃ -1·A₁.₂^-1 -1·A₂.₁^-1 -1·B₃.₁^-1 -1·B₄.₂^-1 -1·B₃.₂^-1 -1·B₁.₃^-1 -1·B₂.₄^-1 -1·B₂.₃^-1"
      ]
     },
     "execution_count": 49,
     "metadata": {},
     "output_type": "execute_result"
    }
   ],
   "source": [
    "Δ = RG(length(S)) - sum(RG(s) for s in S)"
   ]
  },
  {
   "cell_type": "markdown",
   "id": "d5c5b5db",
   "metadata": {},
   "source": [
    "## Grading\n",
    "\n",
    "Let us define $\\texttt{C}_\\texttt{2}$ grading for $(G, S)$. That is, to every generator $s \\in S$ we need to assign a root in $\\texttt{C}_\\texttt{2}$ in a compatible fashion. For the precise description of this grading see **Example 3.2 (2)**.  "
   ]
  },
  {
   "cell_type": "code",
   "execution_count": 50,
   "id": "a2277b05",
   "metadata": {},
   "outputs": [],
   "source": [
    "using PropertyT.Roots"
   ]
  },
  {
   "cell_type": "code",
   "execution_count": 51,
   "id": "e4ba65e0",
   "metadata": {},
   "outputs": [
    {
     "data": {
      "text/plain": [
       "A₁.₂ ∈ Sp{4,Int8}\n",
       " 1  1   0  0\n",
       " 0  1   0  0\n",
       " 0  0   1  0\n",
       " 0  0  -1  1"
      ]
     },
     "execution_count": 51,
     "metadata": {},
     "output_type": "execute_result"
    }
   ],
   "source": [
    "g = gens(G, 1)"
   ]
  },
  {
   "cell_type": "code",
   "execution_count": 52,
   "id": "2bf3d894",
   "metadata": {},
   "outputs": [
    {
     "data": {
      "text/plain": [
       "Root in ℝ^2 of length √2\n",
       "[1, -1]"
      ]
     },
     "execution_count": 52,
     "metadata": {},
     "output_type": "execute_result"
    }
   ],
   "source": [
    "PropertyT.grading(g)"
   ]
  },
  {
   "cell_type": "code",
   "execution_count": 53,
   "id": "514d7c9a",
   "metadata": {},
   "outputs": [
    {
     "data": {
      "text/plain": [
       "B₃.₁ ∈ Sp{4,Int8}\n",
       " 1  0  0  0\n",
       " 0  1  0  0\n",
       " 1  0  1  0\n",
       " 0  0  0  1"
      ]
     },
     "execution_count": 53,
     "metadata": {},
     "output_type": "execute_result"
    }
   ],
   "source": [
    "g = gens(G, 3)"
   ]
  },
  {
   "cell_type": "code",
   "execution_count": 54,
   "id": "3aa62675",
   "metadata": {},
   "outputs": [
    {
     "data": {
      "text/plain": [
       "Root in ℝ^2 of length 2\n",
       "[-2, 0]"
      ]
     },
     "execution_count": 54,
     "metadata": {},
     "output_type": "execute_result"
    }
   ],
   "source": [
    "PropertyT.grading(g)"
   ]
  },
  {
   "cell_type": "code",
   "execution_count": 55,
   "id": "f87ffa6f",
   "metadata": {},
   "outputs": [
    {
     "data": {
      "text/plain": [
       "B₃.₂ ∈ Sp{4,Int8}\n",
       " 1  0  0  0\n",
       " 0  1  0  0\n",
       " 0  1  1  0\n",
       " 1  0  0  1"
      ]
     },
     "execution_count": 55,
     "metadata": {},
     "output_type": "execute_result"
    }
   ],
   "source": [
    "g = gens(G, 5)"
   ]
  },
  {
   "cell_type": "code",
   "execution_count": 56,
   "id": "da50dec4",
   "metadata": {},
   "outputs": [
    {
     "data": {
      "text/plain": [
       "Root in ℝ^2 of length √2\n",
       "[-1, -1]"
      ]
     },
     "execution_count": 56,
     "metadata": {},
     "output_type": "execute_result"
    }
   ],
   "source": [
    "PropertyT.grading(g)"
   ]
  },
  {
   "cell_type": "code",
   "execution_count": 57,
   "id": "ff1e0641",
   "metadata": {},
   "outputs": [],
   "source": [
    "Δs = PropertyT.laplacians(\n",
    "    RG,\n",
    "    S,\n",
    "    x -> (gx = PropertyT.grading(x); Set([gx, -gx])),\n",
    ");"
   ]
  },
  {
   "cell_type": "markdown",
   "id": "26ecd47b",
   "metadata": {},
   "source": [
    "Here `Δs` is just a map from lines in the root system $\\Omega = \\texttt{C}_{\\texttt{2}}$ to the corresponding Laplacians, e.g. below we can see that to the line through `α = [1, -1]` and `-α` (and the origin) we assign\n",
    "$$ \\Delta_{Lα} = 4 - A_{1,2} - A_{2,1} - A_{1,2}^{-1} - A_{2,1}^{-1}.$$ "
   ]
  },
  {
   "cell_type": "code",
   "execution_count": 58,
   "id": "6979c5b2",
   "metadata": {},
   "outputs": [
    {
     "data": {
      "text/plain": [
       "4·(id) -1·A₁.₂ -1·A₂.₁ -1·A₁.₂^-1 -1·A₂.₁^-1"
      ]
     },
     "execution_count": 58,
     "metadata": {},
     "output_type": "execute_result"
    }
   ],
   "source": [
    "let α = Root([1,-1])\n",
    "    Lα = Set([α, -α])\n",
    "    Δs[Lα]\n",
    "end"
   ]
  },
  {
   "cell_type": "code",
   "execution_count": 59,
   "id": "111cb552",
   "metadata": {},
   "outputs": [
    {
     "data": {
      "text/plain": [
       "4·(id) -1·B₃.₁ -1·B₁.₃ -1·B₃.₁^-1 -1·B₁.₃^-1"
      ]
     },
     "execution_count": 59,
     "metadata": {},
     "output_type": "execute_result"
    }
   ],
   "source": [
    "let α = Root([2,0])\n",
    "    Lα = Set([α, -α])\n",
    "    Δs[Lα]\n",
    "end"
   ]
  },
  {
   "cell_type": "code",
   "execution_count": 60,
   "id": "a98b9ef1",
   "metadata": {},
   "outputs": [
    {
     "data": {
      "text/plain": [
       "4·(id) -1·B₃.₂ -1·B₂.₃ -1·B₃.₂^-1 -1·B₂.₃^-1"
      ]
     },
     "execution_count": 60,
     "metadata": {},
     "output_type": "execute_result"
    }
   ],
   "source": [
    "let α = Root([-1,-1])\n",
    "    Lα = Set([α, -α])\n",
    "    Δs[Lα]\n",
    "end"
   ]
  },
  {
   "cell_type": "markdown",
   "id": "dfd12b15",
   "metadata": {},
   "source": [
    "Following the definition of $\\operatorname{Adj}$ we define\n",
    "$$ \\operatorname{Adj}_{\\texttt{C}_\\texttt{2}} = \n",
    "\\prod_{\n",
    "    \\langle L\\alpha, L\\beta \\rangle \\cap \\Omega \\cong \\texttt{C}_{\\texttt{2}}\n",
    "} \\Delta_{L\\alpha} \\Delta_{L\\beta} $$"
   ]
  },
  {
   "cell_type": "code",
   "execution_count": 61,
   "id": "632a6fff",
   "metadata": {},
   "outputs": [
    {
     "data": {
      "text/plain": [
       "192·(id) -24·A₁.₂ -24·A₂.₁ -24·B₃.₁ -24·B₄.₂ -24·B₃.₂ -24·B₁.₃ -24·B₂.₄ -24·B₂.₃ -24·A₁.₂^-1 -24·A₂.₁^-1 -24·B₃.₁^-1 -24·B₄.₂^-1 -24·B₃.₂^-1 -24·B₁.₃^-1 -24·B₂.₄^-1 -24·B₂.₃^-1 +1·A₁.₂*B₃.₁ +2·A₁.₂*B₄.₂ +1·A₁.₂*B₃.₂ +2·A₁.₂*B₁.₃ +1·A₁.₂*B₂.₄ +1·A₁.₂*B₂.₃ +1·A₁.₂*B₃.₁^-1 +2·A₁.₂*B₄.₂^-1 +1·A₁.₂*B₃.₂^-1 +2·A₁.₂*B₁.₃^-1 +1·A₁.₂*B₂.₄^-1 +1·A₁.₂*B₂.₃^-1 +2·A₂.₁*B₃.₁ +1·A₂.₁*B₄.₂ +1·A₂.₁*B₃.₂ +1·A₂.₁*B₁.₃ +2·A₂.₁*B₂.₄ +1·A₂.₁*B₂.₃ +2·A₂.₁*B₃.₁^-1 +1·A₂.₁*B₄.₂^-1 +1·A₂.₁*B₃.₂^-1 +1·A₂.₁*B₁.₃^-1 +2·A₂.₁*B₂.₄^-1 +1·A₂.₁*B₂.₃^-1 +1·B₃.₁*A₁.₂ +2·B₃.₁*B₄.₂ +2·B₃.₁*B₃.₂ +2·B₃.₁*B₂.₄ +1·B₃.₁*B₂.₃ +1·B₃.₁*A₁.₂^-1 +2·B₃.₁*A₂.₁^-1 +2·B₃.₁*B₄.₂^-1 +2·B₃.₁*B₃.₂^-1 +2·B₃.₁*B₂.₄^-1 +1·B₃.₁*B₂.₃^-1 +1·B₄.₂*A₂.₁ +2·B₄.₂*B₃.₂ +2·B₄.₂*B₁.₃ +1·B₄.₂*B₂.₃ +2·B₄.₂*A₁.₂^-1 +1·B₄.₂*A₂.₁^-1 +2·B₄.₂*B₃.₁^-1 +2·B₄.₂*B₃.₂^-1 +2·B₄.₂*B₁.₃^-1 +1·B₄.₂*B₂.₃^-1 +1·B₃.₂*A₁.₂ +1·B₃.₂*A₂.₁ +1·B₃.₂*B₁.₃ +1·B₃.₂*B₂.₄ +1·B₃.₂*A₁.₂^-1 +1·B₃.₂*A₂.₁^-1 +2·B₃.₂*B₃.₁^-1 +2·B₃.₂*B₄.₂^-1 +1·B₃.₂*B₁.₃^-1 +1·B₃.₂*B₂.₄^-1 +1·B₁.₃*A₂.₁ +1·B₁.₃*B₃.₂ +2·B₁.₃*B₂.₄ +2·B₁.₃*B₂.₃ +2·B₁.₃*A₁.₂^-1 +1·B₁.₃*A₂.₁^-1 +2·B₁.₃*B₄.₂^-1 +1·B₁.₃*B₃.₂^-1 +2·B₁.₃*B₂.₄^-1 +2·B₁.₃*B₂.₃^-1 +1·B₂.₄*A₁.₂ +1·B₂.₄*B₃.₂ +2·B₂.₄*B₂.₃ +1·B₂.₄*A₁.₂^-1 +2·B₂.₄*A₂.₁^-1 +2·B₂.₄*B₃.₁^-1 +1·B₂.₄*B₃.₂^-1 +2·B₂.₄*B₁.₃^-1 +2·B₂.₄*B₂.₃^-1 +1·B₂.₃*A₁.₂ +1·B₂.₃*A₂.₁ +1·B₂.₃*B₃.₁ +1·B₂.₃*B₄.₂ +1·B₂.₃*A₁.₂^-1 +1·B₂.₃*A₂.₁^-1 +1·B₂.₃*B₃.₁^-1 +1·B₂.₃*B₄.₂^-1 +2·B₂.₃*B₁.₃^-1 +2·B₂.₃*B₂.₄^-1 +1·A₁.₂^-1*B₃.₁ +1·A₁.₂^-1*B₃.₂ +1·A₁.₂^-1*B₂.₄ +1·A₁.₂^-1*B₂.₃ +1·A₁.₂^-1*B₃.₁^-1 +2·A₁.₂^-1*B₄.₂^-1 +1·A₁.₂^-1*B₃.₂^-1 +2·A₁.₂^-1*B₁.₃^-1 +1·A₁.₂^-1*B₂.₄^-1 +1·A₁.₂^-1*B₂.₃^-1 +1·A₂.₁^-1*B₄.₂ +1·A₂.₁^-1*B₃.₂ +1·A₂.₁^-1*B₁.₃ +1·A₂.₁^-1*B₂.₃ +2·A₂.₁^-1*B₃.₁^-1 +1·A₂.₁^-1*B₄.₂^-1 +1·A₂.₁^-1*B₃.₂^-1 +1·A₂.₁^-1*B₁.₃^-1 +2·A₂.₁^-1*B₂.₄^-1 +1·A₂.₁^-1*B₂.₃^-1 +1·B₃.₁^-1*A₁.₂ +1·B₃.₁^-1*B₂.₃ +1·B₃.₁^-1*A₁.₂^-1 +2·B₃.₁^-1*B₄.₂^-1 +2·B₃.₁^-1*B₃.₂^-1 +2·B₃.₁^-1*B₂.₄^-1 +1·B₃.₁^-1*B₂.₃^-1 +1·B₄.₂^-1*A₂.₁ +1·B₄.₂^-1*B₂.₃ +1·B₄.₂^-1*A₂.₁^-1 +2·B₄.₂^-1*B₃.₂^-1 +2·B₄.₂^-1*B₁.₃^-1 +1·B₄.₂^-1*B₂.₃^-1 +1·B₃.₂^-1*A₁.₂ +1·B₃.₂^-1*A₂.₁ +1·B₃.₂^-1*B₁.₃ +1·B₃.₂^-1*B₂.₄ +1·B₃.₂^-1*A₁.₂^-1 +1·B₃.₂^-1*A₂.₁^-1 +1·B₃.₂^-1*B₁.₃^-1 +1·B₃.₂^-1*B₂.₄^-1 +1·B₁.₃^-1*A₂.₁ +1·B₁.₃^-1*B₃.₂ +1·B₁.₃^-1*A₂.₁^-1 +1·B₁.₃^-1*B₃.₂^-1 +2·B₁.₃^-1*B₂.₄^-1 +2·B₁.₃^-1*B₂.₃^-1 +1·B₂.₄^-1*A₁.₂ +1·B₂.₄^-1*B₃.₂ +1·B₂.₄^-1*A₁.₂^-1 +1·B₂.₄^-1*B₃.₂^-1 +2·B₂.₄^-1*B₂.₃^-1 +1·B₂.₃^-1*A₁.₂ +1·B₂.₃^-1*A₂.₁ +1·B₂.₃^-1*B₃.₁ +1·B₂.₃^-1*B₄.₂ +1·B₂.₃^-1*A₁.₂^-1 +1·B₂.₃^-1*A₂.₁^-1 +1·B₂.₃^-1*B₃.₁^-1 +1·B₂.₃^-1*B₄.₂^-1"
      ]
     },
     "execution_count": 61,
     "metadata": {},
     "output_type": "execute_result"
    }
   ],
   "source": [
    "AdjC₂ = PropertyT.Adj(Δs, :C₂)"
   ]
  },
  {
   "cell_type": "markdown",
   "id": "d5c3232b",
   "metadata": {},
   "source": [
    "It is not hard to see that for $\\Omega = \\texttt{C}_{\\texttt{2}}$ \n",
    " * we are simply looking at products of all $\\Delta_{L\\alpha}$ and $\\Delta_{L\\beta}$ where $L\\alpha \\neq L\\beta$, and\n",
    " * that the new definition is an analouge to the definition of $\\operatorname{Adj}$ from [On property (T) for $\\operatorname{Aut}(F_n)$ and $\\operatorname{SL}_n(\\mathbb{Z})$](https://arxiv.org/abs/1812.03456)."
   ]
  },
  {
   "cell_type": "code",
   "execution_count": 62,
   "id": "c2f434ff",
   "metadata": {},
   "outputs": [
    {
     "data": {
      "text/plain": [
       "true"
      ]
     },
     "execution_count": 62,
     "metadata": {},
     "output_type": "execute_result"
    }
   ],
   "source": [
    "AdjC₂ == Δ^2 - sum(Δs[Lα]^2 for Lα in keys(Δs))"
   ]
  },
  {
   "cell_type": "markdown",
   "id": "15e73409",
   "metadata": {},
   "source": [
    "## Optimization problem"
   ]
  },
  {
   "cell_type": "markdown",
   "id": "ca33a79c",
   "metadata": {},
   "source": [
    "### Symmetry reduction"
   ]
  },
  {
   "cell_type": "code",
   "execution_count": 63,
   "id": "6c039c02",
   "metadata": {},
   "outputs": [],
   "source": [
    "import PropertyT.SA as StarAlgebras\n",
    "import PropertyT.SW as SymbolicWedderburn\n",
    "using PropertyT.PG # PermutationGroups"
   ]
  },
  {
   "cell_type": "code",
   "execution_count": 64,
   "id": "97dc03f7",
   "metadata": {},
   "outputs": [
    {
     "name": "stdout",
     "output_type": "stream",
     "text": [
      "  0.440349 seconds (31.14 M allocations: 1.409 GiB, 12.69% compilation time: 56% of which was recompilation)\n"
     ]
    },
    {
     "name": "stderr",
     "output_type": "stream",
     "text": [
      "\u001b[36m\u001b[1m┌ \u001b[22m\u001b[39m\u001b[36m\u001b[1mInfo: \u001b[22m\u001b[39mWedderburn Decomposition into 289560 orbits and 4 simple summands of sizes\n",
      "\u001b[36m\u001b[1m└ \u001b[22m\u001b[39m[590, 549, 484, 450]\n"
     ]
    }
   ],
   "source": [
    "wd = let RG = RG, N = N\n",
    "    G = StarAlgebras.object(RG)\n",
    "    P = PermGroup(perm\"(1,2)\", Perm(circshift(1:N, -1)))\n",
    "    Weyl = Groups.Constructions.WreathProduct(PermGroup(perm\"(1,2)\"), P)\n",
    "    act = PropertyT.action_by_conjugation(G, Weyl)\n",
    "\n",
    "    @time SymbolicWedderburn.WedderburnDecomposition(\n",
    "        Float64,\n",
    "        Weyl,\n",
    "        act,\n",
    "        StarAlgebras.basis(RG),\n",
    "        StarAlgebras.Basis{UInt16}(@view StarAlgebras.basis(RG)[1:sizes[HALFRADIUS]]),\n",
    "    )\n",
    "end\n",
    "@info wd"
   ]
  },
  {
   "cell_type": "code",
   "execution_count": 65,
   "id": "06e4c96c",
   "metadata": {},
   "outputs": [
    {
     "name": "stdout",
     "output_type": "stream",
     "text": [
      " 39.593111 seconds (217.89 M allocations: 123.553 GiB, 12.32% gc time)\n"
     ]
    },
    {
     "data": {
      "text/plain": [
       "A JuMP Model\n",
       "Maximization problem with:\n",
       "Variables: 544166\n",
       "Objective function type: JuMP.VariableRef\n",
       "`JuMP.AffExpr`-in-`MathOptInterface.EqualTo{Float64}`: 289559 constraints\n",
       "`Vector{JuMP.VariableRef}`-in-`MathOptInterface.PositiveSemidefiniteConeTriangle`: 4 constraints\n",
       "Model mode: AUTOMATIC\n",
       "CachingOptimizer state: NO_OPTIMIZER\n",
       "Solver name: No optimizer attached.\n",
       "Names registered in the model: λ"
      ]
     },
     "execution_count": 65,
     "metadata": {},
     "output_type": "execute_result"
    }
   ],
   "source": [
    "@time model, varP = PropertyT.sos_problem_primal(\n",
    "    AdjC₂,\n",
    "    Δ,\n",
    "    wd;\n",
    "    augmented = true,\n",
    ");\n",
    "model"
   ]
  },
  {
   "cell_type": "markdown",
   "id": "4b2d8ccb",
   "metadata": {},
   "source": [
    "## Solving the problem numerically\n",
    "We will use `scs` [Splitting Conic Solver](https://github.com/cvxgrp/scs) so solve this problem."
   ]
  },
  {
   "cell_type": "code",
   "execution_count": 66,
   "id": "1e77d513",
   "metadata": {},
   "outputs": [],
   "source": [
    "include(joinpath(@__DIR__, \"..\", \"src\", \"optimizers.jl\"));\n",
    "with_optimizer = scs_optimizer(;\n",
    "    eps = 1e-9,\n",
    "    max_iters = 20_000,\n",
    "    accel = 50,\n",
    "    alpha = 1.95,\n",
    ");"
   ]
  },
  {
   "cell_type": "code",
   "execution_count": 67,
   "id": "dcbafe0e",
   "metadata": {},
   "outputs": [],
   "source": [
    "warm = nothing"
   ]
  },
  {
   "cell_type": "markdown",
   "id": "2832564f",
   "metadata": {},
   "source": [
    "> **Note** \n",
    "> * To obtain just any positive lower bound it is advisable to (artificially) bound the objective from above, e.g. by adding\n",
    "    ```julia\n",
    "    JuMP.@constraint(model, upper_bound, model[:λ] ≤ 0.125)\n",
    "    ```\n",
    "    before solving the model (to bring the solve time to below 1h).\n",
    "> * If you do not bound the objective you will need to re-run the cell below several times to obtain `status = OPTIMAL::TerminationStatusCode = 1`. To succesfully certify **a lower bound** that might not be necessary. However this will be necessary to obtain **the bound advertised** in the paper.\n"
   ]
  },
  {
   "cell_type": "code",
   "execution_count": 68,
   "id": "6b0c73e6",
   "metadata": {},
   "outputs": [
    {
     "data": {
      "text/latex": [
       "$$ λ \\leq 0.125 $$"
      ],
      "text/plain": [
       "upper_bound : λ ≤ 0.125"
      ]
     },
     "execution_count": 68,
     "metadata": {},
     "output_type": "execute_result"
    }
   ],
   "source": [
    "JuMP.@constraint(model, upper_bound, model[:λ] ≤ 0.125)"
   ]
  },
  {
   "cell_type": "code",
   "execution_count": 69,
   "id": "815c914f",
   "metadata": {},
   "outputs": [
    {
     "name": "stdout",
     "output_type": "stream",
     "text": [
      "------------------------------------------------------------------\n",
      "\t       SCS v3.2.4 - Splitting Conic Solver\n",
      "\t(c) Brendan O'Donoghue, Stanford University, 2012\n",
      "------------------------------------------------------------------\n",
      "problem:  variables n: 544166, constraints m: 833725\n",
      "cones: \t  z: primal zero / dual free vars: 289559\n",
      "\t  l: linear vars: 1\n",
      "\t  s: psd vars: 544165, ssize: 4\n",
      "settings: eps_abs: 1.0e-09, eps_rel: 1.0e-09, eps_infeas: 1.0e-07\n",
      "\t  alpha: 1.95, scale: 1.00e-01, adaptive_scale: 1\n",
      "\t  max_iters: 20000, normalize: 1, rho_x: 1.00e-06\n",
      "\t  acceleration_lookback: 50, acceleration_interval: 10\n",
      "\t  compiled with openmp parallelization enabled\n",
      "lin-sys:  sparse-direct-mkl-pardiso\n",
      "\t  nnz(A): 4965179, nnz(P): 0\n",
      "------------------------------------------------------------------\n",
      " iter | pri res | dua res |   gap   |   obj   |  scale  | time (s)\n",
      "------------------------------------------------------------------\n",
      "     0| 2.40e+01  1.00e+00  2.03e+01 -1.02e+01  1.00e-01  1.06e+02 \n",
      "   250| 2.90e-03  2.43e-04  3.47e-03 -1.26e-01  2.31e+00  3.06e+02 \n",
      "   500| 1.36e-05  1.18e-05  3.30e-05 -1.25e-01  5.59e-02  5.47e+02 \n",
      "   750| 2.27e-05  4.50e-07  1.01e-05 -1.25e-01  1.25e-02  7.67e+02 \n",
      "  1000| 1.39e-05  2.14e-07  1.06e-05 -1.25e-01  1.25e-02  8.74e+02 \n",
      "  1250| 9.37e-06  3.26e-08  1.14e-05 -1.25e-01  1.25e-02  9.84e+02 \n",
      "  1500| 8.76e-06  1.37e-08  1.03e-05 -1.25e-01  1.25e-02  1.10e+03 \n",
      "  1750| 8.26e-06  5.45e-09  9.59e-06 -1.25e-01  1.25e-02  1.23e+03 \n",
      "  2000| 7.75e-06  2.03e-09  8.85e-06 -1.25e-01  1.25e-02  1.35e+03 \n",
      "  2250| 3.70e-05  1.01e-05  1.31e-05 -1.25e-01  6.39e-01  1.76e+03 \n",
      "  2450| 3.49e-09  5.27e-10  9.08e-11 -1.25e-01  6.39e-01  1.85e+03 \n",
      "------------------------------------------------------------------\n",
      "status:  solved\n",
      "timings: total: 1.85e+03s = setup: 1.05e+02s + solve: 1.75e+03s\n",
      "\t lin-sys: 5.92e+02s, cones: 4.06e+02s, accel: 4.03e+00s\n",
      "------------------------------------------------------------------\n",
      "objective = -0.125000\n",
      "------------------------------------------------------------------\n"
     ]
    },
    {
     "name": "stderr",
     "output_type": "stream",
     "text": [
      "\u001b[36m\u001b[1m┌ \u001b[22m\u001b[39m\u001b[36m\u001b[1mInfo: \u001b[22m\u001b[39mOptimization has finished with\n",
      "\u001b[36m\u001b[1m└ \u001b[22m\u001b[39m  status = OPTIMAL::TerminationStatusCode = 1\n"
     ]
    }
   ],
   "source": [
    "status, warm = PropertyT.solve(\n",
    "        model,\n",
    "        with_optimizer,\n",
    "        warm,\n",
    "    );\n",
    "# note: since we're using scs there will be no printout until the optimization has finished \n",
    "# please bear with us...\n",
    "@info \"Optimization has finished with\" status"
   ]
  },
  {
   "cell_type": "markdown",
   "id": "7aad65b7",
   "metadata": {},
   "source": [
    "### Reconstructing and certifying the solution"
   ]
  },
  {
   "cell_type": "code",
   "execution_count": 70,
   "id": "5738ff88",
   "metadata": {},
   "outputs": [
    {
     "name": "stderr",
     "output_type": "stream",
     "text": [
      "\u001b[36m\u001b[1m[ \u001b[22m\u001b[39m\u001b[36m\u001b[1mInfo: \u001b[22m\u001b[39mreconstructing the solution\n"
     ]
    },
    {
     "name": "stdout",
     "output_type": "stream",
     "text": [
      "  1.584577 seconds (22.84 M allocations: 861.932 MiB, 11.93% gc time, 4.39% compilation time)\n"
     ]
    },
    {
     "data": {
      "text/plain": [
       "2073×2073 Matrix{Float64}:\n",
       " 0.0   0.0           0.0           0.0          …   0.0           0.0\n",
       " 0.0   0.53076       0.122576      0.127844         0.00062125   -6.15139e-5\n",
       " 0.0   0.122576      0.53076       0.13139          0.00062125   -6.15139e-5\n",
       " 0.0   0.127844      0.13139       0.527937         0.000852002  -0.000178643\n",
       " 0.0   0.13139       0.127844      0.129358         0.000852002  -0.000178643\n",
       " 0.0   0.127784      0.127784      0.131408     …  -2.42835e-5   -0.000543139\n",
       " 0.0   0.13139       0.127844      0.12953          0.0010291     0.00106489\n",
       " 0.0   0.127844      0.13139       0.132646         0.0010291     0.00106489\n",
       " 0.0   0.127784      0.127784      0.127877         0.000569626   0.00228599\n",
       " 0.0   0.119758      0.122304      0.127844         0.00062125   -6.15139e-5\n",
       " 0.0   0.122304      0.119758      0.13139      …   0.00062125   -6.15139e-5\n",
       " 0.0   0.127844      0.13139       0.121956         0.000852002  -0.000178643\n",
       " 0.0   0.13139       0.127844      0.132655         0.000852002  -0.000178643\n",
       " ⋮                                              ⋱                \n",
       " 0.0   0.000558433   0.000558433   0.00143944      -0.00018255    0.000395841\n",
       " 0.0   0.0022708    -0.000101172   0.000817083      0.00274044    0.000691007\n",
       " 0.0  -0.000101172   0.0022708     0.000128289      0.00274044    0.000691007\n",
       " 0.0  -0.000492815  -0.000468689  -0.00202039      -0.00318707    0.00483409\n",
       " 0.0  -0.000468689  -0.000492815   0.000903997  …  -0.00318707    0.00483409\n",
       " 0.0   0.00201998    0.00201998    0.00180304       0.00559151   -0.00160783\n",
       " 0.0  -0.000634226   0.00121733   -0.00190689       0.00274044    0.000691007\n",
       " 0.0   0.00121733   -0.000634226  -0.000477358      0.00274044    0.000691007\n",
       " 0.0   0.0012265    -0.00205262    0.00143391      -0.00318707    0.00483409\n",
       " 0.0  -0.00205262    0.0012265    -0.00154484   …  -0.00318707    0.00483409\n",
       " 0.0   0.00062125    0.00062125    0.000852002      0.0249886     0.000823079\n",
       " 0.0  -6.15139e-5   -6.15139e-5   -0.000178643      0.000823079   0.0355207"
      ]
     },
     "execution_count": 70,
     "metadata": {},
     "output_type": "execute_result"
    }
   ],
   "source": [
    "@info \"reconstructing the solution\"\n",
    "Q = @time let wd = wd, Ps = [JuMP.value.(P) for P in varP]\n",
    "    Qs = real.(sqrt.(Ps))\n",
    "    PropertyT.reconstruct(Qs, wd)\n",
    "end"
   ]
  },
  {
   "cell_type": "code",
   "execution_count": 71,
   "id": "69552e43",
   "metadata": {},
   "outputs": [
    {
     "name": "stderr",
     "output_type": "stream",
     "text": [
      "\u001b[36m\u001b[1m[ \u001b[22m\u001b[39m\u001b[36m\u001b[1mInfo: \u001b[22m\u001b[39mcertifying the solution\n",
      "\u001b[36m\u001b[1m┌ \u001b[22m\u001b[39m\u001b[36m\u001b[1mInfo: \u001b[22m\u001b[39mChecking in Float64 arithmetic with\n",
      "\u001b[36m\u001b[1m└ \u001b[22m\u001b[39m  λ = 0.1249999976381011\n"
     ]
    },
    {
     "name": "stdout",
     "output_type": "stream",
     "text": [
      "  0.302645 seconds (6 allocations: 41.550 MiB)\n"
     ]
    },
    {
     "name": "stderr",
     "output_type": "stream",
     "text": [
      "\u001b[36m\u001b[1m┌ \u001b[22m\u001b[39m\u001b[36m\u001b[1mInfo: \u001b[22m\u001b[39mNumerical metrics of the obtained SOS:\n",
      "\u001b[36m\u001b[1m│ \u001b[22m\u001b[39mɛ(elt - λu - ∑ξᵢ*ξᵢ) ≈ 4.70877e-11\n",
      "\u001b[36m\u001b[1m│ \u001b[22m\u001b[39m‖elt - λu - ∑ξᵢ*ξᵢ‖₁ ≈ 5.04044e-6\n",
      "\u001b[36m\u001b[1m└ \u001b[22m\u001b[39m λ ≈ 0.12491935055025002\n",
      "\u001b[36m\u001b[1m┌ \u001b[22m\u001b[39m\u001b[36m\u001b[1mInfo: \u001b[22m\u001b[39mChecking in Interval{Float64} arithmetic with\n",
      "\u001b[36m\u001b[1m└ \u001b[22m\u001b[39m  λ_int = [0.124999, 0.125]\n"
     ]
    },
    {
     "name": "stdout",
     "output_type": "stream",
     "text": [
      "  2.342842 seconds (67 allocations: 804.395 MiB, 6.83% gc time)\n"
     ]
    },
    {
     "name": "stderr",
     "output_type": "stream",
     "text": [
      "\u001b[36m\u001b[1m┌ \u001b[22m\u001b[39m\u001b[36m\u001b[1mInfo: \u001b[22m\u001b[39mNumerical metrics of the obtained SOS:\n",
      "\u001b[36m\u001b[1m│ \u001b[22m\u001b[39mɛ(elt - λu - ∑ξᵢ*ξᵢ) ∈ [-6.00359e-08, 6.0127e-08]\n",
      "\u001b[36m\u001b[1m│ \u001b[22m\u001b[39m‖elt - λu - ∑ξᵢ*ξᵢ‖₁ ∈ [4.98036e-06, 5.10053e-06]\n",
      "\u001b[36m\u001b[1m└ \u001b[22m\u001b[39m λ ∈ [0.124918, 0.124921]\n",
      "\u001b[36m\u001b[1m┌ \u001b[22m\u001b[39m\u001b[36m\u001b[1mInfo: \u001b[22m\u001b[39mCertified result: Adj_C₂ is positive\n",
      "\u001b[36m\u001b[1m└ \u001b[22m\u001b[39m  PropertyT.IntervalArithmetic.inf(λ) = 0.12491838921433493\n"
     ]
    }
   ],
   "source": [
    "@info \"certifying the solution\"\n",
    "certified, λ = PropertyT.certify_solution(\n",
    "    AdjC₂,\n",
    "    Δ,\n",
    "    JuMP.objective_value(model),\n",
    "    Q;\n",
    "    halfradius = HALFRADIUS,\n",
    "    augmented = true,\n",
    ")\n",
    "\n",
    "if certified && λ > 0\n",
    "    @info \"Certified result: Adj_C₂ is positive\" PropertyT.IntervalArithmetic.inf(λ)\n",
    "else\n",
    "    @info \"Could NOT certify the positivity of Adj_C₂\" certified λ\n",
    "end"
   ]
  },
  {
   "cell_type": "code",
   "execution_count": 72,
   "id": "03072355",
   "metadata": {},
   "outputs": [
    {
     "data": {
      "text/plain": [
       "2024-07-08T15:43:41.262"
      ]
     },
     "execution_count": 72,
     "metadata": {},
     "output_type": "execute_result"
    }
   ],
   "source": [
    "using Dates\n",
    "Dates.now()"
   ]
  },
  {
   "cell_type": "code",
   "execution_count": 73,
   "id": "5f0e72f2",
   "metadata": {},
   "outputs": [
    {
     "name": "stdout",
     "output_type": "stream",
     "text": [
      "Julia Version 1.10.4\n",
      "Commit 48d4fd48430 (2024-06-04 10:41 UTC)\n",
      "Build Info:\n",
      "  Official https://julialang.org/ release\n",
      "Platform Info:\n",
      "  OS: Linux (x86_64-linux-gnu)\n",
      "  CPU: 16 × AMD Ryzen 7 7840U w/ Radeon  780M Graphics\n",
      "  WORD_SIZE: 64\n",
      "  LIBM: libopenlibm\n",
      "  LLVM: libLLVM-15.0.7 (ORCJIT, znver3)\n",
      "Threads: 8 default, 0 interactive, 4 GC (on 16 virtual cores)\n",
      "Environment:\n",
      "  JULIA_NUM_THREADS = 8\n"
     ]
    }
   ],
   "source": [
    "versioninfo()"
   ]
  },
  {
   "cell_type": "code",
   "execution_count": null,
   "id": "266c3727",
   "metadata": {},
   "outputs": [],
   "source": []
  }
 ],
 "metadata": {
  "kernelspec": {
   "display_name": "Julia 1.10.4",
   "language": "julia",
   "name": "julia-1.10"
  },
  "language_info": {
   "file_extension": ".jl",
   "mimetype": "application/julia",
   "name": "julia",
   "version": "1.10.4"
  }
 },
 "nbformat": 4,
 "nbformat_minor": 5
}
