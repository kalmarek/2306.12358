{
 "cells": [
  {
   "attachments": {},
   "cell_type": "markdown",
   "id": "ff3a4577",
   "metadata": {},
   "source": [
    "# Installation\n",
    "\n",
    "The following instructions were prepared using"
   ]
  },
  {
   "cell_type": "code",
   "execution_count": 1,
   "id": "3f1e024a",
   "metadata": {
    "scrolled": true
   },
   "outputs": [
    {
     "name": "stdout",
     "output_type": "stream",
     "text": [
      "Julia Version 1.10.4\n",
      "Commit 48d4fd48430 (2024-06-04 10:41 UTC)\n",
      "Build Info:\n",
      "  Official https://julialang.org/ release\n",
      "Platform Info:\n",
      "  OS: Linux (x86_64-linux-gnu)\n",
      "  CPU: 16 × AMD Ryzen 7 7840U w/ Radeon  780M Graphics\n",
      "  WORD_SIZE: 64\n",
      "  LIBM: libopenlibm\n",
      "  LLVM: libLLVM-15.0.7 (ORCJIT, znver3)\n",
      "Threads: 8 default, 0 interactive, 4 GC (on 16 virtual cores)\n",
      "Environment:\n",
      "  JULIA_NUM_THREADS = 8\n"
     ]
    }
   ],
   "source": [
    "versioninfo()"
   ]
  },
  {
   "attachments": {},
   "cell_type": "markdown",
   "id": "f950c8ae",
   "metadata": {},
   "source": [
    "Before exploring the notebook you need to clone the main repository:\n",
    "\n",
    "```\n",
    "git clone https://github.com/kalmarek/2306.12358.git\n",
    "```"
   ]
  },
  {
   "attachments": {},
   "cell_type": "markdown",
   "id": "544c749f",
   "metadata": {},
   "source": [
    "This notebook should be located in `2306.12358/notebooks` directory.\n",
    "\n",
    "In the main directory (`2306.12358`) you should run the following code in julias REPL console to instantiate the environment for computations:\n",
    "\n",
    "```julia\n",
    "using Pkg\n",
    "Pkg.activate(\".\")\n",
    "Pkg.instantiate()\n",
    "```\n",
    "\n",
    "(this needs to be done once per installation).\n",
    "\n",
    "Instantiation should install (among others):\n",
    "* JuMP package for mathematical programming (https://jump.dev/),\n",
    "* SCS solver (https://github.com/cvxgrp/scs),\n",
    "* COSMO solver (https://github.com/oxfordcontrol/COSMO.jl),\n",
    "* and `IntervalArithmetic.jl` package from ValidatedNumerics (https://juliaintervals.github.io/).\n",
    "\n",
    "The environment uses [`Groups.jl`](https://github.com/kalmarek/Groups.jl), [`StarAlgebras.jl`](https://github.com/kalmarek/StarAlgebras.jl/), [`SymbolicWedderburn.jl`](https://github.com/kalmarek/SymbolicWedderburn.jl/) and [`PropertyT.jl`](https://github.com/kalmarek/PropertyT.jl/) packages.\n",
    "\n",
    "A jupyter server may then be launched within the directory `2306.12358` by issuing from julia command-line (REPL) the following commands.\n",
    "\n",
    "```julia\n",
    "using Pkg\n",
    "Pkg.activate(\".\")\n",
    "using IJulia\n",
    "notebook(dir=pwd())\n",
    "```\n",
    "\n",
    "During the first run, the user may be asked for installation of Jupyter program (a server for running this notebook) within miniconda environment, which will happen automatically after confirmation. To execute the commands in the notebook, one needs to navigate to notebooks subdirectory of `2306.12358` and click either of the notebooks.\n",
    "\n",
    "> Code \"cells\" have a label, e.g. In [1]: on their left margin. Click somewhere in the proximity of the label to select a cell. The selected cell is run by either clicking the `Run` button in the top toolbar, or by pressing `Shift+Enter`.\n",
    "\n"
   ]
  },
  {
   "cell_type": "code",
   "execution_count": 2,
   "id": "513c14ba",
   "metadata": {},
   "outputs": [],
   "source": [
    "using Pkg"
   ]
  },
  {
   "cell_type": "code",
   "execution_count": 3,
   "id": "b649994b",
   "metadata": {},
   "outputs": [
    {
     "name": "stderr",
     "output_type": "stream",
     "text": [
      "\u001b[32m\u001b[1m  Activating\u001b[22m\u001b[39m project at `~/Mathematics/Research/Property (T)/Chevalley/2306.12358`\n"
     ]
    }
   ],
   "source": [
    "Pkg.activate(joinpath(@__DIR__, \"..\"))"
   ]
  },
  {
   "cell_type": "code",
   "execution_count": 4,
   "id": "b3d7b4a8",
   "metadata": {},
   "outputs": [
    {
     "name": "stdout",
     "output_type": "stream",
     "text": [
      "\u001b[32m\u001b[1mStatus\u001b[22m\u001b[39m `~/Mathematics/Research/Property (T)/Chevalley/2306.12358/Project.toml`\n",
      "  \u001b[90m[c7e460c6] \u001b[39mArgParse v1.2.0\n",
      "  \u001b[90m[1e616198] \u001b[39mCOSMO v0.8.9\n",
      "  \u001b[90m[5d8bd718] \u001b[39mGroups v0.8.0\n",
      "  \u001b[90m[7073ff75] \u001b[39mIJulia v1.25.0\n",
      "  \u001b[90m[4076af6c] \u001b[39mJuMP v1.22.2\n",
      "  \u001b[90m[03b72c93] \u001b[39mPropertyT v0.6.0 `https://github.com/kalmarek/PropertyT.jl#master`\n",
      "  \u001b[90m[c946c3f1] \u001b[39mSCS v2.0.0\n",
      "\u001b[32m⌃\u001b[39m \u001b[90m[3f2553a9] \u001b[39mSCS_MKL_jll v3.2.4+1 ⚲\n",
      "  \u001b[90m[ade2ca70] \u001b[39mDates\n",
      "  \u001b[90m[37e2e46d] \u001b[39mLinearAlgebra\n",
      "\u001b[36m\u001b[1mInfo\u001b[22m\u001b[39m Packages marked with \u001b[32m⌃\u001b[39m have new versions available and may be upgradable.\n"
     ]
    }
   ],
   "source": [
    "Pkg.status()"
   ]
  },
  {
   "cell_type": "code",
   "execution_count": 5,
   "id": "870cacc0",
   "metadata": {},
   "outputs": [],
   "source": [
    "using Groups\n",
    "import Groups.MatrixGroups"
   ]
  },
  {
   "cell_type": "code",
   "execution_count": 6,
   "id": "93f55576",
   "metadata": {},
   "outputs": [],
   "source": [
    "using PropertyT"
   ]
  },
  {
   "attachments": {},
   "cell_type": "markdown",
   "id": "09350231",
   "metadata": {},
   "source": [
    "# $\\texttt{A}_\\texttt{2}$ graded $\\operatorname{Adj}$\n",
    "\n",
    "We wish to prove\n",
    "> **Theorem 3.6** Let $G = \\operatorname{SL}_3(\\mathbb{Z})$ be the universal Chevalley group over $\\mathbb{Z}$ of type $\\texttt{A}_\\texttt{2}$ endowed with the set of Steinberg generators $S$. Let $V$ denote the ambient vector space of the root system. Then $$\\operatorname{Adj}_V −\\lambda \\Delta_V ⩾_R 0$$\n",
    "whenever $(\\lambda, R) \\in (0.158606, 2), (0.273954, 3)$.\n",
    "\n",
    "Below we will prove the theorem for $R = 2$. Proving it for $R = 3$ requires changing `HALFRADIUS` to $3$ below and a bit of patience."
   ]
  },
  {
   "cell_type": "code",
   "execution_count": 7,
   "id": "029c8835",
   "metadata": {},
   "outputs": [
    {
     "data": {
      "text/plain": [
       "special linear group of 3×3 matrices over Int8"
      ]
     },
     "execution_count": 7,
     "metadata": {},
     "output_type": "execute_result"
    }
   ],
   "source": [
    "N = 3\n",
    "G = MatrixGroups.SpecialLinearGroup{N}(Int8)"
   ]
  },
  {
   "cell_type": "code",
   "execution_count": 8,
   "id": "8066508c",
   "metadata": {},
   "outputs": [
    {
     "data": {
      "text/plain": [
       "E₁₂ ∈ SL{3,Int8}\n",
       " 1  1  0\n",
       " 0  1  0\n",
       " 0  0  1"
      ]
     },
     "execution_count": 8,
     "metadata": {},
     "output_type": "execute_result"
    }
   ],
   "source": [
    "g = gens(G, 1)"
   ]
  },
  {
   "cell_type": "code",
   "execution_count": 9,
   "id": "beab93f6",
   "metadata": {},
   "outputs": [
    {
     "name": "stdout",
     "output_type": "stream",
     "text": [
      "  0.004542 seconds (135.29 k allocations: 5.381 MiB)\n",
      "  0.000827 seconds (21.64 k allocations: 846.062 KiB)\n",
      "  0.667067 seconds (1.62 M allocations: 106.888 MiB, 2.90% gc time, 99.09% compilation time)\n"
     ]
    },
    {
     "name": "stderr",
     "output_type": "stream",
     "text": [
      "\u001b[36m\u001b[1m[ \u001b[22m\u001b[39m\u001b[36m\u001b[1mInfo: \u001b[22m\u001b[39mgenerating wl-metric ball of radius 4\n",
      "\u001b[36m\u001b[1m[ \u001b[22m\u001b[39m\u001b[36m\u001b[1mInfo: \u001b[22m\u001b[39msizes = [13, 121, 883, 5455]\n",
      "\u001b[36m\u001b[1m[ \u001b[22m\u001b[39m\u001b[36m\u001b[1mInfo: \u001b[22m\u001b[39mcomputing the *-algebra structure for G\n"
     ]
    }
   ],
   "source": [
    "HALFRADIUS = 2\n",
    "RG, S, sizes = @time PropertyT.group_algebra(G, halfradius = HALFRADIUS);"
   ]
  },
  {
   "cell_type": "code",
   "execution_count": 10,
   "id": "467fd8a1",
   "metadata": {},
   "outputs": [
    {
     "data": {
      "text/plain": [
       "12-element Vector{FPGroupElement{Groups.MatrixGroups.SpecialLinearGroup{3, Int8, DataType, Groups.MatrixGroups.ElementaryMatrix{3, Int8}}, KnuthBendix.Words.Word{UInt8}}}:\n",
       " E₁₂\n",
       " E₁₃\n",
       " E₂₁\n",
       " E₂₃\n",
       " E₃₁\n",
       " E₃₂\n",
       " E₁₂^-1\n",
       " E₁₃^-1\n",
       " E₂₁^-1\n",
       " E₂₃^-1\n",
       " E₃₁^-1\n",
       " E₃₂^-1"
      ]
     },
     "execution_count": 10,
     "metadata": {},
     "output_type": "execute_result"
    }
   ],
   "source": [
    "S"
   ]
  },
  {
   "cell_type": "code",
   "execution_count": 11,
   "id": "f7c272df",
   "metadata": {},
   "outputs": [
    {
     "data": {
      "text/plain": [
       "12·(id) -1·E₁₂ -1·E₁₃ -1·E₂₁ -1·E₂₃ -1·E₃₁ -1·E₃₂ -1·E₁₂^-1 -1·E₁₃^-1 -1·E₂₁^-1 -1·E₂₃^-1 -1·E₃₁^-1 -1·E₃₂^-1"
      ]
     },
     "execution_count": 11,
     "metadata": {},
     "output_type": "execute_result"
    }
   ],
   "source": [
    "Δ = RG(length(S)) - sum(RG(s) for s in S)"
   ]
  },
  {
   "attachments": {},
   "cell_type": "markdown",
   "id": "f6984c9d",
   "metadata": {},
   "source": [
    "## Grading\n",
    "\n",
    "Let us define $\\texttt{A}_\\texttt{2}$ grading for $(G, S)$. That is, to every generator $s \\in S$ we need to assign a root in $\\texttt{A}_\\texttt{2}$ in a compatible fashion. For the precise description of this grading see **Example 3.2 (1)** of the accompanying paper.  "
   ]
  },
  {
   "cell_type": "code",
   "execution_count": 12,
   "id": "974a44ab",
   "metadata": {},
   "outputs": [
    {
     "data": {
      "text/plain": [
       "E₁₂ ∈ SL{3,Int8}\n",
       " 1  1  0\n",
       " 0  1  0\n",
       " 0  0  1"
      ]
     },
     "execution_count": 12,
     "metadata": {},
     "output_type": "execute_result"
    }
   ],
   "source": [
    "g"
   ]
  },
  {
   "cell_type": "code",
   "execution_count": 13,
   "id": "87b43a33",
   "metadata": {},
   "outputs": [
    {
     "data": {
      "text/plain": [
       "Root in ℝ^3 of length √2\n",
       "[1, -1, 0]"
      ]
     },
     "execution_count": 13,
     "metadata": {},
     "output_type": "execute_result"
    }
   ],
   "source": [
    "PropertyT.grading(g)"
   ]
  },
  {
   "cell_type": "code",
   "execution_count": 14,
   "id": "027fd276",
   "metadata": {},
   "outputs": [],
   "source": [
    "Δs = PropertyT.laplacians(\n",
    "    RG,\n",
    "    S,\n",
    "    x -> (gx = PropertyT.grading(x); Set([gx, -gx])),\n",
    ");"
   ]
  },
  {
   "attachments": {},
   "cell_type": "markdown",
   "id": "694a27d7",
   "metadata": {},
   "source": [
    "Here `Δs` is just a map from lines in the root system $\\Omega = \\texttt{A}_{\\texttt{2}}$ to the corresponding Laplacians; e.g. below we can see that to the line through `α = [1, -1, 0]` and `-α` (and the origin) we assign\n",
    "$$ \\Delta_{Lα} = 4 - E_{1,2} - E_{2,1} - E_{1,2}^{-1} - E_{2,1}^{-1}.$$ "
   ]
  },
  {
   "cell_type": "code",
   "execution_count": 15,
   "id": "1d6d23cb",
   "metadata": {},
   "outputs": [
    {
     "data": {
      "text/plain": [
       "4·(id) -1·E₁₂ -1·E₂₁ -1·E₁₂^-1 -1·E₂₁^-1"
      ]
     },
     "execution_count": 15,
     "metadata": {},
     "output_type": "execute_result"
    }
   ],
   "source": [
    "using PropertyT.Roots # for nicer printing\n",
    "α = Root([1,-1,0])\n",
    "Lα = Set([α, -α])\n",
    "Δs[Lα]"
   ]
  },
  {
   "attachments": {},
   "cell_type": "markdown",
   "id": "607e65f5",
   "metadata": {},
   "source": [
    "Following the definition of $\\operatorname{Adj}$ we define\n",
    "$$ \\operatorname{Adj}_{\\texttt{A}_\\texttt{2}} = \n",
    "\\prod_{\n",
    "    \\langle L\\alpha, L\\beta \\rangle \\cap \\Omega \\cong \\texttt{A}_{\\texttt{2}}\n",
    "} \\Delta_{L\\alpha} \\Delta_{L\\beta} $$"
   ]
  },
  {
   "cell_type": "code",
   "execution_count": 16,
   "id": "1b3fedbc",
   "metadata": {},
   "outputs": [
    {
     "data": {
      "text/plain": [
       "96·(id) -16·E₁₂ -16·E₁₃ -16·E₂₁ -16·E₂₃ -16·E₃₁ -16·E₃₂ -16·E₁₂^-1 -16·E₁₃^-1 -16·E₂₁^-1 -16·E₂₃^-1 -16·E₃₁^-1 -16·E₃₂^-1 +2·E₁₂*E₁₃ +1·E₁₂*E₂₃ +1·E₁₂*E₃₁ +2·E₁₂*E₃₂ +2·E₁₂*E₁₃^-1 +1·E₁₂*E₂₃^-1 +1·E₁₂*E₃₁^-1 +2·E₁₂*E₃₂^-1 +1·E₁₃*E₂₁ +2·E₁₃*E₂₃ +1·E₁₃*E₃₂ +2·E₁₃*E₁₂^-1 +1·E₁₃*E₂₁^-1 +2·E₁₃*E₂₃^-1 +1·E₁₃*E₃₂^-1 +1·E₂₁*E₁₃ +2·E₂₁*E₂₃ +2·E₂₁*E₃₁ +1·E₂₁*E₃₂ +1·E₂₁*E₁₃^-1 +2·E₂₁*E₂₃^-1 +2·E₂₁*E₃₁^-1 +1·E₂₁*E₃₂^-1 +1·E₂₃*E₁₂ +1·E₂₃*E₃₁ +1·E₂₃*E₁₂^-1 +2·E₂₃*E₁₃^-1 +2·E₂₃*E₂₁^-1 +1·E₂₃*E₃₁^-1 +1·E₃₁*E₁₂ +1·E₃₁*E₂₃ +2·E₃₁*E₃₂ +1·E₃₁*E₁₂^-1 +2·E₃₁*E₂₁^-1 +1·E₃₁*E₂₃^-1 +2·E₃₁*E₃₂^-1 +1·E₃₂*E₁₃ +1·E₃₂*E₂₁ +2·E₃₂*E₁₂^-1 +1·E₃₂*E₁₃^-1 +1·E₃₂*E₂₁^-1 +2·E₃₂*E₃₁^-1 +1·E₁₂^-1*E₂₃ +1·E₁₂^-1*E₃₁ +2·E₁₂^-1*E₁₃^-1 +1·E₁₂^-1*E₂₃^-1 +1·E₁₂^-1*E₃₁^-1 +2·E₁₂^-1*E₃₂^-1 +1·E₁₃^-1*E₂₁ +1·E₁₃^-1*E₃₂ +1·E₁₃^-1*E₂₁^-1 +2·E₁₃^-1*E₂₃^-1 +1·E₁₃^-1*E₃₂^-1 +1·E₂₁^-1*E₁₃ +1·E₂₁^-1*E₃₂ +1·E₂₁^-1*E₁₃^-1 +2·E₂₁^-1*E₂₃^-1 +2·E₂₁^-1*E₃₁^-1 +1·E₂₁^-1*E₃₂^-1 +1·E₂₃^-1*E₁₂ +1·E₂₃^-1*E₃₁ +1·E₂₃^-1*E₁₂^-1 +1·E₂₃^-1*E₃₁^-1 +1·E₃₁^-1*E₁₂ +1·E₃₁^-1*E₂₃ +1·E₃₁^-1*E₁₂^-1 +1·E₃₁^-1*E₂₃^-1 +2·E₃₁^-1*E₃₂^-1 +1·E₃₂^-1*E₁₃ +1·E₃₂^-1*E₂₁ +1·E₃₂^-1*E₁₃^-1 +1·E₃₂^-1*E₂₁^-1"
      ]
     },
     "execution_count": 16,
     "metadata": {},
     "output_type": "execute_result"
    }
   ],
   "source": [
    "AdjA₂ = PropertyT.Adj(Δs, :A₂)"
   ]
  },
  {
   "attachments": {},
   "cell_type": "markdown",
   "id": "7f64c98b",
   "metadata": {},
   "source": [
    "It is not hard to see that for $\\Omega = \\texttt{A}_{\\texttt{2}}$ \n",
    " * we are simply looking at products of all $\\Delta_{L\\alpha}$ and $\\Delta_{L\\beta}$ where $L\\alpha \\neq L\\beta$, and\n",
    " * that the new definition agrees with the definition of $\\operatorname{Adj_3}$ from [On property (T) for $\\operatorname{Aut}(F_n)$ and $\\operatorname{SL}_n(\\mathbb{Z})$](https://arxiv.org/abs/1812.03456):"
   ]
  },
  {
   "cell_type": "code",
   "execution_count": 17,
   "id": "e5545755",
   "metadata": {},
   "outputs": [
    {
     "data": {
      "text/plain": [
       "true"
      ]
     },
     "execution_count": 17,
     "metadata": {},
     "output_type": "execute_result"
    }
   ],
   "source": [
    "AdjA₂ == Δ^2 - sum(Δs[Lα]^2 for Lα in keys(Δs))"
   ]
  },
  {
   "cell_type": "code",
   "execution_count": 18,
   "id": "bb74feed",
   "metadata": {},
   "outputs": [
    {
     "data": {
      "text/plain": [
       "true"
      ]
     },
     "execution_count": 18,
     "metadata": {},
     "output_type": "execute_result"
    }
   ],
   "source": [
    "let (sq,adj,op) = PropertyT.SqAdjOp(RG, N)\n",
    "    AdjA₂ == adj && AdjA₂ == Δ^2 - sq\n",
    "end"
   ]
  },
  {
   "attachments": {},
   "cell_type": "markdown",
   "id": "2f2ad4bd",
   "metadata": {},
   "source": [
    "## Optimization problem\n",
    "To prove **Theorem 3.6** we need to rewrite $\\operatorname{Adj}_{\\texttt{A}_\\texttt{2}} - \\lambda \\Delta$ as a sum of squares in the group algebra $\\mathbb{R}G$.\n",
    "\n",
    "Below `PropertyT.sos_problem_primal` takes $x$ and $u$, two elements of a *-algebra $\\mathcal{A}$ (e.g. a group ring) and returns an optimization problem where we try to \n",
    "\n",
    "$$ \\begin{aligned}\n",
    "\\max\\quad &\\lambda \\\\\n",
    "\\text{subject to:}\\quad & \\operatorname{x} - \\lambda\\cdot\\operatorname{u} = \\sum_i^n \\xi_i^* \\xi_i\\\\\n",
    "\\quad & \\xi_i \\in \\mathcal{A}.\n",
    "\\end{aligned}\n",
    "$$\n",
    "\n",
    "This is internally obtained by translating this problem into a problem of semi-definite optimization as follows:\n",
    "\n",
    "$$ \\begin{aligned}\n",
    "\\max\\quad &\\lambda \\\\\n",
    "\\text{subject to:}\\quad & (\\operatorname{x} - \\lambda\\cdot\\operatorname{u})(t) = \\langle A_t, P\\rangle, \\quad t \\in \\operatorname{Ball}(S, 2R)\\\\\n",
    "& P \\succeq 0,\\\\\n",
    "\\end{aligned}\n",
    "$$\n",
    "\n",
    "for some Boolean matrices $A_t \\in \\operatorname{Mat}_{n,n}$ where $n = \\left|\\operatorname{Ball}(S, R)\\right|$. These matrices are defined by the multiplicative structure on $\\mathcal{A}$, i.e.\n",
    "\n",
    "$$ \\left(A_t\\right)_{a,b} = \\left\\{\\begin{align}1 \\quad & \\text{when }a^* \\cdot b == t\\\\ 0 \\quad & \\text{otherwise}\\end{align}\\right.$$\n",
    "\n",
    "The translation is done simply by realizing that since $P$ is positive semi-definite, there exists a real root $Q$ of $P$, i.e. $Q^T\\cdot Q = P$. Then $\\xi_i$ is obtained by treating the $i$-th column of $Q$ as a vector of coefficients w.r.t. basis $\\operatorname{Ball}(S, R)$ and extending $\\xi_i$ to $0$ elsewhere.\n",
    "\n",
    "The problem with this formulation is that the constraint $P \\succeq 0$ quickly becomes numerically untractable."
   ]
  },
  {
   "cell_type": "code",
   "execution_count": 19,
   "id": "5e1bc3c0",
   "metadata": {},
   "outputs": [
    {
     "name": "stdout",
     "output_type": "stream",
     "text": [
      "  1.384055 seconds (3.69 M allocations: 257.542 MiB, 6.65% gc time, 95.48% compilation time: <1% of which was recompilation)\n"
     ]
    },
    {
     "data": {
      "text/plain": [
       "A JuMP Model\n",
       "Maximization problem with:\n",
       "Variables: 7382\n",
       "Objective function type: JuMP.VariableRef\n",
       "`JuMP.AffExpr`-in-`MathOptInterface.EqualTo{Float64}`: 5455 constraints\n",
       "`Vector{JuMP.VariableRef}`-in-`MathOptInterface.PositiveSemidefiniteConeTriangle`: 1 constraint\n",
       "Model mode: AUTOMATIC\n",
       "CachingOptimizer state: NO_OPTIMIZER\n",
       "Solver name: No optimizer attached.\n",
       "Names registered in the model: P, psd, λ"
      ]
     },
     "execution_count": 19,
     "metadata": {},
     "output_type": "execute_result"
    }
   ],
   "source": [
    "@time model = PropertyT.sos_problem_primal(AdjA₂, Δ, augmented = true)"
   ]
  },
  {
   "attachments": {},
   "cell_type": "markdown",
   "id": "a9359d8a",
   "metadata": {},
   "source": [
    "### Symmetry reduction\n",
    "\n",
    "To simplify the optimization problem we will use Wedderburn decomposition of the (finite dimensional) subspace $E_R < \\mathbb{R}G$ spanned by all elements in $\\operatorname{Ball}(S, R)$, the ball of radius $R$:"
   ]
  },
  {
   "cell_type": "code",
   "execution_count": 20,
   "id": "a81ab31f",
   "metadata": {},
   "outputs": [],
   "source": [
    "import PropertyT.SA as StarAlgebras\n",
    "import PropertyT.SW as SymbolicWedderburn\n",
    "using PropertyT.PG # PermutationGroups"
   ]
  },
  {
   "cell_type": "code",
   "execution_count": 21,
   "id": "476f9441",
   "metadata": {},
   "outputs": [
    {
     "name": "stdout",
     "output_type": "stream",
     "text": [
      "  8.269365 seconds (14.91 M allocations: 1007.374 MiB, 2.61% gc time, 230.44% compilation time: <1% of which was recompilation)\n"
     ]
    },
    {
     "name": "stderr",
     "output_type": "stream",
     "text": [
      "\u001b[36m\u001b[1m┌ \u001b[22m\u001b[39m\u001b[36m\u001b[1mInfo: \u001b[22m\u001b[39mWedderburn Decomposition into 247 orbits and 5 simple summands of sizes\n",
      "\u001b[36m\u001b[1m└ \u001b[22m\u001b[39m[9, 6, 14, 14, 12]\n"
     ]
    }
   ],
   "source": [
    "wd = let RG = RG, N = N\n",
    "    G = StarAlgebras.object(RG)\n",
    "    P = PermGroup(perm\"(1,2)\", Perm(circshift(1:N, -1)))\n",
    "    Weyl = Groups.Constructions.WreathProduct(PermGroup(perm\"(1,2)\"), P)\n",
    "    act = PropertyT.action_by_conjugation(G, Weyl)\n",
    "\n",
    "    @time SymbolicWedderburn.WedderburnDecomposition(\n",
    "        Float64,\n",
    "        Weyl,\n",
    "        act,\n",
    "        StarAlgebras.basis(RG),\n",
    "        StarAlgebras.Basis{UInt16}(@view StarAlgebras.basis(RG)[1:sizes[HALFRADIUS]]),\n",
    "    )\n",
    "end\n",
    "@info wd"
   ]
  },
  {
   "attachments": {},
   "cell_type": "markdown",
   "id": "277969f0",
   "metadata": {},
   "source": [
    "Now instead of\n",
    "\n",
    " * $121 \\times 121$ positive-semidefinite (PSD) constraint $P \\succeq 0$ and\n",
    " * $5455$ linear constraints $(x-\\lambda\\cdot u)(t) = \\langle A_t, P\\rangle$ (i.e. one for every element $t\\in \\operatorname{Ball}(S, 2R)$\n",
    "\n",
    "our symmetrized problem will have\n",
    "\n",
    "* $5$ PSD constraints (of sizes $14 \\times 14$, $14 \\times 14$, $12\\times 12$, $9\\times 9$ and $6 \\times 6$),\n",
    "* $247$ linear constraints i.e. one for every orbit of `Weyl` action on $\\operatorname{Ball}(S, 2R)$."
   ]
  },
  {
   "cell_type": "code",
   "execution_count": 22,
   "id": "a504746a",
   "metadata": {},
   "outputs": [
    {
     "name": "stdout",
     "output_type": "stream",
     "text": [
      "  1.969343 seconds (4.05 M allocations: 290.117 MiB, 3.19% gc time, 288.86% compilation time)\n"
     ]
    },
    {
     "data": {
      "text/plain": [
       "A JuMP Model\n",
       "Maximization problem with:\n",
       "Variables: 355\n",
       "Objective function type: JuMP.VariableRef\n",
       "`JuMP.AffExpr`-in-`MathOptInterface.EqualTo{Float64}`: 246 constraints\n",
       "`Vector{JuMP.VariableRef}`-in-`MathOptInterface.PositiveSemidefiniteConeTriangle`: 5 constraints\n",
       "Model mode: AUTOMATIC\n",
       "CachingOptimizer state: NO_OPTIMIZER\n",
       "Solver name: No optimizer attached.\n",
       "Names registered in the model: λ"
      ]
     },
     "execution_count": 22,
     "metadata": {},
     "output_type": "execute_result"
    }
   ],
   "source": [
    "@time model, varP = PropertyT.sos_problem_primal(AdjA₂, Δ, wd; augmented = true);\n",
    "model"
   ]
  },
  {
   "attachments": {},
   "cell_type": "markdown",
   "id": "f28075d6",
   "metadata": {},
   "source": [
    "## Solving the problem numerically"
   ]
  },
  {
   "attachments": {},
   "cell_type": "markdown",
   "id": "207fc0e7",
   "metadata": {},
   "source": [
    "Let us bring a __solver__ i.e. a piece of software specialized to solve conic (in this case) optimization problems, such as the one defined by our sum of squares decomposition. We will use `scs` [Splitting Conic Solver](https://github.com/cvxgrp/scs)."
   ]
  },
  {
   "cell_type": "code",
   "execution_count": 23,
   "id": "df27d835",
   "metadata": {},
   "outputs": [],
   "source": [
    "warm = nothing"
   ]
  },
  {
   "cell_type": "code",
   "execution_count": 24,
   "id": "1ff6ff2c",
   "metadata": {},
   "outputs": [],
   "source": [
    "using JuMP\n",
    "include(joinpath(@__DIR__, \"..\", \"src\", \"optimizers.jl\"));\n",
    "with_optimizer = scs_optimizer(;\n",
    "    eps = 3e-9,\n",
    "    max_iters = 20_000,\n",
    "    accel = 50,\n",
    "    alpha = 1.95,\n",
    ");"
   ]
  },
  {
   "cell_type": "code",
   "execution_count": 25,
   "id": "78a97e86",
   "metadata": {},
   "outputs": [
    {
     "name": "stdout",
     "output_type": "stream",
     "text": [
      "------------------------------------------------------------------\n",
      "\t       SCS v3.2.4 - Splitting Conic Solver\n",
      "\t(c) Brendan O'Donoghue, Stanford University, 2012\n",
      "------------------------------------------------------------------\n",
      "problem:  variables n: 355, constraints m: 600\n",
      "cones: \t  z: primal zero / dual free vars: 246\n",
      "\t  s: psd vars: 354, ssize: 5\n",
      "settings: eps_abs: 3.0e-09, eps_rel: 3.0e-09, eps_infeas: 1.0e-07\n",
      "\t  alpha: 1.95, scale: 1.00e-01, adaptive_scale: 1\n",
      "\t  max_iters: 20000, normalize: 1, rho_x: 1.00e-06\n",
      "\t  acceleration_lookback: 50, acceleration_interval: 10\n",
      "\t  compiled with openmp parallelization enabled\n",
      "lin-sys:  sparse-direct-mkl-pardiso\n",
      "\t  nnz(A): 4119, nnz(P): 0\n",
      "------------------------------------------------------------------\n",
      " iter | pri res | dua res |   gap   |   obj   |  scale  | time (s)\n",
      "------------------------------------------------------------------\n",
      "     0| 4.86e+01  1.00e+00  3.52e+02 -2.03e+02  1.00e-01  1.06e-02 \n",
      "   250| 1.41e-02  4.06e-04  3.71e-02 -4.02e-01  1.00e-01  2.54e-02 \n",
      "   500| 5.09e-03  1.08e-04  9.05e-03 -3.34e-01  1.00e-01  3.96e-02 \n",
      "   750| 4.19e-03  6.29e-05  5.04e-03 -3.14e-01  1.00e-01  5.42e-02 \n",
      "  1000| 2.80e-03  6.92e-05  3.84e-03 -3.03e-01  1.00e-01  6.86e-02 \n",
      "  1250| 1.83e-03  2.89e-05  2.50e-03 -2.97e-01  1.00e-01  8.30e-02 \n",
      "  1500| 1.52e-03  1.94e-05  1.67e-03 -2.94e-01  1.00e-01  9.75e-02 \n",
      "  1750| 1.23e-03  1.86e-05  1.09e-03 -2.91e-01  1.00e-01  1.12e-01 \n",
      "  2000| 1.08e-03  1.97e-05  6.04e-04 -2.89e-01  1.00e-01  1.27e-01 \n",
      "  2250| 1.11e-03  1.58e-05  4.16e-04 -2.87e-01  1.00e-01  1.41e-01 \n",
      "  2500| 1.14e-03  1.29e-05  3.65e-04 -2.86e-01  1.00e-01  1.55e-01 \n",
      "  2750| 1.17e-03  9.60e-06  4.00e-04 -2.84e-01  1.00e-01  1.70e-01 \n",
      "  3000| 1.20e-03  6.99e-06  4.82e-04 -2.83e-01  1.00e-01  1.84e-01 \n",
      "  3250| 1.23e-03  5.27e-06  5.85e-04 -2.81e-01  1.00e-01  1.99e-01 \n",
      "  3500| 1.25e-03  4.24e-06  6.99e-04 -2.80e-01  1.00e-01  2.13e-01 \n",
      "  3750| 1.28e-03  3.71e-06  8.19e-04 -2.78e-01  1.00e-01  2.27e-01 \n",
      "  4000| 1.31e-03  3.49e-06  9.43e-04 -2.77e-01  1.00e-01  2.42e-01 \n",
      "  4250| 1.33e-03  3.46e-06  1.07e-03 -2.76e-01  1.00e-01  2.56e-01 \n",
      "  4500| 1.36e-03  3.55e-06  1.20e-03 -2.74e-01  1.00e-01  2.71e-01 \n",
      "  4750| 1.38e-03  3.72e-06  1.33e-03 -2.73e-01  1.00e-01  2.86e-01 \n",
      "  5000| 1.41e-03  3.92e-06  1.46e-03 -2.71e-01  1.00e-01  3.00e-01 \n",
      "  5250| 1.44e-03  4.15e-06  1.59e-03 -2.70e-01  1.00e-01  3.15e-01 \n",
      "  5500| 1.46e-03  4.40e-06  1.72e-03 -2.68e-01  1.00e-01  3.29e-01 \n",
      "  5750| 1.49e-03  4.66e-06  1.85e-03 -2.67e-01  1.00e-01  3.44e-01 \n",
      "  6000| 1.51e-03  4.93e-06  1.99e-03 -2.65e-01  1.00e-01  3.58e-01 \n",
      "  6250| 1.54e-03  5.20e-06  2.12e-03 -2.64e-01  1.00e-01  3.73e-01 \n",
      "  6500| 1.57e-03  5.48e-06  2.26e-03 -2.62e-01  1.00e-01  3.87e-01 \n",
      "  6750| 1.59e-03  5.77e-06  2.40e-03 -2.61e-01  1.00e-01  4.01e-01 \n",
      "  7000| 1.62e-03  6.06e-06  2.54e-03 -2.59e-01  1.00e-01  4.16e-01 \n",
      "  7250| 1.65e-03  6.36e-06  2.68e-03 -2.58e-01  1.00e-01  4.30e-01 \n",
      "  7500| 1.62e-03  4.92e-05  8.07e-03 -2.56e-01  3.16e-01  4.45e-01 \n",
      "  7750| 1.70e-03  5.96e-05  9.25e-03 -2.52e-01  3.16e-01  4.59e-01 \n",
      "  8000| 1.77e-03  6.99e-05  1.04e-02 -2.47e-01  3.16e-01  4.74e-01 \n",
      "  8250| 1.84e-03  8.04e-05  1.17e-02 -2.43e-01  3.16e-01  4.88e-01 \n",
      "  8500| 1.92e-03  9.12e-05  1.29e-02 -2.38e-01  3.16e-01  5.03e-01 \n",
      "  8750| 2.00e-03  1.02e-04  1.43e-02 -2.33e-01  3.16e-01  5.17e-01 \n",
      "  9000| 2.08e-03  1.14e-04  1.56e-02 -2.27e-01  3.16e-01  5.32e-01 \n",
      "  9250| 2.16e-03  1.27e-04  1.70e-02 -2.22e-01  3.16e-01  5.46e-01 \n",
      "  9500| 2.24e-03  1.41e-04  1.85e-02 -2.16e-01  3.16e-01  5.61e-01 \n",
      "  9750| 2.32e-03  1.57e-04  1.99e-02 -2.10e-01  3.16e-01  5.75e-01 \n",
      " 10000| 2.39e-03  1.75e-04  2.13e-02 -2.03e-01  3.16e-01  5.89e-01 \n",
      " 10250| 2.43e-03  1.91e-04  2.24e-02 -1.96e-01  3.16e-01  6.04e-01 \n",
      " 10500| 2.41e-03  2.08e-04  2.31e-02 -1.89e-01  3.16e-01  6.18e-01 \n",
      " 10750| 2.25e-03  2.31e-04  2.23e-02 -1.81e-01  3.16e-01  6.32e-01 \n",
      " 11000| 1.80e-03  2.60e-04  1.85e-02 -1.73e-01  3.16e-01  6.47e-01 \n",
      " 11250| 9.44e-04  2.78e-04  9.95e-03 -1.64e-01  3.16e-01  6.61e-01 \n",
      " 11500| 2.12e-04  2.22e-04  2.15e-03 -1.59e-01  3.16e-01  6.76e-01 \n",
      " 11750| 8.05e-05  1.28e-04  1.15e-04 -1.58e-01  3.16e-01  6.90e-01 \n",
      " 12000| 4.08e-04  9.95e-05  7.85e-05 -1.59e-01  3.16e-01  7.06e-01 \n",
      " 12250| 5.08e-06  7.41e-07  4.86e-06 -1.59e-01  3.16e-01  7.21e-01 \n",
      " 12500| 3.25e-06  2.41e-07  1.78e-06 -1.59e-01  3.16e-01  7.35e-01 \n",
      " 12750| 1.92e-07  6.12e-08  1.50e-06 -1.59e-01  3.16e-01  7.50e-01 \n",
      " 13000| 3.80e-08  2.42e-08  2.12e-07 -1.59e-01  3.16e-01  7.64e-01 \n",
      " 13250| 2.87e-09  1.72e-10  2.36e-09 -1.59e-01  3.16e-01  7.81e-01 \n",
      "------------------------------------------------------------------\n",
      "status:  solved\n",
      "timings: total: 7.81e-01s = setup: 1.00e-02s + solve: 7.71e-01s\n",
      "\t lin-sys: 3.00e-01s, cones: 4.26e-01s, accel: 1.03e-02s\n",
      "------------------------------------------------------------------\n",
      "objective = -0.158606\n",
      "------------------------------------------------------------------\n"
     ]
    },
    {
     "name": "stderr",
     "output_type": "stream",
     "text": [
      "\u001b[36m\u001b[1m┌ \u001b[22m\u001b[39m\u001b[36m\u001b[1mInfo: \u001b[22m\u001b[39mOptimization has finished with\n",
      "\u001b[36m\u001b[1m└ \u001b[22m\u001b[39m  status = OPTIMAL::TerminationStatusCode = 1\n"
     ]
    }
   ],
   "source": [
    "status, warm = PropertyT.solve(\n",
    "        model,\n",
    "        with_optimizer,\n",
    "        warm,\n",
    "    );\n",
    "@info \"Optimization has finished with\" status"
   ]
  },
  {
   "attachments": {},
   "cell_type": "markdown",
   "id": "c131397d",
   "metadata": {},
   "source": [
    "> **Note**: Solving this problem for `HALFRADIUS=3` will require\n",
    "> * setting `max_iters` to `1_000_000` in `scs_optimizer` above,\n",
    "> * running the optimization for about `6` hours."
   ]
  },
  {
   "attachments": {},
   "cell_type": "markdown",
   "id": "128f1971",
   "metadata": {},
   "source": [
    "### Reconstructing and certifying the solution\n",
    "Since we symmetrized our problem, we don't have direct access to `P` or `Q` as defined above. So first we need to reconstruct `Q` from the action of `Weyl` on $\\operatorname{Ball}(S, R)$:"
   ]
  },
  {
   "cell_type": "code",
   "execution_count": 26,
   "id": "8fad5940",
   "metadata": {},
   "outputs": [
    {
     "name": "stderr",
     "output_type": "stream",
     "text": [
      "\u001b[36m\u001b[1m[ \u001b[22m\u001b[39m\u001b[36m\u001b[1mInfo: \u001b[22m\u001b[39mreconstructing the solution\n"
     ]
    },
    {
     "name": "stdout",
     "output_type": "stream",
     "text": [
      " 14.594043 seconds (23.98 M allocations: 1.442 GiB, 2.84% gc time, 101.07% compilation time)\n"
     ]
    },
    {
     "data": {
      "text/plain": [
       "121×121 Matrix{Float64}:\n",
       " 0.0   0.0          0.0          0.0         …   0.0           0.0\n",
       " 0.0   1.98068      0.117884    -0.172455        0.0154775    -0.0299589\n",
       " 0.0   0.117884     1.98068      0.0323778       0.00329992    0.0157457\n",
       " 0.0  -0.172455     0.0323778    1.98068         0.00329992    0.0157457\n",
       " 0.0   0.0323778    0.117884     0.117884        0.00339668   -0.0112047\n",
       " 0.0   0.0323778   -0.172455     0.117884    …   0.0154775    -0.0299589\n",
       " 0.0   0.117884     0.0323778    0.0323778       0.00354317    0.00694926\n",
       " 0.0  -0.233031     0.117884    -0.170735        0.0154775    -0.0299589\n",
       " 0.0   0.117884    -0.233031     0.0323778       0.00329992    0.0157457\n",
       " 0.0  -0.170735     0.0323778   -0.233031        0.00329992    0.0157457\n",
       " 0.0   0.0323778    0.117884     0.117884    …   0.0168681     0.00878248\n",
       " 0.0   0.0323778   -0.170735     0.117884        0.0154775    -0.0299589\n",
       " 0.0   0.117884     0.0323778    0.0323778       0.0121586     0.0330342\n",
       " ⋮                                           ⋱                 ⋮\n",
       " 0.0  -0.00257204   0.0235594   -0.0284018      -0.0176078     0.0417585\n",
       " 0.0   0.00329992   0.00339668   0.0154775   …   0.000797734   0.0102514\n",
       " 0.0   0.0114119    0.0235594    0.00582901     -0.00449706   -0.0219834\n",
       " 0.0   0.0157457   -0.0112047   -0.0299589       0.0102514    -0.029618\n",
       " 0.0   0.0584534    0.0225026    0.0584534       0.00625467   -0.0295243\n",
       " 0.0   0.0412092   -0.020983     0.0288303      -0.0253817     0.0397156\n",
       " 0.0   0.00394067   0.0114119   -0.020983    …  -0.0253817     0.0397156\n",
       " 0.0  -0.00398939  -0.0180245   -0.0180245       0.0220904    -0.00739024\n",
       " 0.0   0.00582901  -0.00257204   0.0114119      -0.0253817     0.0397156\n",
       " 0.0  -0.0284018    0.0288303   -0.00257204     -0.0253817     0.0397156\n",
       " 0.0   0.0154775    0.00329992   0.00329992      0.0321948    -0.0301969\n",
       " 0.0  -0.0299589    0.0157457    0.0157457   …  -0.0301969     0.116799"
      ]
     },
     "execution_count": 26,
     "metadata": {},
     "output_type": "execute_result"
    }
   ],
   "source": [
    "@info \"reconstructing the solution\"\n",
    "Q = @time let wd = wd, Ps = [JuMP.value.(P) for P in varP]\n",
    "    Qs = real.(sqrt.(Ps))\n",
    "    PropertyT.reconstruct(Qs, wd)\n",
    "end"
   ]
  },
  {
   "attachments": {},
   "cell_type": "markdown",
   "id": "a21778db",
   "metadata": {},
   "source": [
    "> Note: since we _augmented_ our problem, the value at identity of each $\\xi_i \\in IG$ (the augmentation ideal) is determined by the others and hence we dropped those from the actual optimization.\n",
    "\n",
    "As can be seen, $\\xi_i$ is supported on the first 121 elements (which is the size of $\\operatorname{Ball}(S, 2)$) and extended to zeros elsewhere. Let us compute the corresponding sum of squares decomposition and compare it with $\\operatorname{Adj}_{\\texttt{A}_{\\texttt{2}}} - \\lambda \\Delta$."
   ]
  },
  {
   "cell_type": "code",
   "execution_count": 27,
   "id": "ecb45b31",
   "metadata": {},
   "outputs": [],
   "source": [
    "import LinearAlgebra"
   ]
  },
  {
   "cell_type": "code",
   "execution_count": 28,
   "id": "397f5214",
   "metadata": {},
   "outputs": [
    {
     "data": {
      "text/plain": [
       "4.210657152326916e-7"
      ]
     },
     "execution_count": 28,
     "metadata": {},
     "output_type": "execute_result"
    }
   ],
   "source": [
    "sos_decomposition = PropertyT.compute_sos(RG, Q, augmented=true)\n",
    "λ = JuMP.objective_value(model)\n",
    "residual = (AdjA₂ - λ*Δ) - sos_decomposition\n",
    "LinearAlgebra.norm(residual, 1)"
   ]
  },
  {
   "attachments": {},
   "cell_type": "markdown",
   "id": "bd16d9ab",
   "metadata": {},
   "source": [
    "The residual (although small) is not exactly $0$. This is due to finite precision of numerical computations as well as the iterative nature of the solver. To amend the situation we need a certified upper bound on `norm(residual, 1)`, the $\\ell_1$-norm of the residual, and a lemma by T.Netzer and A.Thom:\n",
    "\n",
    "> **Lemma** (Lemma 2.1 of [Netzer-Thom](https://arxiv.org/abs/1411.2488), Lemma 4.10 of [Kaluba-Kielak-Nowak](https://arxiv.org/abs/1812.03456)):\n",
    ">\n",
    "> Suppose that $r \\in IG$ is hermitian (i.e. $r^* = r$) and is supported on $\\operatorname{Ball}(S, 2R)$. Then\n",
    ">\n",
    "> $$r + \\varepsilon \\Delta = \\sum_{i}\\eta_i^* \\eta_i$$\n",
    "> \n",
    "> for every $\\varepsilon \\geqslant 2^{2\\lceil\\log_2 R\\rceil}\\|r\\|_1$. If $S$ contains no involutions then it suffices to have $\\varepsilon \\geqslant 2^{2\\lceil\\log_2 R\\rceil-1}\\|r\\|_1$.\n",
    "\n"
   ]
  },
  {
   "attachments": {},
   "cell_type": "markdown",
   "id": "ff29a609",
   "metadata": {},
   "source": [
    "To achieve certified results in finite precision computations we use interval arithmetic:"
   ]
  },
  {
   "cell_type": "code",
   "execution_count": 29,
   "id": "2d0d4889",
   "metadata": {},
   "outputs": [],
   "source": [
    "using PropertyT.IntervalArithmetic"
   ]
  },
  {
   "cell_type": "code",
   "execution_count": 30,
   "id": "f0407397",
   "metadata": {},
   "outputs": [
    {
     "data": {
      "text/plain": [
       "[4.20946e-07, 4.21191e-07]"
      ]
     },
     "execution_count": 30,
     "metadata": {},
     "output_type": "execute_result"
    }
   ],
   "source": [
    "ℓ₁norm_residual = let Q = Interval.(Q), λ = Interval(λ)\n",
    "    sos_decomposition = PropertyT.compute_sos(RG, Q, augmented=true)\n",
    "    residual = (AdjA₂ - λ*Δ) - sos_decomposition\n",
    "    LinearAlgebra.norm(residual, 1)\n",
    "end"
   ]
  },
  {
   "cell_type": "code",
   "execution_count": 31,
   "id": "7215e5bf",
   "metadata": {},
   "outputs": [
    {
     "data": {
      "text/plain": [
       "[0.158605, 0.158606]"
      ]
     },
     "execution_count": 31,
     "metadata": {},
     "output_type": "execute_result"
    }
   ],
   "source": [
    "certified_λ = Interval(λ) - 2^(2*ceil(log2(Interval(HALFRADIUS)))-1)*ℓ₁norm_residual"
   ]
  },
  {
   "attachments": {},
   "cell_type": "markdown",
   "id": "7c235e99",
   "metadata": {},
   "source": [
    "and therefore we proved that $\\operatorname{Adj}_{\\texttt{A}_\\texttt{2}} - \\lambda \\Delta \\geqslant 0$ for every $\\lambda$ smaller than"
   ]
  },
  {
   "cell_type": "code",
   "execution_count": 32,
   "id": "df1e3825",
   "metadata": {},
   "outputs": [
    {
     "data": {
      "text/plain": [
       "0.15860560506669596"
      ]
     },
     "execution_count": 32,
     "metadata": {},
     "output_type": "execute_result"
    }
   ],
   "source": [
    "inf(certified_λ)"
   ]
  },
  {
   "attachments": {},
   "cell_type": "markdown",
   "id": "fa0e7192",
   "metadata": {},
   "source": [
    "> **Note**: All of this could have been achieved with a single call to the following convenience function:"
   ]
  },
  {
   "cell_type": "code",
   "execution_count": 33,
   "id": "a5216fd7",
   "metadata": {},
   "outputs": [
    {
     "name": "stderr",
     "output_type": "stream",
     "text": [
      "\u001b[36m\u001b[1m[ \u001b[22m\u001b[39m\u001b[36m\u001b[1mInfo: \u001b[22m\u001b[39mcertifying the solution\n",
      "\u001b[36m\u001b[1m┌ \u001b[22m\u001b[39m\u001b[36m\u001b[1mInfo: \u001b[22m\u001b[39mChecking in Float64 arithmetic with\n",
      "\u001b[36m\u001b[1m└ \u001b[22m\u001b[39m  λ = 0.1586064474476758\n"
     ]
    },
    {
     "name": "stdout",
     "output_type": "stream",
     "text": [
      "  0.000266 seconds (6 allocations: 157.281 KiB)\n"
     ]
    },
    {
     "name": "stderr",
     "output_type": "stream",
     "text": [
      "\u001b[36m\u001b[1m┌ \u001b[22m\u001b[39m\u001b[36m\u001b[1mInfo: \u001b[22m\u001b[39mNumerical metrics of the obtained SOS:\n",
      "\u001b[36m\u001b[1m│ \u001b[22m\u001b[39mɛ(elt - λu - ∑ξᵢ*ξᵢ) ≈ 1.21408e-12\n",
      "\u001b[36m\u001b[1m│ \u001b[22m\u001b[39m‖elt - λu - ∑ξᵢ*ξᵢ‖₁ ≈ 4.21066e-7\n",
      "\u001b[36m\u001b[1m└ \u001b[22m\u001b[39m λ ≈ 0.15860476318481487\n",
      "\u001b[36m\u001b[1m┌ \u001b[22m\u001b[39m\u001b[36m\u001b[1mInfo: \u001b[22m\u001b[39mChecking in Interval{Float64} arithmetic with\n",
      "\u001b[36m\u001b[1m└ \u001b[22m\u001b[39m  λ_int = [0.158606, 0.158607]\n"
     ]
    },
    {
     "name": "stdout",
     "output_type": "stream",
     "text": [
      "  0.214073 seconds (133.42 k allocations: 11.150 MiB, 99.17% compilation time)\n"
     ]
    },
    {
     "name": "stderr",
     "output_type": "stream",
     "text": [
      "\u001b[36m\u001b[1m┌ \u001b[22m\u001b[39m\u001b[36m\u001b[1mInfo: \u001b[22m\u001b[39mNumerical metrics of the obtained SOS:\n",
      "\u001b[36m\u001b[1m│ \u001b[22m\u001b[39mɛ(elt - λu - ∑ξᵢ*ξᵢ) ∈ [-1.15174e-10, 1.11503e-10]\n",
      "\u001b[36m\u001b[1m│ \u001b[22m\u001b[39m‖elt - λu - ∑ξᵢ*ξᵢ‖₁ ∈ [4.20955e-07, 4.21183e-07]\n",
      "\u001b[36m\u001b[1m└ \u001b[22m\u001b[39m λ ∈ [0.158604, 0.158605]\n",
      "\u001b[36m\u001b[1m┌ \u001b[22m\u001b[39m\u001b[36m\u001b[1mInfo: \u001b[22m\u001b[39mCertified result: Adj_A₂ is positive\n",
      "\u001b[36m\u001b[1m└ \u001b[22m\u001b[39m  inf(λ) = 0.1586047627191617\n"
     ]
    }
   ],
   "source": [
    "@info \"certifying the solution\"\n",
    "certified, λ = PropertyT.certify_solution(\n",
    "    AdjA₂,\n",
    "    Δ,\n",
    "    JuMP.objective_value(model),\n",
    "    Q;\n",
    "    halfradius = HALFRADIUS,\n",
    "    augmented = true,\n",
    ")\n",
    "\n",
    "if certified && λ > 0\n",
    "    @info \"Certified result: Adj_A₂ is positive\" inf(λ)\n",
    "else\n",
    "    @info \"Could NOT certify the positivity of Adj_A₂\" certified λ\n",
    "end"
   ]
  },
  {
   "attachments": {},
   "cell_type": "markdown",
   "id": "f057dccb",
   "metadata": {},
   "source": [
    "# Computation of $\\gamma(\\Omega)$"
   ]
  },
  {
   "attachments": {},
   "cell_type": "markdown",
   "id": "abe114a7",
   "metadata": {},
   "source": [
    "Let $\\Omega$ be one of the irreducible root systems $E_6$, $E_7$, $E_8$. We wish to confirm here the computations of **Table 3.9** for the generating sets and $\\gamma(\\Omega)$."
   ]
  },
  {
   "cell_type": "code",
   "execution_count": 34,
   "id": "bab3c3a8",
   "metadata": {},
   "outputs": [
    {
     "data": {
      "text/plain": [
       "countmap (generic function with 2 methods)"
      ]
     },
     "execution_count": 34,
     "metadata": {},
     "output_type": "execute_result"
    }
   ],
   "source": [
    "countmap(v) = countmap(identity, v)\n",
    "function countmap(f, v)\n",
    "    counts = Dict{eltype(f(first(v))),Int}()\n",
    "    for x in v\n",
    "        fx = f(x)\n",
    "        counts[fx] = get!(counts, fx, 0) + 1\n",
    "    end\n",
    "    return counts\n",
    "end"
   ]
  },
  {
   "cell_type": "code",
   "execution_count": 35,
   "id": "e8dc5983-c844-44dd-b923-df90e2d6b50f",
   "metadata": {},
   "outputs": [],
   "source": [
    "# define the natural permutation action on tuples by permuting their entries:\n",
    "Base.:^(t::NTuple{N}, p::PermutationGroups.AbstractPermutation) where N = ntuple(i->t[i^p], N)"
   ]
  },
  {
   "attachments": {},
   "cell_type": "markdown",
   "id": "e7044ce4",
   "metadata": {},
   "source": [
    "## $E_8$\n",
    "We start with the definition of $E_8$ as a specific set of vectors in $\\mathbb{R}^8$. Namely\n",
    "1. as long roots we take take all possible permutations of\n",
    "    * $( 1, 1, 0,0,0,0,0,0)$,\n",
    "    * $(-1, 1, 0,0,0,0,0,0)$ and\n",
    "    * $(-1, -1,0,0,0,0,0,0)$.\n",
    "2. as short roots we take all possible combinations of **even sign changes** applied to the vector\n",
    "   $\\left(\\frac{1}{2},\\frac{1}{2},\\frac{1}{2},\\frac{1}{2},\\frac{1}{2},\\frac{1}{2},\\frac{1}{2},\\frac{1}{2}\\right)$.\n",
    "   \n",
    "Alltogether, there are $240$ such vectors."
   ]
  },
  {
   "cell_type": "code",
   "execution_count": 36,
   "id": "63195e05",
   "metadata": {},
   "outputs": [
    {
     "data": {
      "text/plain": [
       "240-element Vector{Root{8, Rational{Int64}}}:\n",
       " Root Rational{Int64}[1, 1, 0, 0, 0, 0, 0, 0]\n",
       " Root Rational{Int64}[1, 0, 1, 0, 0, 0, 0, 0]\n",
       " Root Rational{Int64}[1, 0, 0, 0, 0, 0, 0, 1]\n",
       " Root Rational{Int64}[1, 0, 0, 1, 0, 0, 0, 0]\n",
       " Root Rational{Int64}[1, 0, 0, 0, 1, 0, 0, 0]\n",
       " Root Rational{Int64}[1, 0, 0, 0, 0, 1, 0, 0]\n",
       " Root Rational{Int64}[1, 0, 0, 0, 0, 0, 1, 0]\n",
       " Root Rational{Int64}[0, 0, 0, 0, 0, 0, 1, 1]\n",
       " Root Rational{Int64}[0, 0, 0, 1, 0, 0, 1, 0]\n",
       " Root Rational{Int64}[0, 0, 0, 0, 1, 0, 1, 0]\n",
       " Root Rational{Int64}[0, 0, 0, 0, 0, 1, 1, 0]\n",
       " Root Rational{Int64}[0, 0, 1, 0, 0, 0, 1, 0]\n",
       " Root Rational{Int64}[0, 0, 0, 0, 0, 1, 0, 1]\n",
       " ⋮\n",
       " Root Rational{Int64}[-1//2, -1//2, -1//2, 1//2, -1//2, 1//2, 1//2, 1//2]\n",
       " Root Rational{Int64}[1//2, 1//2, -1//2, 1//2, -1//2, 1//2, 1//2, 1//2]\n",
       " Root Rational{Int64}[1//2, -1//2, 1//2, 1//2, -1//2, 1//2, 1//2, 1//2]\n",
       " Root Rational{Int64}[-1//2, 1//2, 1//2, 1//2, -1//2, 1//2, 1//2, 1//2]\n",
       " Root Rational{Int64}[-1//2, -1//2, -1//2, -1//2, 1//2, 1//2, 1//2, 1//2]\n",
       " Root Rational{Int64}[1//2, 1//2, -1//2, -1//2, 1//2, 1//2, 1//2, 1//2]\n",
       " Root Rational{Int64}[1//2, -1//2, 1//2, -1//2, 1//2, 1//2, 1//2, 1//2]\n",
       " Root Rational{Int64}[-1//2, 1//2, 1//2, -1//2, 1//2, 1//2, 1//2, 1//2]\n",
       " Root Rational{Int64}[1//2, -1//2, -1//2, 1//2, 1//2, 1//2, 1//2, 1//2]\n",
       " Root Rational{Int64}[-1//2, 1//2, -1//2, 1//2, 1//2, 1//2, 1//2, 1//2]\n",
       " Root Rational{Int64}[-1//2, -1//2, 1//2, 1//2, 1//2, 1//2, 1//2, 1//2]\n",
       " Root Rational{Int64}[1//2, 1//2, 1//2, 1//2, 1//2, 1//2, 1//2, 1//2]"
      ]
     },
     "execution_count": 36,
     "metadata": {},
     "output_type": "execute_result"
    }
   ],
   "source": [
    "E₈ = let Σ = PermutationGroups.PermGroup(perm\"(1,2,3,4,5,6,7,8)\", perm\"(1,2)\")\n",
    "    \n",
    "    long = let x = (1, 1, 0, 0, 0, 0, 0, 0) .// 1\n",
    "        PropertyT.Roots.Root.(\n",
    "            union(\n",
    "                (x^g for g in Σ),\n",
    "                ((x .* (-1, 1, 1, 1, 1, 1, 1, 1))^g for g in Σ),\n",
    "                ((-1 .* x)^g for g in Σ),\n",
    "            ),\n",
    "        )\n",
    "    end\n",
    "\n",
    "    signs = collect(\n",
    "        p for p in Iterators.product(fill([-1, +1], 8)...) if\n",
    "        iseven(count(==(-1), p))\n",
    "    )\n",
    "    halfs = let x = (1, 1, 1, 1, 1, 1, 1, 1) .// 2\n",
    "        rts = unique(PropertyT.Roots.Root(x .* sgn) for sgn in signs)\n",
    "    end\n",
    "\n",
    "    union(long, halfs)\n",
    "end"
   ]
  },
  {
   "attachments": {},
   "cell_type": "markdown",
   "id": "fc0299d9",
   "metadata": {},
   "source": [
    "Let us classify all irreducible and admissible (see **Definition 2.5**) subspaces $W<\\mathbb{R}^8$. By symmetry, we may assume that all of these contain a single (here: the first) root $\\alpha \\in \\Omega$:"
   ]
  },
  {
   "cell_type": "code",
   "execution_count": 37,
   "id": "50936f78",
   "metadata": {},
   "outputs": [
    {
     "data": {
      "text/plain": [
       "Dict{Any, Int64} with 2 entries:\n",
       "  :A₂             => 112\n",
       "  Symbol(\"A₁×A₁\") => 126"
      ]
     },
     "execution_count": 37,
     "metadata": {},
     "output_type": "execute_result"
    }
   ],
   "source": [
    "admissible_types_E₈ = let Ω = E₈, α = first(Ω)\n",
    "    countmap([\n",
    "        Roots.classify_sub_root_system(Ω, α, γ) for\n",
    "        γ in Ω if !Roots.isproportional(α, γ)\n",
    "    ])\n",
    "end"
   ]
  },
  {
   "attachments": {},
   "cell_type": "markdown",
   "id": "79598279",
   "metadata": {},
   "source": [
    "Since every admissible subspace containing $\\alpha$ has been counted $4$ times we obtain"
   ]
  },
  {
   "cell_type": "code",
   "execution_count": 38,
   "id": "fa4e9a75",
   "metadata": {},
   "outputs": [
    {
     "data": {
      "text/plain": [
       "28"
      ]
     },
     "execution_count": 38,
     "metadata": {},
     "output_type": "execute_result"
    }
   ],
   "source": [
    "@assert rem(admissible_types_E₈[:A₂], 4) == 0\n",
    "γE₈ = admissible_types_E₈[:A₂] ÷ 4"
   ]
  },
  {
   "attachments": {},
   "cell_type": "markdown",
   "id": "43b9aa8e",
   "metadata": {},
   "source": [
    "## $E_7$\n",
    "Let $V_0 = \\left\\{x \\in \\mathbb{R}^8 \\colon \\sum_i x_i = 0 \\right\\}$.\n",
    "To reuse the data we have already computed we define $E_7 = E_8 \\cap V_0$ and perform analogous computations for types of irreducible and admissible subspaces. There are $126$ roots in $E_7$:"
   ]
  },
  {
   "cell_type": "code",
   "execution_count": 39,
   "id": "726a420b",
   "metadata": {},
   "outputs": [
    {
     "data": {
      "text/plain": [
       "126-element Vector{Root{8, Rational{Int64}}}:\n",
       " Root Rational{Int64}[-1, 1, 0, 0, 0, 0, 0, 0]\n",
       " Root Rational{Int64}[-1, 0, 1, 0, 0, 0, 0, 0]\n",
       " Root Rational{Int64}[-1, 0, 0, 0, 0, 0, 0, 1]\n",
       " Root Rational{Int64}[-1, 0, 0, 1, 0, 0, 0, 0]\n",
       " Root Rational{Int64}[-1, 0, 0, 0, 1, 0, 0, 0]\n",
       " Root Rational{Int64}[-1, 0, 0, 0, 0, 1, 0, 0]\n",
       " Root Rational{Int64}[-1, 0, 0, 0, 0, 0, 1, 0]\n",
       " Root Rational{Int64}[1, 0, 0, 0, 0, 0, 0, -1]\n",
       " Root Rational{Int64}[1, 0, 0, -1, 0, 0, 0, 0]\n",
       " Root Rational{Int64}[1, 0, 0, 0, -1, 0, 0, 0]\n",
       " Root Rational{Int64}[1, 0, 0, 0, 0, -1, 0, 0]\n",
       " Root Rational{Int64}[1, 0, -1, 0, 0, 0, 0, 0]\n",
       " Root Rational{Int64}[1, 0, 0, 0, 0, 0, -1, 0]\n",
       " ⋮\n",
       " Root Rational{Int64}[1//2, -1//2, -1//2, 1//2, -1//2, -1//2, 1//2, 1//2]\n",
       " Root Rational{Int64}[-1//2, 1//2, -1//2, 1//2, -1//2, -1//2, 1//2, 1//2]\n",
       " Root Rational{Int64}[-1//2, -1//2, 1//2, 1//2, -1//2, -1//2, 1//2, 1//2]\n",
       " Root Rational{Int64}[1//2, -1//2, -1//2, -1//2, 1//2, -1//2, 1//2, 1//2]\n",
       " Root Rational{Int64}[-1//2, 1//2, -1//2, -1//2, 1//2, -1//2, 1//2, 1//2]\n",
       " Root Rational{Int64}[-1//2, -1//2, 1//2, -1//2, 1//2, -1//2, 1//2, 1//2]\n",
       " Root Rational{Int64}[-1//2, -1//2, -1//2, 1//2, 1//2, -1//2, 1//2, 1//2]\n",
       " Root Rational{Int64}[1//2, -1//2, -1//2, -1//2, -1//2, 1//2, 1//2, 1//2]\n",
       " Root Rational{Int64}[-1//2, 1//2, -1//2, -1//2, -1//2, 1//2, 1//2, 1//2]\n",
       " Root Rational{Int64}[-1//2, -1//2, 1//2, -1//2, -1//2, 1//2, 1//2, 1//2]\n",
       " Root Rational{Int64}[-1//2, -1//2, -1//2, 1//2, -1//2, 1//2, 1//2, 1//2]\n",
       " Root Rational{Int64}[-1//2, -1//2, -1//2, -1//2, 1//2, 1//2, 1//2, 1//2]"
      ]
     },
     "execution_count": 39,
     "metadata": {},
     "output_type": "execute_result"
    }
   ],
   "source": [
    "E₇ = filter(r -> iszero(sum(r.coord)), E₈)"
   ]
  },
  {
   "cell_type": "code",
   "execution_count": 40,
   "id": "054787a6",
   "metadata": {},
   "outputs": [
    {
     "data": {
      "text/plain": [
       "Dict{Any, Int64} with 2 entries:\n",
       "  :A₂             => 64\n",
       "  Symbol(\"A₁×A₁\") => 60"
      ]
     },
     "execution_count": 40,
     "metadata": {},
     "output_type": "execute_result"
    }
   ],
   "source": [
    "admissible_types_E₇ = let Ω = E₇, α = first(Ω)\n",
    "    countmap([\n",
    "        Roots.classify_sub_root_system(Ω, α, γ) for\n",
    "        γ in Ω if !Roots.isproportional(α, γ)\n",
    "    ])\n",
    "end"
   ]
  },
  {
   "cell_type": "code",
   "execution_count": 41,
   "id": "fd305539",
   "metadata": {},
   "outputs": [
    {
     "data": {
      "text/plain": [
       "16"
      ]
     },
     "execution_count": 41,
     "metadata": {},
     "output_type": "execute_result"
    }
   ],
   "source": [
    "@assert rem(admissible_types_E₇[:A₂], 4) == 0\n",
    "γE₇ = admissible_types_E₇[:A₂] ÷ 4"
   ]
  },
  {
   "attachments": {},
   "cell_type": "markdown",
   "id": "d65dccf7",
   "metadata": {},
   "source": [
    "## $E_6$\n",
    "Finally we define $E_6 = E_8 \\cap V_1$ where $V_1 = \\left\\{x \\in \\mathbb{R}^8 \\colon x_8 = x_7 = x_6 \\right\\}$.\n",
    "There are $72$ vectors in $E_6$:"
   ]
  },
  {
   "cell_type": "code",
   "execution_count": 42,
   "id": "df4880a2",
   "metadata": {},
   "outputs": [
    {
     "data": {
      "text/plain": [
       "72-element Vector{Root{8, Rational{Int64}}}:\n",
       " Root Rational{Int64}[1, 1, 0, 0, 0, 0, 0, 0]\n",
       " Root Rational{Int64}[1, 0, 1, 0, 0, 0, 0, 0]\n",
       " Root Rational{Int64}[1, 0, 0, 1, 0, 0, 0, 0]\n",
       " Root Rational{Int64}[1, 0, 0, 0, 1, 0, 0, 0]\n",
       " Root Rational{Int64}[0, 0, 0, 1, 1, 0, 0, 0]\n",
       " Root Rational{Int64}[0, 0, 1, 1, 0, 0, 0, 0]\n",
       " Root Rational{Int64}[0, 0, 1, 0, 1, 0, 0, 0]\n",
       " Root Rational{Int64}[0, 1, 0, 1, 0, 0, 0, 0]\n",
       " Root Rational{Int64}[0, 1, 0, 0, 1, 0, 0, 0]\n",
       " Root Rational{Int64}[0, 1, 1, 0, 0, 0, 0, 0]\n",
       " Root Rational{Int64}[-1, 1, 0, 0, 0, 0, 0, 0]\n",
       " Root Rational{Int64}[-1, 0, 1, 0, 0, 0, 0, 0]\n",
       " Root Rational{Int64}[-1, 0, 0, 1, 0, 0, 0, 0]\n",
       " ⋮\n",
       " Root Rational{Int64}[-1//2, -1//2, -1//2, 1//2, -1//2, 1//2, 1//2, 1//2]\n",
       " Root Rational{Int64}[1//2, 1//2, -1//2, 1//2, -1//2, 1//2, 1//2, 1//2]\n",
       " Root Rational{Int64}[1//2, -1//2, 1//2, 1//2, -1//2, 1//2, 1//2, 1//2]\n",
       " Root Rational{Int64}[-1//2, 1//2, 1//2, 1//2, -1//2, 1//2, 1//2, 1//2]\n",
       " Root Rational{Int64}[-1//2, -1//2, -1//2, -1//2, 1//2, 1//2, 1//2, 1//2]\n",
       " Root Rational{Int64}[1//2, 1//2, -1//2, -1//2, 1//2, 1//2, 1//2, 1//2]\n",
       " Root Rational{Int64}[1//2, -1//2, 1//2, -1//2, 1//2, 1//2, 1//2, 1//2]\n",
       " Root Rational{Int64}[-1//2, 1//2, 1//2, -1//2, 1//2, 1//2, 1//2, 1//2]\n",
       " Root Rational{Int64}[1//2, -1//2, -1//2, 1//2, 1//2, 1//2, 1//2, 1//2]\n",
       " Root Rational{Int64}[-1//2, 1//2, -1//2, 1//2, 1//2, 1//2, 1//2, 1//2]\n",
       " Root Rational{Int64}[-1//2, -1//2, 1//2, 1//2, 1//2, 1//2, 1//2, 1//2]\n",
       " Root Rational{Int64}[1//2, 1//2, 1//2, 1//2, 1//2, 1//2, 1//2, 1//2]"
      ]
     },
     "execution_count": 42,
     "metadata": {},
     "output_type": "execute_result"
    }
   ],
   "source": [
    "E₆ = filter(r -> r.coord[end] == r.coord[end-1] == r.coord[end-2], E₈)"
   ]
  },
  {
   "cell_type": "code",
   "execution_count": 43,
   "id": "d9e53285",
   "metadata": {},
   "outputs": [
    {
     "data": {
      "text/plain": [
       "Dict{Any, Int64} with 2 entries:\n",
       "  :A₂             => 40\n",
       "  Symbol(\"A₁×A₁\") => 30"
      ]
     },
     "execution_count": 43,
     "metadata": {},
     "output_type": "execute_result"
    }
   ],
   "source": [
    "admissible_types_E₆ = let Ω = E₆, α = first(Ω)\n",
    "    countmap([\n",
    "        Roots.classify_sub_root_system(Ω, α, γ) for\n",
    "        γ in Ω if !Roots.isproportional(α, γ)\n",
    "    ])\n",
    "end"
   ]
  },
  {
   "cell_type": "code",
   "execution_count": 44,
   "id": "efbabf51",
   "metadata": {},
   "outputs": [
    {
     "data": {
      "text/plain": [
       "10"
      ]
     },
     "execution_count": 44,
     "metadata": {},
     "output_type": "execute_result"
    }
   ],
   "source": [
    "@assert rem(admissible_types_E₆[:A₂], 4) == 0\n",
    "γE₆ = admissible_types_E₆[:A₂] ÷ 4"
   ]
  },
  {
   "attachments": {},
   "cell_type": "markdown",
   "id": "81ad59b4",
   "metadata": {},
   "source": [
    "Thus the **Table 3.9** has been computed as follows "
   ]
  },
  {
   "cell_type": "code",
   "execution_count": 45,
   "id": "a02dd934",
   "metadata": {},
   "outputs": [
    {
     "data": {
      "text/plain": [
       "[0.273953, 0.273955]"
      ]
     },
     "execution_count": 45,
     "metadata": {},
     "output_type": "execute_result"
    }
   ],
   "source": [
    "κ(λ, S) = sqrt(2λ/S)\n",
    "λA₂ = @interval(0.273954)"
   ]
  },
  {
   "cell_type": "code",
   "execution_count": 46,
   "id": "d4c12bbd",
   "metadata": {},
   "outputs": [
    {
     "name": "stderr",
     "output_type": "stream",
     "text": [
      "\u001b[36m\u001b[1m┌ \u001b[22m\u001b[39m\u001b[36m\u001b[1mInfo: \u001b[22m\u001b[39mE6\n",
      "\u001b[36m\u001b[1m└ \u001b[22m\u001b[39m  (lS, γ, λ_inf, κ_inf) = (144, 10, 2.73953, 0.19506)\n",
      "\u001b[36m\u001b[1m┌ \u001b[22m\u001b[39m\u001b[36m\u001b[1mInfo: \u001b[22m\u001b[39mE7\n",
      "\u001b[36m\u001b[1m└ \u001b[22m\u001b[39m  (lS, γ, λ_inf, κ_inf) = (252, 16, 4.38326, 0.18651)\n",
      "\u001b[36m\u001b[1m┌ \u001b[22m\u001b[39m\u001b[36m\u001b[1mInfo: \u001b[22m\u001b[39mE8\n",
      "\u001b[36m\u001b[1m└ \u001b[22m\u001b[39m  (lS, γ, λ_inf, κ_inf) = (480, 28, 7.67071, 0.17877)\n"
     ]
    }
   ],
   "source": [
    "for (i, (E, γ)) in enumerate([(E₆, γE₆), (E₇, γE₇), (E₈, γE₈)])\n",
    "    n = i+5\n",
    "    λ = γ*λA₂\n",
    "    lS = 2*length(E)\n",
    "    λ_inf = round(inf(λ), RoundDown, digits=5)\n",
    "    κ_inf = round(inf(κ(λ, lS)), RoundDown, digits=5)\n",
    "    @info \"$(Symbol(:E, n))\" (lS, γ, λ_inf, κ_inf)\n",
    "end\n",
    "    "
   ]
  },
  {
   "cell_type": "code",
   "execution_count": null,
   "id": "3829684f",
   "metadata": {},
   "outputs": [],
   "source": []
  },
  {
   "cell_type": "code",
   "execution_count": 47,
   "id": "feb0701f",
   "metadata": {},
   "outputs": [
    {
     "data": {
      "text/plain": [
       "2024-07-08T14:46:41.131"
      ]
     },
     "execution_count": 47,
     "metadata": {},
     "output_type": "execute_result"
    }
   ],
   "source": [
    "using Dates\n",
    "Dates.now()"
   ]
  },
  {
   "cell_type": "code",
   "execution_count": 48,
   "id": "3ebe2135",
   "metadata": {},
   "outputs": [
    {
     "name": "stdout",
     "output_type": "stream",
     "text": [
      "Julia Version 1.10.4\n",
      "Commit 48d4fd48430 (2024-06-04 10:41 UTC)\n",
      "Build Info:\n",
      "  Official https://julialang.org/ release\n",
      "Platform Info:\n",
      "  OS: Linux (x86_64-linux-gnu)\n",
      "  CPU: 16 × AMD Ryzen 7 7840U w/ Radeon  780M Graphics\n",
      "  WORD_SIZE: 64\n",
      "  LIBM: libopenlibm\n",
      "  LLVM: libLLVM-15.0.7 (ORCJIT, znver3)\n",
      "Threads: 8 default, 0 interactive, 4 GC (on 16 virtual cores)\n",
      "Environment:\n",
      "  JULIA_NUM_THREADS = 8\n"
     ]
    }
   ],
   "source": [
    "versioninfo()"
   ]
  },
  {
   "cell_type": "code",
   "execution_count": null,
   "id": "40ba9fcf",
   "metadata": {},
   "outputs": [],
   "source": []
  }
 ],
 "metadata": {
  "kernelspec": {
   "display_name": "Julia 1.10.4",
   "language": "julia",
   "name": "julia-1.10"
  },
  "language_info": {
   "file_extension": ".jl",
   "mimetype": "application/julia",
   "name": "julia",
   "version": "1.10.4"
  }
 },
 "nbformat": 4,
 "nbformat_minor": 5
}
