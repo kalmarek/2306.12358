{
 "cells": [
  {
   "cell_type": "markdown",
   "id": "d770b964",
   "metadata": {},
   "source": [
    "# Installation\n",
    "\n",
    "For installation instructions please refer to `Simply laced diagrams` notebook."
   ]
  },
  {
   "cell_type": "code",
   "execution_count": 1,
   "id": "1d3320d4",
   "metadata": {},
   "outputs": [],
   "source": [
    "using Pkg"
   ]
  },
  {
   "cell_type": "code",
   "execution_count": 2,
   "id": "876b467d",
   "metadata": {},
   "outputs": [
    {
     "name": "stderr",
     "output_type": "stream",
     "text": [
      "\u001b[32m\u001b[1m  Activating\u001b[22m\u001b[39m project at `~/Mathematics/Research/Property (T)/Chevalley/2306.12358`\n"
     ]
    }
   ],
   "source": [
    "Pkg.activate(joinpath(@__DIR__, \"..\"))"
   ]
  },
  {
   "cell_type": "code",
   "execution_count": 3,
   "id": "07cfe4da",
   "metadata": {},
   "outputs": [
    {
     "name": "stdout",
     "output_type": "stream",
     "text": [
      "Julia Version 1.9.1\n",
      "Commit 147bdf428cd (2023-06-07 08:27 UTC)\n",
      "Platform Info:\n",
      "  OS: Linux (x86_64-linux-gnu)\n",
      "  CPU: 16 × AMD Ryzen 7 PRO 4750U with Radeon Graphics\n",
      "  WORD_SIZE: 64\n",
      "  LIBM: libopenlibm\n",
      "  LLVM: libLLVM-14.0.6 (ORCJIT, znver2)\n",
      "  Threads: 9 on 16 virtual cores\n",
      "Environment:\n",
      "  JULIA_NUM_THREADS = 8\n",
      "  JULIA_IMAGE_THREADS = 1\n"
     ]
    }
   ],
   "source": [
    "versioninfo()"
   ]
  },
  {
   "cell_type": "code",
   "execution_count": 4,
   "id": "a6451423",
   "metadata": {},
   "outputs": [
    {
     "name": "stdout",
     "output_type": "stream",
     "text": [
      "\u001b[32m\u001b[1mStatus\u001b[22m\u001b[39m `~/Mathematics/Research/Property (T)/Chevalley/2306.12358/Project.toml`\n",
      "  \u001b[90m[1e616198] \u001b[39mCOSMO v0.8.7\n",
      "  \u001b[90m[5d8bd718] \u001b[39mGroups v0.7.7\n",
      "  \u001b[90m[7073ff75] \u001b[39mIJulia v1.24.2\n",
      "  \u001b[90m[4076af6c] \u001b[39mJuMP v1.12.0\n",
      "  \u001b[90m[03b72c93] \u001b[39mPropertyT v0.5.0 `https://github.com/kalmarek/PropertyT.jl#master`\n",
      "  \u001b[90m[c946c3f1] \u001b[39mSCS v1.2.1\n",
      "\u001b[33m⌅\u001b[39m \u001b[90m[856f044c] \u001b[39mMKL_jll v2022.2.0+0 ⚲\n",
      "  \u001b[90m[ade2ca70] \u001b[39mDates\n",
      "  \u001b[90m[37e2e46d] \u001b[39mLinearAlgebra\n",
      "\u001b[36m\u001b[1mInfo\u001b[22m\u001b[39m Packages marked with \u001b[33m⌅\u001b[39m have new versions available but compatibility constraints restrict them from upgrading. To see why use `status --outdated`\n"
     ]
    }
   ],
   "source": [
    "Pkg.status()"
   ]
  },
  {
   "cell_type": "code",
   "execution_count": 5,
   "id": "d3c11836",
   "metadata": {},
   "outputs": [],
   "source": [
    "using Groups\n",
    "import Groups.MatrixGroups"
   ]
  },
  {
   "cell_type": "code",
   "execution_count": 6,
   "id": "a6a99ce6",
   "metadata": {},
   "outputs": [],
   "source": [
    "using PropertyT\n",
    "using PropertyT.IntervalArithmetic"
   ]
  },
  {
   "cell_type": "markdown",
   "id": "4ce28391",
   "metadata": {},
   "source": [
    "> In this notebook only rudimentary commentary is included. For the extended one please consult `Simply laced diagrams` notebook."
   ]
  },
  {
   "cell_type": "markdown",
   "id": "c10d9bbc",
   "metadata": {},
   "source": [
    "# Sum of squares proof of property (T) for $\\operatorname{Sp}_{4}(\\mathbb{Z})$"
   ]
  },
  {
   "cell_type": "markdown",
   "id": "30de5d21",
   "metadata": {},
   "source": [
    "We wish to prove\n",
    "> **Theorem 3.12** Let $G= \\operatorname{Sp}_{4}(\\mathbb{Z})$ be the universal Chevalley group over $\\mathbb{Z}$ of type $\\texttt{B}_{\\texttt{2}} = \\texttt{C}_{\\texttt{2}}$ endowed with the set of Steinberg generators $S$. The pair $(G, S)$ has property (T) with a witness of type $(\\lambda, R) = (0.87890, 2)$.\n",
    "\n",
    "We will show this by exhibiting $\\xi_i\\in \\mathbb{R}G$, supported inside $\\operatorname{Ball}(S, 2)$ such that\n",
    "\n",
    "$$\n",
    "\\Delta^2 - \\lambda \\Delta - \\sum_i \\xi_i^* \\xi_i = r,\n",
    "$$\n",
    "\n",
    "with $\\|r\\|_1$ much smaller (a few orders of magnitue) than $\\lambda$."
   ]
  },
  {
   "cell_type": "code",
   "execution_count": 7,
   "id": "1899c282",
   "metadata": {},
   "outputs": [
    {
     "data": {
      "text/plain": [
       "group of 4×4 symplectic matrices"
      ]
     },
     "execution_count": 7,
     "metadata": {},
     "output_type": "execute_result"
    }
   ],
   "source": [
    "N = 2\n",
    "G = MatrixGroups.SymplecticGroup{2*N}(Int8)"
   ]
  },
  {
   "cell_type": "code",
   "execution_count": 8,
   "id": "7e81238c",
   "metadata": {},
   "outputs": [
    {
     "data": {
      "text/plain": [
       "A₁.₂ ∈ Sp{4,Int8}\n",
       " 1  1   0  0\n",
       " 0  1   0  0\n",
       " 0  0   1  0\n",
       " 0  0  -1  1"
      ]
     },
     "execution_count": 8,
     "metadata": {},
     "output_type": "execute_result"
    }
   ],
   "source": [
    "gens(G, 1)"
   ]
  },
  {
   "cell_type": "code",
   "execution_count": 9,
   "id": "1017cf0e",
   "metadata": {},
   "outputs": [
    {
     "data": {
      "text/plain": [
       "B₃.₁ ∈ Sp{4,Int8}\n",
       " 1  0  0  0\n",
       " 0  1  0  0\n",
       " 1  0  1  0\n",
       " 0  0  0  1"
      ]
     },
     "execution_count": 9,
     "metadata": {},
     "output_type": "execute_result"
    }
   ],
   "source": [
    "gens(G, 3)"
   ]
  },
  {
   "cell_type": "code",
   "execution_count": 10,
   "id": "5a7eb3a2",
   "metadata": {},
   "outputs": [
    {
     "data": {
      "text/plain": [
       "B₃.₂ ∈ Sp{4,Int8}\n",
       " 1  0  0  0\n",
       " 0  1  0  0\n",
       " 0  1  1  0\n",
       " 1  0  0  1"
      ]
     },
     "execution_count": 10,
     "metadata": {},
     "output_type": "execute_result"
    }
   ],
   "source": [
    "gens(G, 5)"
   ]
  },
  {
   "cell_type": "code",
   "execution_count": 11,
   "id": "044ca9cb",
   "metadata": {},
   "outputs": [
    {
     "name": "stdout",
     "output_type": "stream",
     "text": [
      "  0.047663 seconds (462.15 k allocations: 18.142 MiB, 40.45% gc time)\n",
      "  0.005926 seconds (72.67 k allocations: 2.805 MiB)\n",
      "  1.033321 seconds (1.62 M allocations: 93.844 MiB, 3.94% gc time, 94.65% compilation time: 14% of which was recompilation)\n"
     ]
    },
    {
     "name": "stderr",
     "output_type": "stream",
     "text": [
      "\u001b[36m\u001b[1m[ \u001b[22m\u001b[39m\u001b[36m\u001b[1mInfo: \u001b[22m\u001b[39mgenerating wl-metric ball of radius 4\n",
      "\u001b[36m\u001b[1m[ \u001b[22m\u001b[39m\u001b[36m\u001b[1mInfo: \u001b[22m\u001b[39msizes = [17, 209, 2073, 18313]\n",
      "\u001b[36m\u001b[1m[ \u001b[22m\u001b[39m\u001b[36m\u001b[1mInfo: \u001b[22m\u001b[39mcomputing the *-algebra structure for G\n"
     ]
    }
   ],
   "source": [
    "HALFRADIUS = 2\n",
    "RG, S, sizes = @time PropertyT.group_algebra(G, halfradius = HALFRADIUS);"
   ]
  },
  {
   "cell_type": "code",
   "execution_count": 12,
   "id": "972668c0",
   "metadata": {},
   "outputs": [
    {
     "data": {
      "text/plain": [
       "16-element Vector{FPGroupElement{Groups.MatrixGroups.SymplecticGroup{4, Int8, DataType, Groups.MatrixGroups.ElementarySymplectic{4, Int8}}, …}}:\n",
       " A₁.₂\n",
       " A₂.₁\n",
       " B₃.₁\n",
       " B₄.₂\n",
       " B₃.₂\n",
       " B₁.₃\n",
       " B₂.₄\n",
       " B₂.₃\n",
       " A₁.₂^-1\n",
       " A₂.₁^-1\n",
       " B₃.₁^-1\n",
       " B₄.₂^-1\n",
       " B₃.₂^-1\n",
       " B₁.₃^-1\n",
       " B₂.₄^-1\n",
       " B₂.₃^-1"
      ]
     },
     "execution_count": 12,
     "metadata": {},
     "output_type": "execute_result"
    }
   ],
   "source": [
    "S"
   ]
  },
  {
   "cell_type": "code",
   "execution_count": 13,
   "id": "9392e435",
   "metadata": {},
   "outputs": [
    {
     "data": {
      "text/plain": [
       "16·(id) -1·A₁.₂ -1·A₂.₁ -1·B₃.₁ -1·B₄.₂ -1·B₃.₂ -1·B₁.₃ -1·B₂.₄ -1·B₂.₃ -1·A₁.₂^-1 -1·A₂.₁^-1 -1·B₃.₁^-1 -1·B₄.₂^-1 -1·B₃.₂^-1 -1·B₁.₃^-1 -1·B₂.₄^-1 -1·B₂.₃^-1"
      ]
     },
     "execution_count": 13,
     "metadata": {},
     "output_type": "execute_result"
    }
   ],
   "source": [
    "Δ = RG(length(S)) - sum(RG(s) for s in S)"
   ]
  },
  {
   "cell_type": "markdown",
   "id": "2a7d9e36",
   "metadata": {},
   "source": [
    "## Optimization problem"
   ]
  },
  {
   "cell_type": "code",
   "execution_count": 14,
   "id": "f7c99d79",
   "metadata": {},
   "outputs": [
    {
     "name": "stdout",
     "output_type": "stream",
     "text": [
      "  2.809328 seconds (6.76 M allocations: 447.574 MiB, 8.29% gc time, 91.02% compilation time: <1% of which was recompilation)\n"
     ]
    },
    {
     "data": {
      "text/plain": [
       "A JuMP Model\n",
       "Maximization problem with:\n",
       "Variables: 21946\n",
       "Objective function type: JuMP.VariableRef\n",
       "`JuMP.AffExpr`-in-`MathOptInterface.EqualTo{Float64}`: 18313 constraints\n",
       "`Vector{JuMP.VariableRef}`-in-`MathOptInterface.PositiveSemidefiniteConeTriangle`: 1 constraint\n",
       "Model mode: AUTOMATIC\n",
       "CachingOptimizer state: NO_OPTIMIZER\n",
       "Solver name: No optimizer attached.\n",
       "Names registered in the model: P, psd, λ"
      ]
     },
     "execution_count": 14,
     "metadata": {},
     "output_type": "execute_result"
    }
   ],
   "source": [
    "@time model = PropertyT.sos_problem_primal(\n",
    "    Δ^2,\n",
    "    Δ,\n",
    "    augmented = true,\n",
    ")"
   ]
  },
  {
   "cell_type": "markdown",
   "id": "acffa7ba",
   "metadata": {},
   "source": [
    "However, since we know the action of the Weyl group, we do not want to solve this formulation."
   ]
  },
  {
   "cell_type": "markdown",
   "id": "99d0fe2a",
   "metadata": {},
   "source": [
    "### Symmetry reduction"
   ]
  },
  {
   "cell_type": "code",
   "execution_count": 15,
   "id": "5ced119a",
   "metadata": {},
   "outputs": [],
   "source": [
    "import PropertyT.StarAlgebras\n",
    "import PropertyT.SymbolicWedderburn\n",
    "using PropertyT.PermutationGroups"
   ]
  },
  {
   "cell_type": "code",
   "execution_count": 16,
   "id": "792a93f4",
   "metadata": {},
   "outputs": [
    {
     "name": "stdout",
     "output_type": "stream",
     "text": [
      " 10.315591 seconds (15.28 M allocations: 996.795 MiB, 5.75% gc time, 180.51% compilation time)\n"
     ]
    },
    {
     "name": "stderr",
     "output_type": "stream",
     "text": [
      "\u001b[36m\u001b[1m┌ \u001b[22m\u001b[39m\u001b[36m\u001b[1mInfo: \u001b[22m\u001b[39mWedderburn Decomposition into 4830 orbits and 4 simple summands of sizes\n",
      "\u001b[36m\u001b[1m└ \u001b[22m\u001b[39m[71, 58, 44, 36]\n"
     ]
    }
   ],
   "source": [
    "wd = let RG = RG, N = N\n",
    "    G = StarAlgebras.object(RG)\n",
    "    P = PermGroup(perm\"(1,2)\", Perm(circshift(1:N, -1)))\n",
    "    Weyl = Groups.Constructions.WreathProduct(PermGroup(perm\"(1,2)\"), P)\n",
    "    act = PropertyT.action_by_conjugation(G, Weyl)\n",
    "\n",
    "    @time SymbolicWedderburn.WedderburnDecomposition(\n",
    "        Float64,\n",
    "        Weyl,\n",
    "        act,\n",
    "        StarAlgebras.basis(RG),\n",
    "        StarAlgebras.Basis{UInt16}(@view StarAlgebras.basis(RG)[1:sizes[HALFRADIUS]]),\n",
    "    )\n",
    "end\n",
    "@info wd"
   ]
  },
  {
   "cell_type": "code",
   "execution_count": 17,
   "id": "6b98dcdf",
   "metadata": {},
   "outputs": [
    {
     "name": "stdout",
     "output_type": "stream",
     "text": [
      "  3.145996 seconds (4.65 M allocations: 544.512 MiB, 7.48% gc time, 207.87% compilation time)\n"
     ]
    },
    {
     "data": {
      "text/plain": [
       "A JuMP Model\n",
       "Maximization problem with:\n",
       "Variables: 5924\n",
       "Objective function type: JuMP.VariableRef\n",
       "`JuMP.AffExpr`-in-`MathOptInterface.EqualTo{Float64}`: 4829 constraints\n",
       "`Vector{JuMP.VariableRef}`-in-`MathOptInterface.PositiveSemidefiniteConeTriangle`: 4 constraints\n",
       "Model mode: AUTOMATIC\n",
       "CachingOptimizer state: NO_OPTIMIZER\n",
       "Solver name: No optimizer attached.\n",
       "Names registered in the model: λ"
      ]
     },
     "execution_count": 17,
     "metadata": {},
     "output_type": "execute_result"
    }
   ],
   "source": [
    "@time model, varP = PropertyT.sos_problem_primal(Δ^2, Δ, wd; augmented = true);\n",
    "model"
   ]
  },
  {
   "cell_type": "code",
   "execution_count": 18,
   "id": "c5255979",
   "metadata": {},
   "outputs": [],
   "source": [
    "include(joinpath(dirname(pathof(PropertyT)), \"..\", \"test\", \"optimizers.jl\"));\n",
    "with_optimizer = cosmo_optimizer(;\n",
    "    eps = 1e-9,\n",
    "    max_iters = 20_000,\n",
    "    accel = 50,\n",
    "    alpha = 1.95,\n",
    ");"
   ]
  },
  {
   "cell_type": "code",
   "execution_count": 19,
   "id": "b3b2fd9f",
   "metadata": {},
   "outputs": [],
   "source": [
    "warm = nothing"
   ]
  },
  {
   "cell_type": "code",
   "execution_count": 20,
   "id": "21244c80",
   "metadata": {},
   "outputs": [
    {
     "name": "stdout",
     "output_type": "stream",
     "text": [
      "------------------------------------------------------------------\n",
      "          COSMO v0.8.7 - A Quadratic Objective Conic Solver\n",
      "                         Michael Garstka\n",
      "                University of Oxford, 2017 - 2022\n",
      "------------------------------------------------------------------\n",
      "\n",
      "Problem:  x ∈ R^{5924},\n",
      "          constraints: A ∈ R^{10752x5924} (46608 nnz),\n",
      "          matrix size to factor: 16676x16676,\n",
      "          Floating-point precision: Float64\n",
      "Sets:     ZeroSet of dim: 4829\n",
      "          PsdConeTriangle of dim: 2556 (71x71)\n",
      "          PsdConeTriangle of dim: 1711 (58x58)\n",
      "          PsdConeTriangle of dim: 990 (44x44)\n",
      "          PsdConeTriangle of dim: 666 (36x36)\n",
      "          ... and 0 more\n",
      "Settings: ϵ_abs = 1.0e-09, ϵ_rel = 1.0e-09,\n",
      "          ϵ_prim_inf = 1.0e-09, ϵ_dual_inf = 1.0e-09,\n",
      "          ρ = 0.1, σ = 1e-06, α = 1.95,\n",
      "          max_iter = 20000,\n",
      "          scaling iter = 10 (on),\n",
      "          check termination every 250 iter,\n",
      "          check infeasibility every 40 iter,\n",
      "          KKT system solver: COSMO.QdldlKKTSolver\n",
      "Acc:      Anderson Type2{QRDecomp},\n",
      "          Memory size = 50, RestartedMemory,\t\n",
      "          Safeguarded: true, tol: 2.0\n",
      "Setup Time: 1067.81ms\n",
      "\n",
      "Iter:\tObjective:\tPrimal Res:\tDual Res:\tRho:\n",
      "1\t-1.5328e+02\t3.0410e+01\t9.4992e-01\t1.0000e-01\n",
      "250\t-1.3647e+00\t7.4075e-03\t3.1088e-04\t1.0000e-01\n",
      "500\t-8.9674e-01\t9.5690e-04\t9.9076e-05\t1.0000e-01\n",
      "750\t-8.7802e-01\t6.2356e-05\t1.4123e-05\t1.0000e-01\n",
      "1000\t-8.7937e-01\t3.8351e-06\t3.0523e-06\t1.0000e-01\n",
      "1250\t-8.7921e-01\t1.1649e-06\t1.7090e-07\t1.0000e-01\n",
      "1500\t-8.7917e-01\t1.5641e-07\t5.2383e-08\t1.0000e-01\n",
      "1750\t-8.7916e-01\t2.1628e-08\t6.9603e-09\t1.0000e-01\n",
      "2000\t-8.7916e-01\t2.8823e-09\t1.3566e-09\t1.0000e-01\n",
      "\n",
      "------------------------------------------------------------------\n",
      ">>> Results\n",
      "Status: \u001b[32mSolved\u001b[39m\n",
      "Iterations: 2006 (incl. 6 safeguarding iter)\n",
      "Optimal objective: -0.8792\n",
      "Runtime: 9.393s (9392.83ms)\n",
      "\n"
     ]
    },
    {
     "name": "stderr",
     "output_type": "stream",
     "text": [
      "\u001b[36m\u001b[1m┌ \u001b[22m\u001b[39m\u001b[36m\u001b[1mInfo: \u001b[22m\u001b[39mOptimization has finished with\n",
      "\u001b[36m\u001b[1m└ \u001b[22m\u001b[39m  status = OPTIMAL::TerminationStatusCode = 1\n"
     ]
    }
   ],
   "source": [
    "status, warm = PropertyT.solve(model, with_optimizer, warm)\n",
    "@info \"Optimization has finished with\" status"
   ]
  },
  {
   "cell_type": "markdown",
   "id": "858646b3",
   "metadata": {},
   "source": [
    "### Reconstructing and certifying the solution\n",
    "Since we symmetrized our problem, we don't have direct access to `P` or `Q` as defined above. So first we need to reconstruct `Q` from the action of `Weyl` on $\\operatorname{Ball}(S, R)$:"
   ]
  },
  {
   "cell_type": "code",
   "execution_count": 21,
   "id": "46967657",
   "metadata": {},
   "outputs": [
    {
     "name": "stdout",
     "output_type": "stream",
     "text": [
      " 12.127439 seconds (21.09 M allocations: 1.321 GiB, 5.39% gc time, 101.81% compilation time)\n"
     ]
    },
    {
     "data": {
      "text/plain": [
       "209×209 Matrix{Float64}:\n",
       " 0.0   0.0          0.0          0.0         …   0.0           0.0\n",
       " 0.0   2.32376      0.240807     0.149926       -0.00871198    0.0146467\n",
       " 0.0   0.240807     2.32376     -0.0270739      -0.00871198    0.0146467\n",
       " 0.0   0.149926    -0.0270739    2.92568        -0.0101338    -0.00672878\n",
       " 0.0  -0.0270739    0.149926     0.103023       -0.0101338    -0.00672878\n",
       " 0.0   0.068979     0.068979    -0.0270739   …  -0.00898872    0.00720544\n",
       " 0.0  -0.0270739    0.149926    -0.0792421       0.0298764     0.0692956\n",
       " 0.0   0.149926    -0.0270739    0.1528          0.0298764     0.0692956\n",
       " 0.0   0.068979     0.068979     0.149926       -0.00517651    0.00692669\n",
       " 0.0   0.184117    -0.0699968    0.149926       -0.00871198    0.0146467\n",
       " 0.0  -0.0699968    0.184117    -0.0270739   …  -0.00871198    0.0146467\n",
       " 0.0   0.149926    -0.0270739    0.231366       -0.0101338    -0.00672876\n",
       " 0.0  -0.0270739    0.149926     0.1528         -0.0101338    -0.00672876\n",
       " ⋮                                           ⋱                \n",
       " 0.0  -0.043486    -0.0620895   -0.0293604       0.00982189   -0.043519\n",
       " 0.0   0.0685747    0.0046182    0.00113625      0.0167334     0.0105887\n",
       " 0.0   0.0046182    0.0685747    0.0189578       0.0167334     0.0105887\n",
       " 0.0   0.00198433   0.00697333   0.0101766   …  -0.0289858     0.0181242\n",
       " 0.0   0.00697333   0.00198433  -0.00129424     -0.0289858     0.0181242\n",
       " 0.0   0.0170852    0.0170852   -0.00383007     -0.000557844   0.0497865\n",
       " 0.0   0.00252303   0.00821916   0.00342529      0.0167334     0.0105887\n",
       " 0.0   0.00821916   0.00252303  -0.00966351      0.0167334     0.0105887\n",
       " 0.0   0.00374892   0.0066496   -0.00106871  …  -0.0289858     0.0181242\n",
       " 0.0   0.0066496    0.00374892   0.0116068      -0.0289858     0.0181242\n",
       " 0.0  -0.00871198  -0.00871198  -0.0101338       0.0943679     0.0151338\n",
       " 0.0   0.0146467    0.0146467   -0.00672878      0.0151338     0.132778"
      ]
     },
     "execution_count": 21,
     "metadata": {},
     "output_type": "execute_result"
    }
   ],
   "source": [
    "Q = @time let wd = wd, Ps = [JuMP.value.(P) for P in varP]\n",
    "    Qs = real.(sqrt.(Ps))\n",
    "    PropertyT.reconstruct(Qs, wd)\n",
    "end"
   ]
  },
  {
   "cell_type": "code",
   "execution_count": 22,
   "id": "56d3d482",
   "metadata": {},
   "outputs": [
    {
     "name": "stderr",
     "output_type": "stream",
     "text": [
      "\u001b[36m\u001b[1m[ \u001b[22m\u001b[39m\u001b[36m\u001b[1mInfo: \u001b[22m\u001b[39mcertifying the solution\n"
     ]
    },
    {
     "name": "stdout",
     "output_type": "stream",
     "text": [
      "  0.001106 seconds (6 allocations: 484.656 KiB)\n"
     ]
    },
    {
     "name": "stderr",
     "output_type": "stream",
     "text": [
      "\u001b[36m\u001b[1m┌ \u001b[22m\u001b[39m\u001b[36m\u001b[1mInfo: \u001b[22m\u001b[39mChecking in Float64 arithmetic with\n",
      "\u001b[36m\u001b[1m└ \u001b[22m\u001b[39m  λ = 0.8791635509146072\n",
      "\u001b[36m\u001b[1m┌ \u001b[22m\u001b[39m\u001b[36m\u001b[1mInfo: \u001b[22m\u001b[39mNumerical metrics of the obtained SOS:\n",
      "\u001b[36m\u001b[1m│ \u001b[22m\u001b[39mɛ(elt - λu - ∑ξᵢ*ξᵢ) ≈ -9.539847720347621e-13\n",
      "\u001b[36m\u001b[1m│ \u001b[22m\u001b[39m‖elt - λu - ∑ξᵢ*ξᵢ‖₁ ≈ 9.74471207144253e-7\n",
      "\u001b[36m\u001b[1m└ \u001b[22m\u001b[39m λ ≈ 0.8791596530297786\n"
     ]
    },
    {
     "name": "stdout",
     "output_type": "stream",
     "text": [
      "  0.672544 seconds (815.49 k allocations: 62.067 MiB, 7.64% gc time, 98.45% compilation time)\n"
     ]
    },
    {
     "name": "stderr",
     "output_type": "stream",
     "text": [
      "\u001b[36m\u001b[1m┌ \u001b[22m\u001b[39m\u001b[36m\u001b[1mInfo: \u001b[22m\u001b[39mChecking in Interval{Float64} arithmetic with\n",
      "\u001b[36m\u001b[1m└ \u001b[22m\u001b[39m  λ_int = [0.879163, 0.879164]\n",
      "\u001b[36m\u001b[1m┌ \u001b[22m\u001b[39m\u001b[36m\u001b[1mInfo: \u001b[22m\u001b[39mNumerical metrics of the obtained SOS:\n",
      "\u001b[36m\u001b[1m│ \u001b[22m\u001b[39mɛ(elt - λu - ∑ξᵢ*ξᵢ) ∈ [-7.1263e-10, 7.2096e-10]\n",
      "\u001b[36m\u001b[1m│ \u001b[22m\u001b[39m‖elt - λu - ∑ξᵢ*ξᵢ‖₁ ∈ [9.73749e-07, 9.75184e-07]\n",
      "\u001b[36m\u001b[1m└ \u001b[22m\u001b[39m λ ∈ [0.879159, 0.87916]\n",
      "\u001b[36m\u001b[1m┌ \u001b[22m\u001b[39m\u001b[36m\u001b[1mInfo: \u001b[22m\u001b[39mCertified result: Sp_{4}(ℤ) has property (T)\n",
      "\u001b[36m\u001b[1m└ \u001b[22m\u001b[39m  PropertyT.IntervalArithmetic.inf(λ) = 0.8791596501814338\n"
     ]
    }
   ],
   "source": [
    "@info \"certifying the solution\"\n",
    "certified, λ = PropertyT.certify_solution(\n",
    "    Δ^2,\n",
    "    Δ,\n",
    "    JuMP.objective_value(model),\n",
    "    Q;\n",
    "    halfradius = HALFRADIUS,\n",
    "    augmented = true,\n",
    ")\n",
    "\n",
    "if certified && λ > 0\n",
    "    @info \"Certified result: Sp_{$(2N)}(ℤ) has property (T)\" PropertyT.IntervalArithmetic.inf(λ)\n",
    "else\n",
    "    @info \"Could NOT certify the Property(T) for Sp_{$(2N)}(ℤ)\" certified λ\n",
    "end"
   ]
  },
  {
   "cell_type": "markdown",
   "id": "97a55781",
   "metadata": {},
   "source": [
    "# Levels in $\\operatorname{Sp}_{6}(\\mathbb{Z})$"
   ]
  },
  {
   "cell_type": "markdown",
   "id": "bd54f76b",
   "metadata": {},
   "source": [
    "We wish here to prove\n",
    "> **Theorem 3.15**: Let $G= \\operatorname{Sp}_{6}(\\mathbb{Z})$ be the universal Chevalley group over $\\mathbb{Z}$ of type $\\texttt{C}_\\texttt{3}$ endowed with the set of Steinberg generators $S$. Let $V$ denote the ambient vector space of the root system. Then for $\\lambda=2.41212$ we have\n",
    ">\n",
    ">$$ \\operatorname{Lev}_2^3 + \\operatorname{Lev}_3^3 -\\lambda \\Delta_V = \\sum \\xi_i^* \\xi_i$$\n",
    ">\n",
    ">for some $\\xi_i\\in \\mathbb{R}G$ supported inside $\\operatorname{Ball}(S, 2)$."
   ]
  },
  {
   "cell_type": "code",
   "execution_count": 23,
   "id": "0f28a49b",
   "metadata": {},
   "outputs": [
    {
     "data": {
      "text/plain": [
       "group of 6×6 symplectic matrices"
      ]
     },
     "execution_count": 23,
     "metadata": {},
     "output_type": "execute_result"
    }
   ],
   "source": [
    "N = 3\n",
    "G = MatrixGroups.SymplecticGroup{2*N}(Int8)"
   ]
  },
  {
   "cell_type": "code",
   "execution_count": 24,
   "id": "7a385167",
   "metadata": {},
   "outputs": [
    {
     "name": "stderr",
     "output_type": "stream",
     "text": [
      "\u001b[36m\u001b[1m[ \u001b[22m\u001b[39m\u001b[36m\u001b[1mInfo: \u001b[22m\u001b[39mgenerating wl-metric ball of radius 4\n"
     ]
    },
    {
     "name": "stdout",
     "output_type": "stream",
     "text": [
      "  1.489715 seconds (12.08 M allocations: 598.526 MiB, 20.44% gc time)\n"
     ]
    },
    {
     "name": "stderr",
     "output_type": "stream",
     "text": [
      "\u001b[36m\u001b[1m[ \u001b[22m\u001b[39m\u001b[36m\u001b[1mInfo: \u001b[22m\u001b[39msizes = [37, 961, 21183, 424899]\n",
      "\u001b[36m\u001b[1m[ \u001b[22m\u001b[39m\u001b[36m\u001b[1mInfo: \u001b[22m\u001b[39mcomputing the *-algebra structure for G\n"
     ]
    },
    {
     "name": "stdout",
     "output_type": "stream",
     "text": [
      "  0.220843 seconds (1.69 M allocations: 94.096 MiB, 17.50% gc time)\n",
      "  2.614683 seconds (14.93 M allocations: 768.927 MiB, 14.56% gc time, 34.55% compilation time)\n"
     ]
    }
   ],
   "source": [
    "HALFRADIUS = 2\n",
    "RG, S, sizes = @time PropertyT.group_algebra(G, halfradius = HALFRADIUS);"
   ]
  },
  {
   "cell_type": "code",
   "execution_count": 25,
   "id": "16748495",
   "metadata": {},
   "outputs": [
    {
     "data": {
      "text/plain": [
       "36-element Vector{FPGroupElement{Groups.MatrixGroups.SymplecticGroup{6, Int8, DataType, Groups.MatrixGroups.ElementarySymplectic{6, Int8}}, …}}:\n",
       " A₁.₂\n",
       " A₁.₃\n",
       " A₂.₁\n",
       " A₂.₃\n",
       " A₃.₁\n",
       " A₃.₂\n",
       " B₄.₁\n",
       " B₅.₂\n",
       " B₆.₃\n",
       " B₄.₂\n",
       " B₄.₃\n",
       " B₅.₃\n",
       " B₁.₄\n",
       " ⋮\n",
       " B₄.₁^-1\n",
       " B₅.₂^-1\n",
       " B₆.₃^-1\n",
       " B₄.₂^-1\n",
       " B₄.₃^-1\n",
       " B₅.₃^-1\n",
       " B₁.₄^-1\n",
       " B₂.₅^-1\n",
       " B₃.₆^-1\n",
       " B₂.₄^-1\n",
       " B₃.₄^-1\n",
       " B₃.₅^-1"
      ]
     },
     "execution_count": 25,
     "metadata": {},
     "output_type": "execute_result"
    }
   ],
   "source": [
    "S"
   ]
  },
  {
   "cell_type": "code",
   "execution_count": 26,
   "id": "81dc230f",
   "metadata": {},
   "outputs": [
    {
     "data": {
      "text/plain": [
       "36·(id) -1·A₁.₂ -1·A₁.₃ -1·A₂.₁ -1·A₂.₃ -1·A₃.₁ -1·A₃.₂ -1·B₄.₁ -1·B₅.₂ -1·B₆.₃ -1·B₄.₂ -1·B₄.₃ -1·B₅.₃ -1·B₁.₄ -1·B₂.₅ -1·B₃.₆ -1·B₂.₄ -1·B₃.₄ -1·B₃.₅ -1·A₁.₂^-1 -1·A₁.₃^-1 -1·A₂.₁^-1 -1·A₂.₃^-1 -1·A₃.₁^-1 -1·A₃.₂^-1 -1·B₄.₁^-1 -1·B₅.₂^-1 -1·B₆.₃^-1 -1·B₄.₂^-1 -1·B₄.₃^-1 -1·B₅.₃^-1 -1·B₁.₄^-1 -1·B₂.₅^-1 -1·B₃.₆^-1 -1·B₂.₄^-1 -1·B₃.₄^-1 -1·B₃.₅^-1"
      ]
     },
     "execution_count": 26,
     "metadata": {},
     "output_type": "execute_result"
    }
   ],
   "source": [
    "Δ = RG(length(S)) - sum(RG(s) for s in S)"
   ]
  },
  {
   "cell_type": "markdown",
   "id": "d6990deb",
   "metadata": {},
   "source": [
    "## Grading\n",
    "\n",
    "Let us define a $\\texttt{C}_\\texttt{2}$ grading for $(G, S)$. That is, to every generator $s \\in S$ we need to assign a root in $\\texttt{C}_\\texttt{2}$ in a compatible fashion. For a precise description of this grading see **Example 3.2 (2)**.  "
   ]
  },
  {
   "cell_type": "code",
   "execution_count": 27,
   "id": "a538b31e",
   "metadata": {},
   "outputs": [
    {
     "data": {
      "text/plain": [
       "A₁.₂ ∈ Sp{6,Int8}\n",
       " 1  1  0   0  0  0\n",
       " 0  1  0   0  0  0\n",
       " 0  0  1   0  0  0\n",
       " 0  0  0   1  0  0\n",
       " 0  0  0  -1  1  0\n",
       " 0  0  0   0  0  1"
      ]
     },
     "execution_count": 27,
     "metadata": {},
     "output_type": "execute_result"
    }
   ],
   "source": [
    "g = gens(G, 1)"
   ]
  },
  {
   "cell_type": "code",
   "execution_count": 28,
   "id": "fe79cf96",
   "metadata": {},
   "outputs": [
    {
     "data": {
      "text/plain": [
       "Root in ℝ^3 of length √2\n",
       "[1, -1, 0]"
      ]
     },
     "execution_count": 28,
     "metadata": {},
     "output_type": "execute_result"
    }
   ],
   "source": [
    "PropertyT.grading(g)"
   ]
  },
  {
   "cell_type": "code",
   "execution_count": 29,
   "id": "75a4f49f",
   "metadata": {},
   "outputs": [
    {
     "data": {
      "text/plain": [
       "B₄.₁ ∈ Sp{6,Int8}\n",
       " 1  0  0  0  0  0\n",
       " 0  1  0  0  0  0\n",
       " 0  0  1  0  0  0\n",
       " 1  0  0  1  0  0\n",
       " 0  0  0  0  1  0\n",
       " 0  0  0  0  0  1"
      ]
     },
     "execution_count": 29,
     "metadata": {},
     "output_type": "execute_result"
    }
   ],
   "source": [
    "g = gens(G, 7)"
   ]
  },
  {
   "cell_type": "code",
   "execution_count": 30,
   "id": "6e3102a9",
   "metadata": {},
   "outputs": [
    {
     "data": {
      "text/plain": [
       "Root in ℝ^3 of length 2\n",
       "[-2, 0, 0]"
      ]
     },
     "execution_count": 30,
     "metadata": {},
     "output_type": "execute_result"
    }
   ],
   "source": [
    "PropertyT.grading(g)"
   ]
  },
  {
   "cell_type": "code",
   "execution_count": 31,
   "id": "7eda3152",
   "metadata": {},
   "outputs": [
    {
     "data": {
      "text/plain": [
       "B₄.₂ ∈ Sp{6,Int8}\n",
       " 1  0  0  0  0  0\n",
       " 0  1  0  0  0  0\n",
       " 0  0  1  0  0  0\n",
       " 0  1  0  1  0  0\n",
       " 1  0  0  0  1  0\n",
       " 0  0  0  0  0  1"
      ]
     },
     "execution_count": 31,
     "metadata": {},
     "output_type": "execute_result"
    }
   ],
   "source": [
    "g = gens(G, 10)"
   ]
  },
  {
   "cell_type": "code",
   "execution_count": 32,
   "id": "cf9200ee",
   "metadata": {},
   "outputs": [
    {
     "data": {
      "text/plain": [
       "Root in ℝ^3 of length √2\n",
       "[-1, -1, 0]"
      ]
     },
     "execution_count": 32,
     "metadata": {},
     "output_type": "execute_result"
    }
   ],
   "source": [
    "PropertyT.grading(g)"
   ]
  },
  {
   "cell_type": "code",
   "execution_count": 33,
   "id": "9eba8b59",
   "metadata": {},
   "outputs": [],
   "source": [
    "Δs = PropertyT.laplacians(\n",
    "    RG,\n",
    "    S,\n",
    "    x -> (gx = PropertyT.grading(x); Set([gx, -gx])),\n",
    ");"
   ]
  },
  {
   "cell_type": "markdown",
   "id": "8d5854d6",
   "metadata": {},
   "source": [
    "According to **Definition 3.13** we define $\\operatorname{Lev}_2^3$ as follows (note: `PropertyT.Adj(Δs, :A₁)` stands here for short squares)."
   ]
  },
  {
   "cell_type": "code",
   "execution_count": 34,
   "id": "928e506e",
   "metadata": {},
   "outputs": [
    {
     "data": {
      "text/plain": [
       "696·(id) -32·A₁.₂ -32·A₁.₃ -32·A₂.₁ -32·A₂.₃ -32·A₃.₁ -32·A₃.₂ -48·B₄.₁ -48·B₅.₂ -48·B₆.₃ -32·B₄.₂ -32·B₄.₃ -32·B₅.₃ -48·B₁.₄ -48·B₂.₅ -48·B₃.₆ -32·B₂.₄ -32·B₃.₄ -32·B₃.₅ -32·A₁.₂^-1 -32·A₁.₃^-1 -32·A₂.₁^-1 -32·A₂.₃^-1 -32·A₃.₁^-1 -32·A₃.₂^-1 -48·B₄.₁^-1 -48·B₅.₂^-1 -48·B₆.₃^-1 -32·B₄.₂^-1 -32·B₄.₃^-1 -32·B₅.₃^-1 -48·B₁.₄^-1 -48·B₂.₅^-1 -48·B₃.₆^-1 -32·B₂.₄^-1 -32·B₃.₄^-1 -32·B₃.₅^-1 +1·A₁.₂^2 +1·A₁.₂*A₂.₁ +1·A₁.₂*B₄.₁ +2·A₁.₂*B₅.₂ +1·A₁.₂*B₄.₂ +2·A₁.₂*B₁.₄ +1·A₁.₂*B₂.₅ +1·A₁.₂*B₂.₄ +1·A₁.₂*A₂.₁^-1 +1·A₁.₂*B₄.₁^-1 +2·A₁.₂*B₅.₂^-1 +1·A₁.₂*B₄.₂^-1 +2·A₁.₂*B₁.₄^-1 +1·A₁.₂*B₂.₅^-1 +1·A₁.₂*B₂.₄^-1 +1·A₁.₃^2 +1·A₁.₃*A₃.₁ +1·A₁.₃*B₄.₁ +2·A₁.₃*B₆.₃ +1·A₁.₃*B₄.₃ +2·A₁.₃*B₁.₄ +1·A₁.₃*B₃.₆ +1·A₁.₃*B₃.₄ +1·A₁.₃*A₃.₁^-1 +1·A₁.₃*B₄.₁^-1 +2·A₁.₃*B₆.₃^-1 +1·A₁.₃*B₄.₃^-1 +2·A₁.₃*B₁.₄^-1 +1·A₁.₃*B₃.₆^-1 +1·A₁.₃*B₃.₄^-1 +1·A₂.₁*A₁.₂ +1·A₂.₁^2 +2·A₂.₁*B₄.₁ +1·A₂.₁*B₅.₂ +1·A₂.₁*B₄.₂ +1·A₂.₁*B₁.₄ +2·A₂.₁*B₂.₅ +1·A₂.₁*B₂.₄ +1·A₂.₁*A₁.₂^-1 +2·A₂.₁*B₄.₁^-1 +1·A₂.₁*B₅.₂^-1 +1·A₂.₁*B₄.₂^-1 +1·A₂.₁*B₁.₄^-1 +2·A₂.₁*B₂.₅^-1 +1·A₂.₁*B₂.₄^-1 +1·A₂.₃^2 +1·A₂.₃*A₃.₂ +1·A₂.₃*B₅.₂ +2·A₂.₃*B₆.₃ +1·A₂.₃*B₅.₃ +2·A₂.₃*B₂.₅ +1·A₂.₃*B₃.₆ +1·A₂.₃*B₃.₅ +1·A₂.₃*A₃.₂^-1 +1·A₂.₃*B₅.₂^-1 +2·A₂.₃*B₆.₃^-1 +1·A₂.₃*B₅.₃^-1 +2·A₂.₃*B₂.₅^-1 +1·A₂.₃*B₃.₆^-1 +1·A₂.₃*B₃.₅^-1 +1·A₃.₁*A₁.₃ +1·A₃.₁^2 +2·A₃.₁*B₄.₁ +1·A₃.₁*B₆.₃ +1·A₃.₁*B₄.₃ +1·A₃.₁*B₁.₄ +2·A₃.₁*B₃.₆ +1·A₃.₁*B₃.₄ +1·A₃.₁*A₁.₃^-1 +2·A₃.₁*B₄.₁^-1 +1·A₃.₁*B₆.₃^-1 +1·A₃.₁*B₄.₃^-1 +1·A₃.₁*B₁.₄^-1 +2·A₃.₁*B₃.₆^-1 +1·A₃.₁*B₃.₄^-1 +1·A₃.₂*A₂.₃ +1·A₃.₂^2 +2·A₃.₂*B₅.₂ +1·A₃.₂*B₆.₃ +1·A₃.₂*B₅.₃ +1·A₃.₂*B₂.₅ +2·A₃.₂*B₃.₆ +1·A₃.₂*B₃.₅ +1·A₃.₂*A₂.₃^-1 +2·A₃.₂*B₅.₂^-1 +1·A₃.₂*B₆.₃^-1 +1·A₃.₂*B₅.₃^-1 +1·A₃.₂*B₂.₅^-1 +2·A₃.₂*B₃.₆^-1 +1·A₃.₂*B₃.₅^-1 +1·B₄.₁*A₁.₂ +1·B₄.₁*A₁.₃ +2·B₄.₁*B₅.₂ +2·B₄.₁*B₆.₃ +2·B₄.₁*B₄.₂ +2·B₄.₁*B₄.₃ +2·B₄.₁*B₂.₅ +2·B₄.₁*B₃.₆ +1·B₄.₁*B₂.₄ +1·B₄.₁*B₃.₄ +1·B₄.₁*A₁.₂^-1 +1·B₄.₁*A₁.₃^-1 +2·B₄.₁*A₂.₁^-1 +2·B₄.₁*A₃.₁^-1 +2·B₄.₁*B₅.₂^-1 +2·B₄.₁*B₆.₃^-1 +2·B₄.₁*B₄.₂^-1 +2·B₄.₁*B₄.₃^-1 +2·B₄.₁*B₂.₅^-1 +2·B₄.₁*B₃.₆^-1 +1·B₄.₁*B₂.₄^-1 +1·B₄.₁*B₃.₄^-1 +1·B₅.₂*A₂.₁ +1·B₅.₂*A₂.₃ +2·B₅.₂*B₆.₃ +2·B₅.₂*B₄.₂ +2·B₅.₂*B₅.₃ +2·B₅.₂*B₁.₄ +2·B₅.₂*B₃.₆ +1·B₅.₂*B₂.₄ +1·B₅.₂*B₃.₅ +2·B₅.₂*A₁.₂^-1 +1·B₅.₂*A₂.₁^-1 +1·B₅.₂*A₂.₃^-1 +2·B₅.₂*A₃.₂^-1 +2·B₅.₂*B₄.₁^-1 +2·B₅.₂*B₆.₃^-1 +2·B₅.₂*B₄.₂^-1 +2·B₅.₂*B₅.₃^-1 +2·B₅.₂*B₁.₄^-1 +2·B₅.₂*B₃.₆^-1 +1·B₅.₂*B₂.₄^-1 +1·B₅.₂*B₃.₅^-1 +1·B₆.₃*A₃.₁ +1·B₆.₃*A₃.₂ +2·B₆.₃*B₄.₃ +2·B₆.₃*B₅.₃ +2·B₆.₃*B₁.₄ +2·B₆.₃*B₂.₅ +1·B₆.₃*B₃.₄ +1·B₆.₃*B₃.₅ +2·B₆.₃*A₁.₃^-1 +2·B₆.₃*A₂.₃^-1 +1·B₆.₃*A₃.₁^-1 +1·B₆.₃*A₃.₂^-1 +2·B₆.₃*B₄.₁^-1 +2·B₆.₃*B₅.₂^-1 +2·B₆.₃*B₄.₃^-1 +2·B₆.₃*B₅.₃^-1 +2·B₆.₃*B₁.₄^-1 +2·B₆.₃*B₂.₅^-1 +1·B₆.₃*B₃.₄^-1 +1·B₆.₃*B₃.₅^-1 +1·B₄.₂*A₁.₂ +1·B₄.₂*A₂.₁ +1·B₄.₂^2 +1·B₄.₂*B₁.₄ +1·B₄.₂*B₂.₅ +1·B₄.₂*B₂.₄ +1·B₄.₂*A₁.₂^-1 +1·B₄.₂*A₂.₁^-1 +2·B₄.₂*B₄.₁^-1 +2·B₄.₂*B₅.₂^-1 +1·B₄.₂*B₁.₄^-1 +1·B₄.₂*B₂.₅^-1 +1·B₄.₂*B₂.₄^-1 +1·B₄.₃*A₁.₃ +1·B₄.₃*A₃.₁ +1·B₄.₃^2 +1·B₄.₃*B₁.₄ +1·B₄.₃*B₃.₆ +1·B₄.₃*B₃.₄ +1·B₄.₃*A₁.₃^-1 +1·B₄.₃*A₃.₁^-1 +2·B₄.₃*B₄.₁^-1 +2·B₄.₃*B₆.₃^-1 +1·B₄.₃*B₁.₄^-1 +1·B₄.₃*B₃.₆^-1 +1·B₄.₃*B₃.₄^-1 +1·B₅.₃*A₂.₃ +1·B₅.₃*A₃.₂ +1·B₅.₃^2 +1·B₅.₃*B₂.₅ +1·B₅.₃*B₃.₆ +1·B₅.₃*B₃.₅ +1·B₅.₃*A₂.₃^-1 +1·B₅.₃*A₃.₂^-1 +2·B₅.₃*B₅.₂^-1 +2·B₅.₃*B₆.₃^-1 +1·B₅.₃*B₂.₅^-1 +1·B₅.₃*B₃.₆^-1 +1·B₅.₃*B₃.₅^-1 +1·B₁.₄*A₂.₁ +1·B₁.₄*A₃.₁ +1·B₁.₄*B₄.₂ +1·B₁.₄*B₄.₃ +2·B₁.₄*B₂.₅ +2·B₁.₄*B₃.₆ +2·B₁.₄*B₂.₄ +2·B₁.₄*B₃.₄ +2·B₁.₄*A₁.₂^-1 +2·B₁.₄*A₁.₃^-1 +1·B₁.₄*A₂.₁^-1 +1·B₁.₄*A₃.₁^-1 +2·B₁.₄*B₅.₂^-1 +2·B₁.₄*B₆.₃^-1 +1·B₁.₄*B₄.₂^-1 +1·B₁.₄*B₄.₃^-1 +2·B₁.₄*B₂.₅^-1 +2·B₁.₄*B₃.₆^-1 +2·B₁.₄*B₂.₄^-1 +2·B₁.₄*B₃.₄^-1 +1·B₂.₅*A₁.₂ +1·B₂.₅*A₃.₂ +1·B₂.₅*B₄.₂ +1·B₂.₅*B₅.₃ +2·B₂.₅*B₃.₆ +2·B₂.₅*B₂.₄ +2·B₂.₅*B₃.₅ +1·B₂.₅*A₁.₂^-1 +2·B₂.₅*A₂.₁^-1 +2·B₂.₅*A₂.₃^-1 +1·B₂.₅*A₃.₂^-1 +2·B₂.₅*B₄.₁^-1 +2·B₂.₅*B₆.₃^-1 +1·B₂.₅*B₄.₂^-1 +1·B₂.₅*B₅.₃^-1 +2·B₂.₅*B₁.₄^-1 +2·B₂.₅*B₃.₆^-1 +2·B₂.₅*B₂.₄^-1 +2·B₂.₅*B₃.₅^-1 +1·B₃.₆*A₁.₃ +1·B₃.₆*A₂.₃ +1·B₃.₆*B₄.₃ +1·B₃.₆*B₅.₃ +2·B₃.₆*B₃.₄ +2·B₃.₆*B₃.₅ +1·B₃.₆*A₁.₃^-1 +1·B₃.₆*A₂.₃^-1 +2·B₃.₆*A₃.₁^-1 +2·B₃.₆*A₃.₂^-1 +2·B₃.₆*B₄.₁^-1 +2·B₃.₆*B₅.₂^-1 +1·B₃.₆*B₄.₃^-1 +1·B₃.₆*B₅.₃^-1 +2·B₃.₆*B₁.₄^-1 +2·B₃.₆*B₂.₅^-1 +2·B₃.₆*B₃.₄^-1 +2·B₃.₆*B₃.₅^-1 +1·B₂.₄*A₁.₂ +1·B₂.₄*A₂.₁ +1·B₂.₄*B₄.₁ +1·B₂.₄*B₅.₂ +1·B₂.₄*B₄.₂ +1·B₂.₄^2 +1·B₂.₄*A₁.₂^-1 +1·B₂.₄*A₂.₁^-1 +1·B₂.₄*B₄.₁^-1 +1·B₂.₄*B₅.₂^-1 +1·B₂.₄*B₄.₂^-1 +2·B₂.₄*B₁.₄^-1 +2·B₂.₄*B₂.₅^-1 +1·B₃.₄*A₁.₃ +1·B₃.₄*A₃.₁ +1·B₃.₄*B₄.₁ +1·B₃.₄*B₆.₃ +1·B₃.₄*B₄.₃ +1·B₃.₄^2 +1·B₃.₄*A₁.₃^-1 +1·B₃.₄*A₃.₁^-1 +1·B₃.₄*B₄.₁^-1 +1·B₃.₄*B₆.₃^-1 +1·B₃.₄*B₄.₃^-1 +2·B₃.₄*B₁.₄^-1 +2·B₃.₄*B₃.₆^-1 +1·B₃.₅*A₂.₃ +1·B₃.₅*A₃.₂ +1·B₃.₅*B₅.₂ +1·B₃.₅*B₆.₃ +1·B₃.₅*B₅.₃ +1·B₃.₅^2 +1·B₃.₅*A₂.₃^-1 +1·B₃.₅*A₃.₂^-1 +1·B₃.₅*B₅.₂^-1 +1·B₃.₅*B₆.₃^-1 +1·B₃.₅*B₅.₃^-1 +2·B₃.₅*B₂.₅^-1 +2·B₃.₅*B₃.₆^-1 +1·A₁.₂^-1*A₂.₁ +1·A₁.₂^-1*B₄.₁ +1·A₁.₂^-1*B₄.₂ +1·A₁.₂^-1*B₂.₅ +1·A₁.₂^-1*B₂.₄ +1·A₁.₂^-2 +1·A₁.₂^-1*A₂.₁^-1 +1·A₁.₂^-1*B₄.₁^-1 +2·A₁.₂^-1*B₅.₂^-1 +1·A₁.₂^-1*B₄.₂^-1 +2·A₁.₂^-1*B₁.₄^-1 +1·A₁.₂^-1*B₂.₅^-1 +1·A₁.₂^-1*B₂.₄^-1 +1·A₁.₃^-1*A₃.₁ +1·A₁.₃^-1*B₄.₁ +1·A₁.₃^-1*B₄.₃ +1·A₁.₃^-1*B₃.₆ +1·A₁.₃^-1*B₃.₄ +1·A₁.₃^-2 +1·A₁.₃^-1*A₃.₁^-1 +1·A₁.₃^-1*B₄.₁^-1 +2·A₁.₃^-1*B₆.₃^-1 +1·A₁.₃^-1*B₄.₃^-1 +2·A₁.₃^-1*B₁.₄^-1 +1·A₁.₃^-1*B₃.₆^-1 +1·A₁.₃^-1*B₃.₄^-1 +1·A₂.₁^-1*A₁.₂ +1·A₂.₁^-1*B₅.₂ +1·A₂.₁^-1*B₄.₂ +1·A₂.₁^-1*B₁.₄ +1·A₂.₁^-1*B₂.₄ +1·A₂.₁^-1*A₁.₂^-1 +1·A₂.₁^-2 +2·A₂.₁^-1*B₄.₁^-1 +1·A₂.₁^-1*B₅.₂^-1 +1·A₂.₁^-1*B₄.₂^-1 +1·A₂.₁^-1*B₁.₄^-1 +2·A₂.₁^-1*B₂.₅^-1 +1·A₂.₁^-1*B₂.₄^-1 +1·A₂.₃^-1*A₃.₂ +1·A₂.₃^-1*B₅.₂ +1·A₂.₃^-1*B₅.₃ +1·A₂.₃^-1*B₃.₆ +1·A₂.₃^-1*B₃.₅ +1·A₂.₃^-2 +1·A₂.₃^-1*A₃.₂^-1 +1·A₂.₃^-1*B₅.₂^-1 +2·A₂.₃^-1*B₆.₃^-1 +1·A₂.₃^-1*B₅.₃^-1 +2·A₂.₃^-1*B₂.₅^-1 +1·A₂.₃^-1*B₃.₆^-1 +1·A₂.₃^-1*B₃.₅^-1 +1·A₃.₁^-1*A₁.₃ +1·A₃.₁^-1*B₆.₃ +1·A₃.₁^-1*B₄.₃ +1·A₃.₁^-1*B₁.₄ +1·A₃.₁^-1*B₃.₄ +1·A₃.₁^-1*A₁.₃^-1 +1·A₃.₁^-2 +2·A₃.₁^-1*B₄.₁^-1 +1·A₃.₁^-1*B₆.₃^-1 +1·A₃.₁^-1*B₄.₃^-1 +1·A₃.₁^-1*B₁.₄^-1 +2·A₃.₁^-1*B₃.₆^-1 +1·A₃.₁^-1*B₃.₄^-1 +1·A₃.₂^-1*A₂.₃ +1·A₃.₂^-1*B₆.₃ +1·A₃.₂^-1*B₅.₃ +1·A₃.₂^-1*B₂.₅ +1·A₃.₂^-1*B₃.₅ +1·A₃.₂^-1*A₂.₃^-1 +1·A₃.₂^-2 +2·A₃.₂^-1*B₅.₂^-1 +1·A₃.₂^-1*B₆.₃^-1 +1·A₃.₂^-1*B₅.₃^-1 +1·A₃.₂^-1*B₂.₅^-1 +2·A₃.₂^-1*B₃.₆^-1 +1·A₃.₂^-1*B₃.₅^-1 +1·B₄.₁^-1*A₁.₂ +1·B₄.₁^-1*A₁.₃ +1·B₄.₁^-1*B₂.₄ +1·B₄.₁^-1*B₃.₄ +1·B₄.₁^-1*A₁.₂^-1 +1·B₄.₁^-1*A₁.₃^-1 +2·B₄.₁^-1*B₅.₂^-1 +2·B₄.₁^-1*B₆.₃^-1 +2·B₄.₁^-1*B₄.₂^-1 +2·B₄.₁^-1*B₄.₃^-1 +2·B₄.₁^-1*B₂.₅^-1 +2·B₄.₁^-1*B₃.₆^-1 +1·B₄.₁^-1*B₂.₄^-1 +1·B₄.₁^-1*B₃.₄^-1 +1·B₅.₂^-1*A₂.₁ +1·B₅.₂^-1*A₂.₃ +1·B₅.₂^-1*B₂.₄ +1·B₅.₂^-1*B₃.₅ +1·B₅.₂^-1*A₂.₁^-1 +1·B₅.₂^-1*A₂.₃^-1 +2·B₅.₂^-1*B₆.₃^-1 +2·B₅.₂^-1*B₄.₂^-1 +2·B₅.₂^-1*B₅.₃^-1 +2·B₅.₂^-1*B₁.₄^-1 +2·B₅.₂^-1*B₃.₆^-1 +1·B₅.₂^-1*B₂.₄^-1 +1·B₅.₂^-1*B₃.₅^-1 +1·B₆.₃^-1*A₃.₁ +1·B₆.₃^-1*A₃.₂ +1·B₆.₃^-1*B₃.₄ +1·B₆.₃^-1*B₃.₅ +1·B₆.₃^-1*A₃.₁^-1 +1·B₆.₃^-1*A₃.₂^-1 +2·B₆.₃^-1*B₄.₃^-1 +2·B₆.₃^-1*B₅.₃^-1 +2·B₆.₃^-1*B₁.₄^-1 +2·B₆.₃^-1*B₂.₅^-1 +1·B₆.₃^-1*B₃.₄^-1 +1·B₆.₃^-1*B₃.₅^-1 +1·B₄.₂^-1*A₁.₂ +1·B₄.₂^-1*A₂.₁ +1·B₄.₂^-1*B₁.₄ +1·B₄.₂^-1*B₂.₅ +1·B₄.₂^-1*B₂.₄ +1·B₄.₂^-1*A₁.₂^-1 +1·B₄.₂^-1*A₂.₁^-1 +1·B₄.₂^-2 +1·B₄.₂^-1*B₁.₄^-1 +1·B₄.₂^-1*B₂.₅^-1 +1·B₄.₂^-1*B₂.₄^-1 +1·B₄.₃^-1*A₁.₃ +1·B₄.₃^-1*A₃.₁ +1·B₄.₃^-1*B₁.₄ +1·B₄.₃^-1*B₃.₆ +1·B₄.₃^-1*B₃.₄ +1·B₄.₃^-1*A₁.₃^-1 +1·B₄.₃^-1*A₃.₁^-1 +1·B₄.₃^-2 +1·B₄.₃^-1*B₁.₄^-1 +1·B₄.₃^-1*B₃.₆^-1 +1·B₄.₃^-1*B₃.₄^-1 +1·B₅.₃^-1*A₂.₃ +1·B₅.₃^-1*A₃.₂ +1·B₅.₃^-1*B₂.₅ +1·B₅.₃^-1*B₃.₆ +1·B₅.₃^-1*B₃.₅ +1·B₅.₃^-1*A₂.₃^-1 +1·B₅.₃^-1*A₃.₂^-1 +1·B₅.₃^-2 +1·B₅.₃^-1*B₂.₅^-1 +1·B₅.₃^-1*B₃.₆^-1 +1·B₅.₃^-1*B₃.₅^-1 +1·B₁.₄^-1*A₂.₁ +1·B₁.₄^-1*A₃.₁ +1·B₁.₄^-1*B₄.₂ +1·B₁.₄^-1*B₄.₃ +1·B₁.₄^-1*A₂.₁^-1 +1·B₁.₄^-1*A₃.₁^-1 +1·B₁.₄^-1*B₄.₂^-1 +1·B₁.₄^-1*B₄.₃^-1 +2·B₁.₄^-1*B₂.₅^-1 +2·B₁.₄^-1*B₃.₆^-1 +2·B₁.₄^-1*B₂.₄^-1 +2·B₁.₄^-1*B₃.₄^-1 +1·B₂.₅^-1*A₁.₂ +1·B₂.₅^-1*A₃.₂ +1·B₂.₅^-1*B₄.₂ +1·B₂.₅^-1*B₅.₃ +1·B₂.₅^-1*A₁.₂^-1 +1·B₂.₅^-1*A₃.₂^-1 +1·B₂.₅^-1*B₄.₂^-1 +1·B₂.₅^-1*B₅.₃^-1 +2·B₂.₅^-1*B₃.₆^-1 +2·B₂.₅^-1*B₂.₄^-1 +2·B₂.₅^-1*B₃.₅^-1 +1·B₃.₆^-1*A₁.₃ +1·B₃.₆^-1*A₂.₃ +1·B₃.₆^-1*B₄.₃ +1·B₃.₆^-1*B₅.₃ +1·B₃.₆^-1*A₁.₃^-1 +1·B₃.₆^-1*A₂.₃^-1 +1·B₃.₆^-1*B₄.₃^-1 +1·B₃.₆^-1*B₅.₃^-1 +2·B₃.₆^-1*B₃.₄^-1 +2·B₃.₆^-1*B₃.₅^-1 +1·B₂.₄^-1*A₁.₂ +1·B₂.₄^-1*A₂.₁ +1·B₂.₄^-1*B₄.₁ +1·B₂.₄^-1*B₅.₂ +1·B₂.₄^-1*B₄.₂ +1·B₂.₄^-1*A₁.₂^-1 +1·B₂.₄^-1*A₂.₁^-1 +1·B₂.₄^-1*B₄.₁^-1 +1·B₂.₄^-1*B₅.₂^-1 +1·B₂.₄^-1*B₄.₂^-1 +1·B₂.₄^-2 +1·B₃.₄^-1*A₁.₃ +1·B₃.₄^-1*A₃.₁ +1·B₃.₄^-1*B₄.₁ +1·B₃.₄^-1*B₆.₃ +1·B₃.₄^-1*B₄.₃ +1·B₃.₄^-1*A₁.₃^-1 +1·B₃.₄^-1*A₃.₁^-1 +1·B₃.₄^-1*B₄.₁^-1 +1·B₃.₄^-1*B₆.₃^-1 +1·B₃.₄^-1*B₄.₃^-1 +1·B₃.₄^-2 +1·B₃.₅^-1*A₂.₃ +1·B₃.₅^-1*A₃.₂ +1·B₃.₅^-1*B₅.₂ +1·B₃.₅^-1*B₆.₃ +1·B₃.₅^-1*B₅.₃ +1·B₃.₅^-1*A₂.₃^-1 +1·B₃.₅^-1*A₃.₂^-1 +1·B₃.₅^-1*B₅.₂^-1 +1·B₃.₅^-1*B₆.₃^-1 +1·B₃.₅^-1*B₅.₃^-1 +1·B₃.₅^-2"
      ]
     },
     "execution_count": 34,
     "metadata": {},
     "output_type": "execute_result"
    }
   ],
   "source": [
    "Lev₂³ = PropertyT.Adj(Δs, :A₁) + PropertyT.Adj(Δs, :C₂)"
   ]
  },
  {
   "cell_type": "code",
   "execution_count": 35,
   "id": "b0015923",
   "metadata": {
    "scrolled": true
   },
   "outputs": [
    {
     "data": {
      "text/plain": [
       "576·(id) -40·A₁.₂ -40·A₁.₃ -40·A₂.₁ -40·A₂.₃ -40·A₃.₁ -40·A₃.₂ -16·B₄.₁ -16·B₅.₂ -16·B₆.₃ -40·B₄.₂ -40·B₄.₃ -40·B₅.₃ -16·B₁.₄ -16·B₂.₅ -16·B₃.₆ -40·B₂.₄ -40·B₃.₄ -40·B₃.₅ -40·A₁.₂^-1 -40·A₁.₃^-1 -40·A₂.₁^-1 -40·A₂.₃^-1 -40·A₃.₁^-1 -40·A₃.₂^-1 -16·B₄.₁^-1 -16·B₅.₂^-1 -16·B₆.₃^-1 -40·B₄.₂^-1 -40·B₄.₃^-1 -40·B₅.₃^-1 -16·B₁.₄^-1 -16·B₂.₅^-1 -16·B₃.₆^-1 -40·B₂.₄^-1 -40·B₃.₄^-1 -40·B₃.₅^-1 +2·A₁.₂*A₁.₃ +1·A₁.₂*A₂.₃ +1·A₁.₂*A₃.₁ +2·A₁.₂*A₃.₂ +2·A₁.₂*B₆.₃ +1·A₁.₂*B₄.₃ +2·A₁.₂*B₅.₃ +2·A₁.₂*B₃.₆ +2·A₁.₂*B₃.₄ +1·A₁.₂*B₃.₅ +2·A₁.₂*A₁.₃^-1 +1·A₁.₂*A₂.₃^-1 +1·A₁.₂*A₃.₁^-1 +2·A₁.₂*A₃.₂^-1 +2·A₁.₂*B₆.₃^-1 +1·A₁.₂*B₄.₃^-1 +2·A₁.₂*B₅.₃^-1 +2·A₁.₂*B₃.₆^-1 +2·A₁.₂*B₃.₄^-1 +1·A₁.₂*B₃.₅^-1 +1·A₁.₃*A₂.₁ +2·A₁.₃*A₂.₃ +1·A₁.₃*A₃.₂ +2·A₁.₃*B₅.₂ +1·A₁.₃*B₄.₂ +2·A₁.₃*B₅.₃ +2·A₁.₃*B₂.₅ +2·A₁.₃*B₂.₄ +1·A₁.₃*B₃.₅ +2·A₁.₃*A₁.₂^-1 +1·A₁.₃*A₂.₁^-1 +2·A₁.₃*A₂.₃^-1 +1·A₁.₃*A₃.₂^-1 +2·A₁.₃*B₅.₂^-1 +1·A₁.₃*B₄.₂^-1 +2·A₁.₃*B₅.₃^-1 +2·A₁.₃*B₂.₅^-1 +2·A₁.₃*B₂.₄^-1 +1·A₁.₃*B₃.₅^-1 +1·A₂.₁*A₁.₃ +2·A₂.₁*A₂.₃ +2·A₂.₁*A₃.₁ +1·A₂.₁*A₃.₂ +2·A₂.₁*B₆.₃ +2·A₂.₁*B₄.₃ +1·A₂.₁*B₅.₃ +2·A₂.₁*B₃.₆ +1·A₂.₁*B₃.₄ +2·A₂.₁*B₃.₅ +1·A₂.₁*A₁.₃^-1 +2·A₂.₁*A₂.₃^-1 +2·A₂.₁*A₃.₁^-1 +1·A₂.₁*A₃.₂^-1 +2·A₂.₁*B₆.₃^-1 +2·A₂.₁*B₄.₃^-1 +1·A₂.₁*B₅.₃^-1 +2·A₂.₁*B₃.₆^-1 +1·A₂.₁*B₃.₄^-1 +2·A₂.₁*B₃.₅^-1 +1·A₂.₃*A₁.₂ +1·A₂.₃*A₃.₁ +2·A₂.₃*B₄.₁ +1·A₂.₃*B₄.₂ +2·A₂.₃*B₄.₃ +2·A₂.₃*B₁.₄ +2·A₂.₃*B₂.₄ +1·A₂.₃*B₃.₄ +1·A₂.₃*A₁.₂^-1 +2·A₂.₃*A₁.₃^-1 +2·A₂.₃*A₂.₁^-1 +1·A₂.₃*A₃.₁^-1 +2·A₂.₃*B₄.₁^-1 +1·A₂.₃*B₄.₂^-1 +2·A₂.₃*B₄.₃^-1 +2·A₂.₃*B₁.₄^-1 +2·A₂.₃*B₂.₄^-1 +1·A₂.₃*B₃.₄^-1 +1·A₃.₁*A₁.₂ +1·A₃.₁*A₂.₃ +2·A₃.₁*A₃.₂ +2·A₃.₁*B₅.₂ +2·A₃.₁*B₄.₂ +1·A₃.₁*B₅.₃ +2·A₃.₁*B₂.₅ +1·A₃.₁*B₂.₄ +2·A₃.₁*B₃.₅ +1·A₃.₁*A₁.₂^-1 +2·A₃.₁*A₂.₁^-1 +1·A₃.₁*A₂.₃^-1 +2·A₃.₁*A₃.₂^-1 +2·A₃.₁*B₅.₂^-1 +2·A₃.₁*B₄.₂^-1 +1·A₃.₁*B₅.₃^-1 +2·A₃.₁*B₂.₅^-1 +1·A₃.₁*B₂.₄^-1 +2·A₃.₁*B₃.₅^-1 +1·A₃.₂*A₁.₃ +1·A₃.₂*A₂.₁ +2·A₃.₂*B₄.₁ +2·A₃.₂*B₄.₂ +1·A₃.₂*B₄.₃ +2·A₃.₂*B₁.₄ +1·A₃.₂*B₂.₄ +2·A₃.₂*B₃.₄ +2·A₃.₂*A₁.₂^-1 +1·A₃.₂*A₁.₃^-1 +1·A₃.₂*A₂.₁^-1 +2·A₃.₂*A₃.₁^-1 +2·A₃.₂*B₄.₁^-1 +2·A₃.₂*B₄.₂^-1 +1·A₃.₂*B₄.₃^-1 +2·A₃.₂*B₁.₄^-1 +1·A₃.₂*B₂.₄^-1 +2·A₃.₂*B₃.₄^-1 +2·B₄.₁*B₅.₃ +2·B₄.₁*B₃.₅ +2·B₄.₁*A₂.₃^-1 +2·B₄.₁*A₃.₂^-1 +2·B₄.₁*B₅.₃^-1 +2·B₄.₁*B₃.₅^-1 +2·B₅.₂*B₄.₃ +2·B₅.₂*B₃.₄ +2·B₅.₂*A₁.₃^-1 +2·B₅.₂*A₃.₁^-1 +2·B₅.₂*B₄.₃^-1 +2·B₅.₂*B₃.₄^-1 +2·B₆.₃*B₄.₂ +2·B₆.₃*B₂.₄ +2·B₆.₃*A₁.₂^-1 +2·B₆.₃*A₂.₁^-1 +2·B₆.₃*B₄.₂^-1 +2·B₆.₃*B₂.₄^-1 +1·B₄.₂*A₁.₃ +1·B₄.₂*A₂.₃ +2·B₄.₂*B₄.₃ +2·B₄.₂*B₅.₃ +2·B₄.₂*B₃.₆ +1·B₄.₂*B₃.₄ +1·B₄.₂*B₃.₅ +1·B₄.₂*A₁.₃^-1 +1·B₄.₂*A₂.₃^-1 +2·B₄.₂*A₃.₁^-1 +2·B₄.₂*A₃.₂^-1 +2·B₄.₂*B₆.₃^-1 +2·B₄.₂*B₄.₃^-1 +2·B₄.₂*B₅.₃^-1 +2·B₄.₂*B₃.₆^-1 +1·B₄.₂*B₃.₄^-1 +1·B₄.₂*B₃.₅^-1 +1·B₄.₃*A₁.₂ +1·B₄.₃*A₃.₂ +2·B₄.₃*B₅.₃ +2·B₄.₃*B₂.₅ +1·B₄.₃*B₂.₄ +1·B₄.₃*B₃.₅ +1·B₄.₃*A₁.₂^-1 +2·B₄.₃*A₂.₁^-1 +2·B₄.₃*A₂.₃^-1 +1·B₄.₃*A₃.₂^-1 +2·B₄.₃*B₅.₂^-1 +2·B₄.₃*B₄.₂^-1 +2·B₄.₃*B₅.₃^-1 +2·B₄.₃*B₂.₅^-1 +1·B₄.₃*B₂.₄^-1 +1·B₄.₃*B₃.₅^-1 +1·B₅.₃*A₂.₁ +1·B₅.₃*A₃.₁ +2·B₅.₃*B₁.₄ +1·B₅.₃*B₂.₄ +1·B₅.₃*B₃.₄ +2·B₅.₃*A₁.₂^-1 +2·B₅.₃*A₁.₃^-1 +1·B₅.₃*A₂.₁^-1 +1·B₅.₃*A₃.₁^-1 +2·B₅.₃*B₄.₁^-1 +2·B₅.₃*B₄.₂^-1 +2·B₅.₃*B₄.₃^-1 +2·B₅.₃*B₁.₄^-1 +1·B₅.₃*B₂.₄^-1 +1·B₅.₃*B₃.₄^-1 +2·B₁.₄*B₃.₅ +2·B₁.₄*A₂.₃^-1 +2·B₁.₄*A₃.₂^-1 +2·B₁.₄*B₅.₃^-1 +2·B₁.₄*B₃.₅^-1 +2·B₂.₅*B₃.₄ +2·B₂.₅*A₁.₃^-1 +2·B₂.₅*A₃.₁^-1 +2·B₂.₅*B₄.₃^-1 +2·B₂.₅*B₃.₄^-1 +2·B₃.₆*B₂.₄ +2·B₃.₆*A₁.₂^-1 +2·B₃.₆*A₂.₁^-1 +2·B₃.₆*B₄.₂^-1 +2·B₃.₆*B₂.₄^-1 +1·B₂.₄*A₃.₁ +1·B₂.₄*A₃.₂ +1·B₂.₄*B₄.₃ +1·B₂.₄*B₅.₃ +2·B₂.₄*B₃.₄ +2·B₂.₄*B₃.₅ +2·B₂.₄*A₁.₃^-1 +2·B₂.₄*A₂.₃^-1 +1·B₂.₄*A₃.₁^-1 +1·B₂.₄*A₃.₂^-1 +2·B₂.₄*B₆.₃^-1 +1·B₂.₄*B₄.₃^-1 +1·B₂.₄*B₅.₃^-1 +2·B₂.₄*B₃.₆^-1 +2·B₂.₄*B₃.₄^-1 +2·B₂.₄*B₃.₅^-1 +1·B₃.₄*A₂.₁ +1·B₃.₄*A₂.₃ +1·B₃.₄*B₄.₂ +1·B₃.₄*B₅.₃ +2·B₃.₄*B₃.₅ +2·B₃.₄*A₁.₂^-1 +1·B₃.₄*A₂.₁^-1 +1·B₃.₄*A₂.₃^-1 +2·B₃.₄*A₃.₂^-1 +2·B₃.₄*B₅.₂^-1 +1·B₃.₄*B₄.₂^-1 +1·B₃.₄*B₅.₃^-1 +2·B₃.₄*B₂.₅^-1 +2·B₃.₄*B₂.₄^-1 +2·B₃.₄*B₃.₅^-1 +1·B₃.₅*A₁.₂ +1·B₃.₅*A₁.₃ +1·B₃.₅*B₄.₂ +1·B₃.₅*B₄.₃ +1·B₃.₅*A₁.₂^-1 +1·B₃.₅*A₁.₃^-1 +2·B₃.₅*A₂.₁^-1 +2·B₃.₅*A₃.₁^-1 +2·B₃.₅*B₄.₁^-1 +1·B₃.₅*B₄.₂^-1 +1·B₃.₅*B₄.₃^-1 +2·B₃.₅*B₁.₄^-1 +2·B₃.₅*B₂.₄^-1 +2·B₃.₅*B₃.₄^-1 +1·A₁.₂^-1*A₂.₃ +1·A₁.₂^-1*A₃.₁ +1·A₁.₂^-1*B₄.₃ +1·A₁.₂^-1*B₃.₅ +2·A₁.₂^-1*A₁.₃^-1 +1·A₁.₂^-1*A₂.₃^-1 +1·A₁.₂^-1*A₃.₁^-1 +2·A₁.₂^-1*A₃.₂^-1 +2·A₁.₂^-1*B₆.₃^-1 +1·A₁.₂^-1*B₄.₃^-1 +2·A₁.₂^-1*B₅.₃^-1 +2·A₁.₂^-1*B₃.₆^-1 +2·A₁.₂^-1*B₃.₄^-1 +1·A₁.₂^-1*B₃.₅^-1 +1·A₁.₃^-1*A₂.₁ +1·A₁.₃^-1*A₃.₂ +1·A₁.₃^-1*B₄.₂ +1·A₁.₃^-1*B₃.₅ +1·A₁.₃^-1*A₂.₁^-1 +2·A₁.₃^-1*A₂.₃^-1 +1·A₁.₃^-1*A₃.₂^-1 +2·A₁.₃^-1*B₅.₂^-1 +1·A₁.₃^-1*B₄.₂^-1 +2·A₁.₃^-1*B₅.₃^-1 +2·A₁.₃^-1*B₂.₅^-1 +2·A₁.₃^-1*B₂.₄^-1 +1·A₁.₃^-1*B₃.₅^-1 +1·A₂.₁^-1*A₁.₃ +1·A₂.₁^-1*A₃.₂ +1·A₂.₁^-1*B₅.₃ +1·A₂.₁^-1*B₃.₄ +1·A₂.₁^-1*A₁.₃^-1 +2·A₂.₁^-1*A₂.₃^-1 +2·A₂.₁^-1*A₃.₁^-1 +1·A₂.₁^-1*A₃.₂^-1 +2·A₂.₁^-1*B₆.₃^-1 +2·A₂.₁^-1*B₄.₃^-1 +1·A₂.₁^-1*B₅.₃^-1 +2·A₂.₁^-1*B₃.₆^-1 +1·A₂.₁^-1*B₃.₄^-1 +2·A₂.₁^-1*B₃.₅^-1 +1·A₂.₃^-1*A₁.₂ +1·A₂.₃^-1*A₃.₁ +1·A₂.₃^-1*B₄.₂ +1·A₂.₃^-1*B₃.₄ +1·A₂.₃^-1*A₁.₂^-1 +1·A₂.₃^-1*A₃.₁^-1 +2·A₂.₃^-1*B₄.₁^-1 +1·A₂.₃^-1*B₄.₂^-1 +2·A₂.₃^-1*B₄.₃^-1 +2·A₂.₃^-1*B₁.₄^-1 +2·A₂.₃^-1*B₂.₄^-1 +1·A₂.₃^-1*B₃.₄^-1 +1·A₃.₁^-1*A₁.₂ +1·A₃.₁^-1*A₂.₃ +1·A₃.₁^-1*B₅.₃ +1·A₃.₁^-1*B₂.₄ +1·A₃.₁^-1*A₁.₂^-1 +1·A₃.₁^-1*A₂.₃^-1 +2·A₃.₁^-1*A₃.₂^-1 +2·A₃.₁^-1*B₅.₂^-1 +2·A₃.₁^-1*B₄.₂^-1 +1·A₃.₁^-1*B₅.₃^-1 +2·A₃.₁^-1*B₂.₅^-1 +1·A₃.₁^-1*B₂.₄^-1 +2·A₃.₁^-1*B₃.₅^-1 +1·A₃.₂^-1*A₁.₃ +1·A₃.₂^-1*A₂.₁ +1·A₃.₂^-1*B₄.₃ +1·A₃.₂^-1*B₂.₄ +1·A₃.₂^-1*A₁.₃^-1 +1·A₃.₂^-1*A₂.₁^-1 +2·A₃.₂^-1*B₄.₁^-1 +2·A₃.₂^-1*B₄.₂^-1 +1·A₃.₂^-1*B₄.₃^-1 +2·A₃.₂^-1*B₁.₄^-1 +1·A₃.₂^-1*B₂.₄^-1 +2·A₃.₂^-1*B₃.₄^-1 +2·B₄.₁^-1*B₅.₃^-1 +2·B₄.₁^-1*B₃.₅^-1 +2·B₅.₂^-1*B₄.₃^-1 +2·B₅.₂^-1*B₃.₄^-1 +2·B₆.₃^-1*B₄.₂^-1 +2·B₆.₃^-1*B₂.₄^-1 +1·B₄.₂^-1*A₁.₃ +1·B₄.₂^-1*A₂.₃ +1·B₄.₂^-1*B₃.₄ +1·B₄.₂^-1*B₃.₅ +1·B₄.₂^-1*A₁.₃^-1 +1·B₄.₂^-1*A₂.₃^-1 +2·B₄.₂^-1*B₄.₃^-1 +2·B₄.₂^-1*B₅.₃^-1 +2·B₄.₂^-1*B₃.₆^-1 +1·B₄.₂^-1*B₃.₄^-1 +1·B₄.₂^-1*B₃.₅^-1 +1·B₄.₃^-1*A₁.₂ +1·B₄.₃^-1*A₃.₂ +1·B₄.₃^-1*B₂.₄ +1·B₄.₃^-1*B₃.₅ +1·B₄.₃^-1*A₁.₂^-1 +1·B₄.₃^-1*A₃.₂^-1 +2·B₄.₃^-1*B₅.₃^-1 +2·B₄.₃^-1*B₂.₅^-1 +1·B₄.₃^-1*B₂.₄^-1 +1·B₄.₃^-1*B₃.₅^-1 +1·B₅.₃^-1*A₂.₁ +1·B₅.₃^-1*A₃.₁ +1·B₅.₃^-1*B₂.₄ +1·B₅.₃^-1*B₃.₄ +1·B₅.₃^-1*A₂.₁^-1 +1·B₅.₃^-1*A₃.₁^-1 +2·B₅.₃^-1*B₁.₄^-1 +1·B₅.₃^-1*B₂.₄^-1 +1·B₅.₃^-1*B₃.₄^-1 +2·B₁.₄^-1*B₃.₅^-1 +2·B₂.₅^-1*B₃.₄^-1 +2·B₃.₆^-1*B₂.₄^-1 +1·B₂.₄^-1*A₃.₁ +1·B₂.₄^-1*A₃.₂ +1·B₂.₄^-1*B₄.₃ +1·B₂.₄^-1*B₅.₃ +1·B₂.₄^-1*A₃.₁^-1 +1·B₂.₄^-1*A₃.₂^-1 +1·B₂.₄^-1*B₄.₃^-1 +1·B₂.₄^-1*B₅.₃^-1 +2·B₂.₄^-1*B₃.₄^-1 +2·B₂.₄^-1*B₃.₅^-1 +1·B₃.₄^-1*A₂.₁ +1·B₃.₄^-1*A₂.₃ +1·B₃.₄^-1*B₄.₂ +1·B₃.₄^-1*B₅.₃ +1·B₃.₄^-1*A₂.₁^-1 +1·B₃.₄^-1*A₂.₃^-1 +1·B₃.₄^-1*B₄.₂^-1 +1·B₃.₄^-1*B₅.₃^-1 +2·B₃.₄^-1*B₃.₅^-1 +1·B₃.₅^-1*A₁.₂ +1·B₃.₅^-1*A₁.₃ +1·B₃.₅^-1*B₄.₂ +1·B₃.₅^-1*B₄.₃ +1·B₃.₅^-1*A₁.₂^-1 +1·B₃.₅^-1*A₁.₃^-1 +1·B₃.₅^-1*B₄.₂^-1 +1·B₃.₅^-1*B₄.₃^-1"
      ]
     },
     "execution_count": 35,
     "metadata": {},
     "output_type": "execute_result"
    }
   ],
   "source": [
    "Lev₃³ = PropertyT.Adj(Δs, :A₂) + PropertyT.Adj(Δs, Symbol(\"A₁×C₁\"))"
   ]
  },
  {
   "cell_type": "markdown",
   "id": "180ab3f4",
   "metadata": {},
   "source": [
    "## Optimization problem"
   ]
  },
  {
   "cell_type": "markdown",
   "id": "6b4969ec",
   "metadata": {},
   "source": [
    "### Symmetry reduction"
   ]
  },
  {
   "cell_type": "code",
   "execution_count": 36,
   "id": "04c65f70",
   "metadata": {},
   "outputs": [],
   "source": [
    "import PropertyT.StarAlgebras\n",
    "import PropertyT.SymbolicWedderburn\n",
    "using PropertyT.PermutationGroups"
   ]
  },
  {
   "cell_type": "code",
   "execution_count": 37,
   "id": "1121c084",
   "metadata": {},
   "outputs": [
    {
     "name": "stdout",
     "output_type": "stream",
     "text": [
      "  8.808766 seconds (23.77 M allocations: 1.483 GiB, 4.34% gc time, 155.27% compilation time)\n"
     ]
    },
    {
     "name": "stderr",
     "output_type": "stream",
     "text": [
      "\u001b[36m\u001b[1m┌ \u001b[22m\u001b[39m\u001b[36m\u001b[1mInfo: \u001b[22m\u001b[39mWedderburn Decomposition into 21968 orbits and 5 simple summands of sizes\n",
      "\u001b[36m\u001b[1m└ \u001b[22m\u001b[39m[152, 97, 56, 94, 74]\n"
     ]
    }
   ],
   "source": [
    "wd = let RG = RG, N = N\n",
    "    G = StarAlgebras.object(RG)\n",
    "    P = PermGroup(perm\"(1,2)\", Perm(circshift(1:N, -1)))\n",
    "    Weyl = Groups.Constructions.WreathProduct(PermGroup(perm\"(1,2)\"), P)\n",
    "    act = PropertyT.action_by_conjugation(G, Weyl)\n",
    "\n",
    "    @time SymbolicWedderburn.WedderburnDecomposition(\n",
    "        Float64,\n",
    "        Weyl,\n",
    "        act,\n",
    "        StarAlgebras.basis(RG),\n",
    "        StarAlgebras.Basis{UInt16}(@view StarAlgebras.basis(RG)[1:sizes[HALFRADIUS]]),\n",
    "    )\n",
    "end\n",
    "@info wd"
   ]
  },
  {
   "cell_type": "code",
   "execution_count": 38,
   "id": "aafb2167",
   "metadata": {},
   "outputs": [
    {
     "name": "stdout",
     "output_type": "stream",
     "text": [
      "  6.510428 seconds (27.58 M allocations: 5.994 GiB, 11.15% gc time, 6.73% compilation time)\n"
     ]
    },
    {
     "data": {
      "text/plain": [
       "A JuMP Model\n",
       "Maximization problem with:\n",
       "Variables: 25218\n",
       "Objective function type: JuMP.VariableRef\n",
       "`JuMP.AffExpr`-in-`MathOptInterface.EqualTo{Float64}`: 21967 constraints\n",
       "`Vector{JuMP.VariableRef}`-in-`MathOptInterface.PositiveSemidefiniteConeTriangle`: 5 constraints\n",
       "Model mode: AUTOMATIC\n",
       "CachingOptimizer state: NO_OPTIMIZER\n",
       "Solver name: No optimizer attached.\n",
       "Names registered in the model: λ"
      ]
     },
     "execution_count": 38,
     "metadata": {},
     "output_type": "execute_result"
    }
   ],
   "source": [
    "@time model, varP = PropertyT.sos_problem_primal(\n",
    "    Lev₂³ + Lev₃³,\n",
    "    Δ,\n",
    "    wd;\n",
    "    augmented = true,\n",
    ");\n",
    "model"
   ]
  },
  {
   "cell_type": "code",
   "execution_count": 39,
   "id": "524ed96b",
   "metadata": {},
   "outputs": [],
   "source": [
    "include(joinpath(@__DIR__, \"..\", \"src\", \"optimizers.jl\"));\n",
    "with_optimizer = cosmo_optimizer(;\n",
    "    eps = 1e-10,\n",
    "    max_iters = 40_000,\n",
    "    accel = 50,\n",
    "    alpha = 1.6,\n",
    ");"
   ]
  },
  {
   "cell_type": "code",
   "execution_count": 40,
   "id": "a75d92b1",
   "metadata": {},
   "outputs": [],
   "source": [
    "warm = nothing"
   ]
  },
  {
   "cell_type": "markdown",
   "id": "5a7e7051",
   "metadata": {},
   "source": [
    "> **Note**: Running the following optimization step may take a few minutes."
   ]
  },
  {
   "cell_type": "code",
   "execution_count": 41,
   "id": "81a439ad",
   "metadata": {},
   "outputs": [
    {
     "name": "stdout",
     "output_type": "stream",
     "text": [
      "------------------------------------------------------------------\n",
      "          COSMO v0.8.7 - A Quadratic Objective Conic Solver\n",
      "                         Michael Garstka\n",
      "                University of Oxford, 2017 - 2022\n",
      "------------------------------------------------------------------\n",
      "\n",
      "Problem:  x ∈ R^{25218},\n",
      "          constraints: A ∈ R^{47184x25218} (301568 nnz),\n",
      "          matrix size to factor: 72402x72402,\n",
      "          Floating-point precision: Float64\n",
      "Sets:     ZeroSet of dim: 21967\n",
      "          PsdConeTriangle of dim: 11628 (152x152)\n",
      "          PsdConeTriangle of dim: 4753 (97x97)\n",
      "          PsdConeTriangle of dim: 4465 (94x94)\n",
      "          PsdConeTriangle of dim: 2775 (74x74)\n",
      "          ... and 1 more\n",
      "Settings: ϵ_abs = 1.0e-10, ϵ_rel = 1.0e-10,\n",
      "          ϵ_prim_inf = 1.0e-10, ϵ_dual_inf = 1.0e-10,\n",
      "          ρ = 0.1, σ = 1e-06, α = 1.6,\n",
      "          max_iter = 40000,\n",
      "          scaling iter = 10 (on),\n",
      "          check termination every 250 iter,\n",
      "          check infeasibility every 40 iter,\n",
      "          KKT system solver: COSMO.QdldlKKTSolver\n",
      "Acc:      Anderson Type2{QRDecomp},\n",
      "          Memory size = 50, RestartedMemory,\t\n",
      "          Safeguarded: true, tol: 2.0\n",
      "Setup Time: 366.89ms\n",
      "\n",
      "Iter:\tObjective:\tPrimal Res:\tDual Res:\tRho:\n",
      "1\t-4.9714e+02\t4.3214e+01\t5.9982e-01\t1.0000e-01\n",
      "250\t-4.0948e+00\t4.7731e-03\t4.7618e-04\t1.0000e-01\n",
      "500\t-2.6978e+00\t1.2684e-03\t1.3378e-04\t1.0000e-01\n",
      "750\t-2.5272e+00\t5.9145e-04\t4.8785e-05\t1.0000e-01\n",
      "1000\t-2.5149e+00\t1.7287e-04\t2.9241e-05\t1.0000e-01\n",
      "1250\t-2.5108e+00\t1.6634e-04\t1.3299e-05\t1.0000e-01\n",
      "1500\t-2.5149e+00\t1.4957e-04\t1.2711e-05\t1.0000e-01\n",
      "1750\t-2.5062e+00\t1.6391e-04\t1.4015e-05\t1.0000e-01\n",
      "2000\t-2.5090e+00\t1.4629e-04\t4.0395e-06\t1.0000e-01\n",
      "2250\t-2.5093e+00\t1.4575e-04\t2.1083e-06\t1.0000e-01\n",
      "2500\t-2.4484e+00\t2.5136e-04\t2.5878e-05\t1.0000e-01\n",
      "2750\t-2.4183e+00\t1.6093e-05\t1.4499e-06\t1.0000e-01\n",
      "3000\t-2.4174e+00\t4.0524e-08\t7.5671e-09\t1.0000e-01\n",
      "3250\t-2.4174e+00\t1.0288e-07\t5.1687e-11\t1.0000e-01\n",
      "3500\t-2.4174e+00\t5.3887e-08\t6.6437e-12\t1.0000e-01\n",
      "3750\t-2.4174e+00\t4.3944e-09\t1.5562e-12\t1.0000e-01\n",
      "\n",
      "------------------------------------------------------------------\n",
      ">>> Results\n",
      "Status: \u001b[32mSolved\u001b[39m\n",
      "Iterations: 3851 (incl. 101 safeguarding iter)\n",
      "Optimal objective: -2.417\n",
      "Runtime: 67.059s (67059.19ms)\n",
      "\n"
     ]
    },
    {
     "name": "stderr",
     "output_type": "stream",
     "text": [
      "\u001b[36m\u001b[1m┌ \u001b[22m\u001b[39m\u001b[36m\u001b[1mInfo: \u001b[22m\u001b[39mOptimization has finished with\n",
      "\u001b[36m\u001b[1m└ \u001b[22m\u001b[39m  status = OPTIMAL::TerminationStatusCode = 1\n"
     ]
    }
   ],
   "source": [
    "status, warm = PropertyT.solve(\n",
    "        model,\n",
    "        with_optimizer,\n",
    "        warm,\n",
    "    );\n",
    "@info \"Optimization has finished with\" status"
   ]
  },
  {
   "cell_type": "markdown",
   "id": "a8ab2bcf",
   "metadata": {},
   "source": [
    "### Reconstructing and certifying the solution\n",
    "Since we symmetrized our problem, we don't have direct access to `P` or `Q` as defined above. So first we need to reconstruct `Q` from the action of `Weyl` on $\\operatorname{Ball}(S, R)$:"
   ]
  },
  {
   "cell_type": "code",
   "execution_count": 42,
   "id": "89eae3fe",
   "metadata": {},
   "outputs": [
    {
     "name": "stderr",
     "output_type": "stream",
     "text": [
      "\u001b[36m\u001b[1m[ \u001b[22m\u001b[39m\u001b[36m\u001b[1mInfo: \u001b[22m\u001b[39mreconstructing the solution\n"
     ]
    },
    {
     "name": "stdout",
     "output_type": "stream",
     "text": [
      "  0.286583 seconds (649.89 k allocations: 164.348 MiB, 51.61% compilation time)\n"
     ]
    },
    {
     "data": {
      "text/plain": [
       "961×961 Matrix{Float64}:\n",
       " 0.0   0.0           0.0           0.0         …   0.0           0.0\n",
       " 0.0   4.11888       0.0611561    -0.11867        -0.00160495   -0.0063545\n",
       " 0.0   0.0611561     4.11888       0.0902717      -0.00160495   -0.0063545\n",
       " 0.0  -0.11867       0.0902717     4.11888         0.00166186   -0.003316\n",
       " 0.0   0.0902717     0.0611555     0.0611561       0.0075698     0.00474679\n",
       " 0.0   0.0902717    -0.11867       0.0611555   …   0.00166186   -0.003316\n",
       " 0.0   0.0611555     0.0902717     0.0902717       0.0075698     0.00474679\n",
       " 0.0   0.0861588     0.0861588    -0.0339782       0.0191616     0.00747337\n",
       " 0.0  -0.0339782     0.0478766     0.0861588      -0.00939305   -0.0152719\n",
       " 0.0   0.0478766    -0.0339782     0.0478766      -0.00939305   -0.0152719\n",
       " 0.0  -0.00940645    0.0263671    -0.00940645  …  -0.00168451   -0.00488268\n",
       " 0.0   0.0263671    -0.00940645    0.0743582      -0.00168451   -0.00488268\n",
       " 0.0   0.0743582     0.0743582     0.0263671      -0.000908028  -0.00148491\n",
       " ⋮                                             ⋱                 ⋮\n",
       " 0.0   0.00287102    0.00364476    0.00430768     -0.0218117    -0.00407961\n",
       " 0.0  -0.000564083  -0.000564083  -0.0087234   …   0.0187401     0.0478693\n",
       " 0.0  -0.00252923   -0.000733419   0.002565       -0.0216133    -0.00290499\n",
       " 0.0  -0.000733419  -0.00252923   -0.00240014     -0.0216133    -0.00290499\n",
       " 0.0   0.00195173   -0.00339025    0.00900326      0.0218835     0.0513175\n",
       " 0.0  -0.00339025    0.00195173   -0.00117928      0.0218835     0.0513175\n",
       " 0.0   0.000829016   0.00917718   -0.0044996   …  -0.00015105    0.0142346\n",
       " 0.0   0.00917718    0.000829016   0.00788824     -0.00015105    0.0142346\n",
       " 0.0   0.00364476    0.00539794    0.0151307      -0.0218117    -0.00407961\n",
       " 0.0   0.00539794    0.00364476    0.0089481      -0.0218117    -0.00407961\n",
       " 0.0  -0.00160495   -0.00160495    0.00166186      0.110652      0.0509506\n",
       " 0.0  -0.0063545    -0.0063545    -0.003316    …   0.0509506     0.23225"
      ]
     },
     "execution_count": 42,
     "metadata": {},
     "output_type": "execute_result"
    }
   ],
   "source": [
    "@info \"reconstructing the solution\"\n",
    "Q = @time let wd = wd, Ps = [JuMP.value.(P) for P in varP]\n",
    "    Qs = real.(sqrt.(Ps))\n",
    "    PropertyT.reconstruct(Qs, wd)\n",
    "end"
   ]
  },
  {
   "cell_type": "code",
   "execution_count": 43,
   "id": "ce4d4949",
   "metadata": {},
   "outputs": [
    {
     "name": "stderr",
     "output_type": "stream",
     "text": [
      "\u001b[36m\u001b[1m[ \u001b[22m\u001b[39m\u001b[36m\u001b[1mInfo: \u001b[22m\u001b[39mcertifying the solution\n"
     ]
    },
    {
     "name": "stdout",
     "output_type": "stream",
     "text": [
      "  0.018779 seconds (6 allocations: 10.288 MiB)\n"
     ]
    },
    {
     "name": "stderr",
     "output_type": "stream",
     "text": [
      "\u001b[36m\u001b[1m┌ \u001b[22m\u001b[39m\u001b[36m\u001b[1mInfo: \u001b[22m\u001b[39mChecking in Float64 arithmetic with\n",
      "\u001b[36m\u001b[1m└ \u001b[22m\u001b[39m  λ = 2.4173985001872422\n",
      "\u001b[36m\u001b[1m┌ \u001b[22m\u001b[39m\u001b[36m\u001b[1mInfo: \u001b[22m\u001b[39mNumerical metrics of the obtained SOS:\n",
      "\u001b[36m\u001b[1m│ \u001b[22m\u001b[39mɛ(elt - λu - ∑ξᵢ*ξᵢ) ≈ 3.800168905952744e-10\n",
      "\u001b[36m\u001b[1m│ \u001b[22m\u001b[39m‖elt - λu - ∑ξᵢ*ξᵢ‖₁ ≈ 1.2639490076802686e-6\n",
      "\u001b[36m\u001b[1m└ \u001b[22m\u001b[39m λ ≈ 2.4173934443912115\n"
     ]
    },
    {
     "name": "stdout",
     "output_type": "stream",
     "text": [
      "  0.282798 seconds (78.27 k allocations: 180.041 MiB, 38.47% compilation time)\n"
     ]
    },
    {
     "name": "stderr",
     "output_type": "stream",
     "text": [
      "\u001b[36m\u001b[1m┌ \u001b[22m\u001b[39m\u001b[36m\u001b[1mInfo: \u001b[22m\u001b[39mChecking in Interval{Float64} arithmetic with\n",
      "\u001b[36m\u001b[1m└ \u001b[22m\u001b[39m  λ_int = [2.41739, 2.4174]\n",
      "\u001b[36m\u001b[1m┌ \u001b[22m\u001b[39m\u001b[36m\u001b[1mInfo: \u001b[22m\u001b[39mNumerical metrics of the obtained SOS:\n",
      "\u001b[36m\u001b[1m│ \u001b[22m\u001b[39mɛ(elt - λu - ∑ξᵢ*ξᵢ) ∈ [-1.04938e-07, 1.02458e-07]\n",
      "\u001b[36m\u001b[1m│ \u001b[22m\u001b[39m‖elt - λu - ∑ξᵢ*ξᵢ‖₁ ∈ [1.16185e-06, 1.36926e-06]\n",
      "\u001b[36m\u001b[1m└ \u001b[22m\u001b[39m λ ∈ [2.41739, 2.4174]\n",
      "\u001b[36m\u001b[1m┌ \u001b[22m\u001b[39m\u001b[36m\u001b[1mInfo: \u001b[22m\u001b[39mCertified result: Lev₂³ + Lev₃³ is positive\n",
      "\u001b[36m\u001b[1m└ \u001b[22m\u001b[39m  PropertyT.IntervalArithmetic.inf(λ) = 2.4173930231753773\n"
     ]
    }
   ],
   "source": [
    "@info \"certifying the solution\"\n",
    "certified, λ = PropertyT.certify_solution(\n",
    "    Lev₂³ + Lev₃³,\n",
    "    Δ,\n",
    "    JuMP.objective_value(model),\n",
    "    Q;\n",
    "    halfradius = HALFRADIUS,\n",
    "    augmented = true,\n",
    ")\n",
    "\n",
    "if certified && λ > 0\n",
    "    @info \"Certified result: Lev₂³ + Lev₃³ is positive\" PropertyT.IntervalArithmetic.inf(λ)\n",
    "else\n",
    "    @info \"Could NOT certify the positivity of Lev₂³ + Lev₃³\" certified λ\n",
    "end"
   ]
  },
  {
   "cell_type": "markdown",
   "id": "4ee0b88c",
   "metadata": {},
   "source": [
    "# $\\texttt{C}_\\texttt{2}$-graded $\\operatorname{Adj}$\n",
    "\n",
    "We wish to prove\n",
    "> **Theorem 3.10** Let $G = \\operatorname{Sp}_4(\\mathbb{Z})$ be the universal Chevalley group over $\\mathbb{Z}$ of type $\\texttt{C}_\\texttt{2}$ endowed with the set of Steinberg generators $S$. Let $V$ denote the ambient vector space of the root system. Then $$\\operatorname{Adj}_V −\\lambda \\Delta_V ⩾_R 0$$\n",
    "whenever $(\\lambda, R) \\in (0.24493, 3)$.\n",
    "\n",
    "Proving this theorem for $R = 3$ requires quite a bit of memory (`~16GB`) and quite a bit of patience."
   ]
  },
  {
   "cell_type": "code",
   "execution_count": 44,
   "id": "4271ec53",
   "metadata": {},
   "outputs": [
    {
     "data": {
      "text/plain": [
       "group of 4×4 symplectic matrices"
      ]
     },
     "execution_count": 44,
     "metadata": {},
     "output_type": "execute_result"
    }
   ],
   "source": [
    "N = 2\n",
    "G = MatrixGroups.SymplecticGroup{2*N}(Int8)"
   ]
  },
  {
   "cell_type": "code",
   "execution_count": 45,
   "id": "bb3614ee",
   "metadata": {},
   "outputs": [
    {
     "name": "stderr",
     "output_type": "stream",
     "text": [
      "\u001b[36m\u001b[1m[ \u001b[22m\u001b[39m\u001b[36m\u001b[1mInfo: \u001b[22m\u001b[39mgenerating wl-metric ball of radius 6\n"
     ]
    },
    {
     "name": "stdout",
     "output_type": "stream",
     "text": [
      "  3.947620 seconds (49.50 M allocations: 1.687 GiB, 13.21% gc time)\n"
     ]
    },
    {
     "name": "stderr",
     "output_type": "stream",
     "text": [
      "\u001b[36m\u001b[1m[ \u001b[22m\u001b[39m\u001b[36m\u001b[1mInfo: \u001b[22m\u001b[39msizes = [17, 209, 2073, 18313, 149449, 1148696]\n",
      "\u001b[36m\u001b[1m[ \u001b[22m\u001b[39m\u001b[36m\u001b[1mInfo: \u001b[22m\u001b[39mcomputing the *-algebra structure for G\n"
     ]
    },
    {
     "name": "stdout",
     "output_type": "stream",
     "text": [
      "  0.667488 seconds (6.80 M allocations: 250.047 MiB, 22.27% gc time)\n",
      "  4.615985 seconds (56.30 M allocations: 1.931 GiB, 14.51% gc time)\n"
     ]
    }
   ],
   "source": [
    "HALFRADIUS = 3\n",
    "RG, S, sizes = @time PropertyT.group_algebra(G, halfradius = HALFRADIUS);"
   ]
  },
  {
   "cell_type": "code",
   "execution_count": 46,
   "id": "b0a9459a",
   "metadata": {},
   "outputs": [
    {
     "data": {
      "text/plain": [
       "16-element Vector{FPGroupElement{Groups.MatrixGroups.SymplecticGroup{4, Int8, DataType, Groups.MatrixGroups.ElementarySymplectic{4, Int8}}, …}}:\n",
       " A₁.₂\n",
       " A₂.₁\n",
       " B₃.₁\n",
       " B₄.₂\n",
       " B₃.₂\n",
       " B₁.₃\n",
       " B₂.₄\n",
       " B₂.₃\n",
       " A₁.₂^-1\n",
       " A₂.₁^-1\n",
       " B₃.₁^-1\n",
       " B₄.₂^-1\n",
       " B₃.₂^-1\n",
       " B₁.₃^-1\n",
       " B₂.₄^-1\n",
       " B₂.₃^-1"
      ]
     },
     "execution_count": 46,
     "metadata": {},
     "output_type": "execute_result"
    }
   ],
   "source": [
    "S"
   ]
  },
  {
   "cell_type": "code",
   "execution_count": 47,
   "id": "52516913",
   "metadata": {},
   "outputs": [
    {
     "data": {
      "text/plain": [
       "16·(id) -1·A₁.₂ -1·A₂.₁ -1·B₃.₁ -1·B₄.₂ -1·B₃.₂ -1·B₁.₃ -1·B₂.₄ -1·B₂.₃ -1·A₁.₂^-1 -1·A₂.₁^-1 -1·B₃.₁^-1 -1·B₄.₂^-1 -1·B₃.₂^-1 -1·B₁.₃^-1 -1·B₂.₄^-1 -1·B₂.₃^-1"
      ]
     },
     "execution_count": 47,
     "metadata": {},
     "output_type": "execute_result"
    }
   ],
   "source": [
    "Δ = RG(length(S)) - sum(RG(s) for s in S)"
   ]
  },
  {
   "cell_type": "markdown",
   "id": "d5c5b5db",
   "metadata": {},
   "source": [
    "## Grading\n",
    "\n",
    "Let us define $\\texttt{C}_\\texttt{2}$ grading for $(G, S)$. That is, to every generator $s \\in S$ we need to assign a root in $\\texttt{C}_\\texttt{2}$ in a compatible fashion. For the precise description of this grading see **Example 3.2 (2)**.  "
   ]
  },
  {
   "cell_type": "code",
   "execution_count": 48,
   "id": "a2277b05",
   "metadata": {},
   "outputs": [],
   "source": [
    "using PropertyT.Roots"
   ]
  },
  {
   "cell_type": "code",
   "execution_count": 49,
   "id": "e4ba65e0",
   "metadata": {},
   "outputs": [
    {
     "data": {
      "text/plain": [
       "A₁.₂ ∈ Sp{4,Int8}\n",
       " 1  1   0  0\n",
       " 0  1   0  0\n",
       " 0  0   1  0\n",
       " 0  0  -1  1"
      ]
     },
     "execution_count": 49,
     "metadata": {},
     "output_type": "execute_result"
    }
   ],
   "source": [
    "g = gens(G, 1)"
   ]
  },
  {
   "cell_type": "code",
   "execution_count": 50,
   "id": "2bf3d894",
   "metadata": {},
   "outputs": [
    {
     "data": {
      "text/plain": [
       "Root in ℝ^2 of length √2\n",
       "[1, -1]"
      ]
     },
     "execution_count": 50,
     "metadata": {},
     "output_type": "execute_result"
    }
   ],
   "source": [
    "PropertyT.grading(g)"
   ]
  },
  {
   "cell_type": "code",
   "execution_count": 51,
   "id": "514d7c9a",
   "metadata": {},
   "outputs": [
    {
     "data": {
      "text/plain": [
       "B₃.₁ ∈ Sp{4,Int8}\n",
       " 1  0  0  0\n",
       " 0  1  0  0\n",
       " 1  0  1  0\n",
       " 0  0  0  1"
      ]
     },
     "execution_count": 51,
     "metadata": {},
     "output_type": "execute_result"
    }
   ],
   "source": [
    "g = gens(G, 3)"
   ]
  },
  {
   "cell_type": "code",
   "execution_count": 52,
   "id": "3aa62675",
   "metadata": {},
   "outputs": [
    {
     "data": {
      "text/plain": [
       "Root in ℝ^2 of length 2\n",
       "[-2, 0]"
      ]
     },
     "execution_count": 52,
     "metadata": {},
     "output_type": "execute_result"
    }
   ],
   "source": [
    "PropertyT.grading(g)"
   ]
  },
  {
   "cell_type": "code",
   "execution_count": 53,
   "id": "f87ffa6f",
   "metadata": {},
   "outputs": [
    {
     "data": {
      "text/plain": [
       "B₃.₂ ∈ Sp{4,Int8}\n",
       " 1  0  0  0\n",
       " 0  1  0  0\n",
       " 0  1  1  0\n",
       " 1  0  0  1"
      ]
     },
     "execution_count": 53,
     "metadata": {},
     "output_type": "execute_result"
    }
   ],
   "source": [
    "g = gens(G, 5)"
   ]
  },
  {
   "cell_type": "code",
   "execution_count": 54,
   "id": "da50dec4",
   "metadata": {},
   "outputs": [
    {
     "data": {
      "text/plain": [
       "Root in ℝ^2 of length √2\n",
       "[-1, -1]"
      ]
     },
     "execution_count": 54,
     "metadata": {},
     "output_type": "execute_result"
    }
   ],
   "source": [
    "PropertyT.grading(g)"
   ]
  },
  {
   "cell_type": "code",
   "execution_count": 55,
   "id": "ff1e0641",
   "metadata": {},
   "outputs": [],
   "source": [
    "Δs = PropertyT.laplacians(\n",
    "    RG,\n",
    "    S,\n",
    "    x -> (gx = PropertyT.grading(x); Set([gx, -gx])),\n",
    ");"
   ]
  },
  {
   "cell_type": "markdown",
   "id": "26ecd47b",
   "metadata": {},
   "source": [
    "Here `Δs` is just a map from lines in the root system $\\Omega = \\texttt{C}_{\\texttt{2}}$ to the corresponding Laplacians, e.g. below we can see that to the line through `α = [1, -1]` and `-α` (and the origin) we assign\n",
    "$$ \\Delta_{Lα} = 4 - A_{1,2} - A_{2,1} - A_{1,2}^{-1} - A_{2,1}^{-1}.$$ "
   ]
  },
  {
   "cell_type": "code",
   "execution_count": 56,
   "id": "6979c5b2",
   "metadata": {},
   "outputs": [
    {
     "data": {
      "text/plain": [
       "4·(id) -1·A₁.₂ -1·A₂.₁ -1·A₁.₂^-1 -1·A₂.₁^-1"
      ]
     },
     "execution_count": 56,
     "metadata": {},
     "output_type": "execute_result"
    }
   ],
   "source": [
    "let α = Root([1,-1])\n",
    "    Lα = Set([α, -α])\n",
    "    Δs[Lα]\n",
    "end"
   ]
  },
  {
   "cell_type": "code",
   "execution_count": 57,
   "id": "111cb552",
   "metadata": {},
   "outputs": [
    {
     "data": {
      "text/plain": [
       "4·(id) -1·B₃.₁ -1·B₁.₃ -1·B₃.₁^-1 -1·B₁.₃^-1"
      ]
     },
     "execution_count": 57,
     "metadata": {},
     "output_type": "execute_result"
    }
   ],
   "source": [
    "let α = Root([2,0])\n",
    "    Lα = Set([α, -α])\n",
    "    Δs[Lα]\n",
    "end"
   ]
  },
  {
   "cell_type": "code",
   "execution_count": 58,
   "id": "a98b9ef1",
   "metadata": {},
   "outputs": [
    {
     "data": {
      "text/plain": [
       "4·(id) -1·B₃.₂ -1·B₂.₃ -1·B₃.₂^-1 -1·B₂.₃^-1"
      ]
     },
     "execution_count": 58,
     "metadata": {},
     "output_type": "execute_result"
    }
   ],
   "source": [
    "let α = Root([-1,-1])\n",
    "    Lα = Set([α, -α])\n",
    "    Δs[Lα]\n",
    "end"
   ]
  },
  {
   "cell_type": "markdown",
   "id": "dfd12b15",
   "metadata": {},
   "source": [
    "Following the definition of $\\operatorname{Adj}$ we define\n",
    "$$ \\operatorname{Adj}_{\\texttt{C}_\\texttt{2}} = \n",
    "\\prod_{\n",
    "    \\langle L\\alpha, L\\beta \\rangle \\cap \\Omega \\cong \\texttt{C}_{\\texttt{2}}\n",
    "} \\Delta_{L\\alpha} \\Delta_{L\\beta} $$"
   ]
  },
  {
   "cell_type": "code",
   "execution_count": 59,
   "id": "632a6fff",
   "metadata": {},
   "outputs": [
    {
     "data": {
      "text/plain": [
       "192·(id) -24·A₁.₂ -24·A₂.₁ -24·B₃.₁ -24·B₄.₂ -24·B₃.₂ -24·B₁.₃ -24·B₂.₄ -24·B₂.₃ -24·A₁.₂^-1 -24·A₂.₁^-1 -24·B₃.₁^-1 -24·B₄.₂^-1 -24·B₃.₂^-1 -24·B₁.₃^-1 -24·B₂.₄^-1 -24·B₂.₃^-1 +1·A₁.₂*B₃.₁ +2·A₁.₂*B₄.₂ +1·A₁.₂*B₃.₂ +2·A₁.₂*B₁.₃ +1·A₁.₂*B₂.₄ +1·A₁.₂*B₂.₃ +1·A₁.₂*B₃.₁^-1 +2·A₁.₂*B₄.₂^-1 +1·A₁.₂*B₃.₂^-1 +2·A₁.₂*B₁.₃^-1 +1·A₁.₂*B₂.₄^-1 +1·A₁.₂*B₂.₃^-1 +2·A₂.₁*B₃.₁ +1·A₂.₁*B₄.₂ +1·A₂.₁*B₃.₂ +1·A₂.₁*B₁.₃ +2·A₂.₁*B₂.₄ +1·A₂.₁*B₂.₃ +2·A₂.₁*B₃.₁^-1 +1·A₂.₁*B₄.₂^-1 +1·A₂.₁*B₃.₂^-1 +1·A₂.₁*B₁.₃^-1 +2·A₂.₁*B₂.₄^-1 +1·A₂.₁*B₂.₃^-1 +1·B₃.₁*A₁.₂ +2·B₃.₁*B₄.₂ +2·B₃.₁*B₃.₂ +2·B₃.₁*B₂.₄ +1·B₃.₁*B₂.₃ +1·B₃.₁*A₁.₂^-1 +2·B₃.₁*A₂.₁^-1 +2·B₃.₁*B₄.₂^-1 +2·B₃.₁*B₃.₂^-1 +2·B₃.₁*B₂.₄^-1 +1·B₃.₁*B₂.₃^-1 +1·B₄.₂*A₂.₁ +2·B₄.₂*B₃.₂ +2·B₄.₂*B₁.₃ +1·B₄.₂*B₂.₃ +2·B₄.₂*A₁.₂^-1 +1·B₄.₂*A₂.₁^-1 +2·B₄.₂*B₃.₁^-1 +2·B₄.₂*B₃.₂^-1 +2·B₄.₂*B₁.₃^-1 +1·B₄.₂*B₂.₃^-1 +1·B₃.₂*A₁.₂ +1·B₃.₂*A₂.₁ +1·B₃.₂*B₁.₃ +1·B₃.₂*B₂.₄ +1·B₃.₂*A₁.₂^-1 +1·B₃.₂*A₂.₁^-1 +2·B₃.₂*B₃.₁^-1 +2·B₃.₂*B₄.₂^-1 +1·B₃.₂*B₁.₃^-1 +1·B₃.₂*B₂.₄^-1 +1·B₁.₃*A₂.₁ +1·B₁.₃*B₃.₂ +2·B₁.₃*B₂.₄ +2·B₁.₃*B₂.₃ +2·B₁.₃*A₁.₂^-1 +1·B₁.₃*A₂.₁^-1 +2·B₁.₃*B₄.₂^-1 +1·B₁.₃*B₃.₂^-1 +2·B₁.₃*B₂.₄^-1 +2·B₁.₃*B₂.₃^-1 +1·B₂.₄*A₁.₂ +1·B₂.₄*B₃.₂ +2·B₂.₄*B₂.₃ +1·B₂.₄*A₁.₂^-1 +2·B₂.₄*A₂.₁^-1 +2·B₂.₄*B₃.₁^-1 +1·B₂.₄*B₃.₂^-1 +2·B₂.₄*B₁.₃^-1 +2·B₂.₄*B₂.₃^-1 +1·B₂.₃*A₁.₂ +1·B₂.₃*A₂.₁ +1·B₂.₃*B₃.₁ +1·B₂.₃*B₄.₂ +1·B₂.₃*A₁.₂^-1 +1·B₂.₃*A₂.₁^-1 +1·B₂.₃*B₃.₁^-1 +1·B₂.₃*B₄.₂^-1 +2·B₂.₃*B₁.₃^-1 +2·B₂.₃*B₂.₄^-1 +1·A₁.₂^-1*B₃.₁ +1·A₁.₂^-1*B₃.₂ +1·A₁.₂^-1*B₂.₄ +1·A₁.₂^-1*B₂.₃ +1·A₁.₂^-1*B₃.₁^-1 +2·A₁.₂^-1*B₄.₂^-1 +1·A₁.₂^-1*B₃.₂^-1 +2·A₁.₂^-1*B₁.₃^-1 +1·A₁.₂^-1*B₂.₄^-1 +1·A₁.₂^-1*B₂.₃^-1 +1·A₂.₁^-1*B₄.₂ +1·A₂.₁^-1*B₃.₂ +1·A₂.₁^-1*B₁.₃ +1·A₂.₁^-1*B₂.₃ +2·A₂.₁^-1*B₃.₁^-1 +1·A₂.₁^-1*B₄.₂^-1 +1·A₂.₁^-1*B₃.₂^-1 +1·A₂.₁^-1*B₁.₃^-1 +2·A₂.₁^-1*B₂.₄^-1 +1·A₂.₁^-1*B₂.₃^-1 +1·B₃.₁^-1*A₁.₂ +1·B₃.₁^-1*B₂.₃ +1·B₃.₁^-1*A₁.₂^-1 +2·B₃.₁^-1*B₄.₂^-1 +2·B₃.₁^-1*B₃.₂^-1 +2·B₃.₁^-1*B₂.₄^-1 +1·B₃.₁^-1*B₂.₃^-1 +1·B₄.₂^-1*A₂.₁ +1·B₄.₂^-1*B₂.₃ +1·B₄.₂^-1*A₂.₁^-1 +2·B₄.₂^-1*B₃.₂^-1 +2·B₄.₂^-1*B₁.₃^-1 +1·B₄.₂^-1*B₂.₃^-1 +1·B₃.₂^-1*A₁.₂ +1·B₃.₂^-1*A₂.₁ +1·B₃.₂^-1*B₁.₃ +1·B₃.₂^-1*B₂.₄ +1·B₃.₂^-1*A₁.₂^-1 +1·B₃.₂^-1*A₂.₁^-1 +1·B₃.₂^-1*B₁.₃^-1 +1·B₃.₂^-1*B₂.₄^-1 +1·B₁.₃^-1*A₂.₁ +1·B₁.₃^-1*B₃.₂ +1·B₁.₃^-1*A₂.₁^-1 +1·B₁.₃^-1*B₃.₂^-1 +2·B₁.₃^-1*B₂.₄^-1 +2·B₁.₃^-1*B₂.₃^-1 +1·B₂.₄^-1*A₁.₂ +1·B₂.₄^-1*B₃.₂ +1·B₂.₄^-1*A₁.₂^-1 +1·B₂.₄^-1*B₃.₂^-1 +2·B₂.₄^-1*B₂.₃^-1 +1·B₂.₃^-1*A₁.₂ +1·B₂.₃^-1*A₂.₁ +1·B₂.₃^-1*B₃.₁ +1·B₂.₃^-1*B₄.₂ +1·B₂.₃^-1*A₁.₂^-1 +1·B₂.₃^-1*A₂.₁^-1 +1·B₂.₃^-1*B₃.₁^-1 +1·B₂.₃^-1*B₄.₂^-1"
      ]
     },
     "execution_count": 59,
     "metadata": {},
     "output_type": "execute_result"
    }
   ],
   "source": [
    "AdjC₂ = PropertyT.Adj(Δs, :C₂)"
   ]
  },
  {
   "cell_type": "markdown",
   "id": "d5c3232b",
   "metadata": {},
   "source": [
    "It is not hard to see that for $\\Omega = \\texttt{C}_{\\texttt{2}}$ \n",
    " * we are simply looking at products of all $\\Delta_{L\\alpha}$ and $\\Delta_{L\\beta}$ where $L\\alpha \\neq L\\beta$, and\n",
    " * that the new definition is an analouge to the definition of $\\operatorname{Adj}$ from [On property (T) for $\\operatorname{Aut}(F_n)$ and $\\operatorname{SL}_n(\\mathbb{Z})$](https://arxiv.org/abs/1812.03456)."
   ]
  },
  {
   "cell_type": "code",
   "execution_count": 60,
   "id": "c2f434ff",
   "metadata": {},
   "outputs": [
    {
     "data": {
      "text/plain": [
       "true"
      ]
     },
     "execution_count": 60,
     "metadata": {},
     "output_type": "execute_result"
    }
   ],
   "source": [
    "AdjC₂ == Δ^2 - sum(Δs[Lα]^2 for Lα in keys(Δs))"
   ]
  },
  {
   "cell_type": "markdown",
   "id": "15e73409",
   "metadata": {},
   "source": [
    "## Optimization problem"
   ]
  },
  {
   "cell_type": "markdown",
   "id": "ca33a79c",
   "metadata": {},
   "source": [
    "### Symmetry reduction"
   ]
  },
  {
   "cell_type": "code",
   "execution_count": 61,
   "id": "6c039c02",
   "metadata": {},
   "outputs": [],
   "source": [
    "import PropertyT.StarAlgebras\n",
    "import PropertyT.SymbolicWedderburn\n",
    "using PropertyT.PermutationGroups"
   ]
  },
  {
   "cell_type": "code",
   "execution_count": 62,
   "id": "97dc03f7",
   "metadata": {},
   "outputs": [
    {
     "name": "stdout",
     "output_type": "stream",
     "text": [
      "  6.757325 seconds (52.04 M allocations: 2.952 GiB, 10.72% gc time, 10.59% compilation time: 72% of which was recompilation)\n"
     ]
    },
    {
     "name": "stderr",
     "output_type": "stream",
     "text": [
      "\u001b[36m\u001b[1m┌ \u001b[22m\u001b[39m\u001b[36m\u001b[1mInfo: \u001b[22m\u001b[39mWedderburn Decomposition into 289560 orbits and 4 simple summands of sizes\n",
      "\u001b[36m\u001b[1m└ \u001b[22m\u001b[39m[590, 549, 484, 450]\n"
     ]
    }
   ],
   "source": [
    "wd = let RG = RG, N = N\n",
    "    G = StarAlgebras.object(RG)\n",
    "    P = PermGroup(perm\"(1,2)\", Perm(circshift(1:N, -1)))\n",
    "    Weyl = Groups.Constructions.WreathProduct(PermGroup(perm\"(1,2)\"), P)\n",
    "    act = PropertyT.action_by_conjugation(G, Weyl)\n",
    "\n",
    "    @time SymbolicWedderburn.WedderburnDecomposition(\n",
    "        Float64,\n",
    "        Weyl,\n",
    "        act,\n",
    "        StarAlgebras.basis(RG),\n",
    "        StarAlgebras.Basis{UInt16}(@view StarAlgebras.basis(RG)[1:sizes[HALFRADIUS]]),\n",
    "    )\n",
    "end\n",
    "@info wd"
   ]
  },
  {
   "cell_type": "code",
   "execution_count": 63,
   "id": "06e4c96c",
   "metadata": {},
   "outputs": [
    {
     "name": "stdout",
     "output_type": "stream",
     "text": [
      " 48.033685 seconds (204.17 M allocations: 122.399 GiB, 9.01% gc time)\n"
     ]
    },
    {
     "data": {
      "text/plain": [
       "A JuMP Model\n",
       "Maximization problem with:\n",
       "Variables: 544166\n",
       "Objective function type: JuMP.VariableRef\n",
       "`JuMP.AffExpr`-in-`MathOptInterface.EqualTo{Float64}`: 289559 constraints\n",
       "`Vector{JuMP.VariableRef}`-in-`MathOptInterface.PositiveSemidefiniteConeTriangle`: 4 constraints\n",
       "Model mode: AUTOMATIC\n",
       "CachingOptimizer state: NO_OPTIMIZER\n",
       "Solver name: No optimizer attached.\n",
       "Names registered in the model: λ"
      ]
     },
     "execution_count": 63,
     "metadata": {},
     "output_type": "execute_result"
    }
   ],
   "source": [
    "@time model, varP = PropertyT.sos_problem_primal(\n",
    "    AdjC₂,\n",
    "    Δ,\n",
    "    wd;\n",
    "    augmented = true,\n",
    ");\n",
    "model"
   ]
  },
  {
   "cell_type": "markdown",
   "id": "4b2d8ccb",
   "metadata": {},
   "source": [
    "## Solving the problem numerically\n",
    "We will use `scs` [Splitting Conic Solver](https://github.com/cvxgrp/scs) so solve this problem."
   ]
  },
  {
   "cell_type": "code",
   "execution_count": 64,
   "id": "1e77d513",
   "metadata": {},
   "outputs": [
    {
     "name": "stderr",
     "output_type": "stream",
     "text": [
      "WARNING: could not import SCS_MKL_jll.MKL_jll into SCS\n"
     ]
    }
   ],
   "source": [
    "using MKL_jll\n",
    "include(joinpath(@__DIR__, \"..\", \"src\", \"optimizers.jl\"));\n",
    "with_optimizer = scs_optimizer(;\n",
    "    linear_solver = SCS.MKLDirectSolver,\n",
    "    eps = 1e-9,\n",
    "    max_iters = 20_000,\n",
    "    accel = 50,\n",
    "    alpha = 1.95,\n",
    ");"
   ]
  },
  {
   "cell_type": "code",
   "execution_count": 65,
   "id": "dcbafe0e",
   "metadata": {},
   "outputs": [],
   "source": [
    "warm = nothing"
   ]
  },
  {
   "cell_type": "markdown",
   "id": "2832564f",
   "metadata": {},
   "source": [
    "> **Note** \n",
    "> * To obtain just any positive lower bound it is advisable to (artificially) bound the objective from above, e.g. by adding\n",
    "    ```julia\n",
    "    JuMP.@constraint(model, upper_bound, model[:λ] ≤ 0.125)\n",
    "    ```\n",
    "    before solving the model (to bring the solve time to below 1h).\n",
    "> * If you do not bound the objective you will need to re-run the cell below several times to obtain `status = OPTIMAL::TerminationStatusCode = 1`. To succesfully certify **a lower bound** that might not be necessary. However this will be necessary to obtain **the bound advertised** in the paper.\n"
   ]
  },
  {
   "cell_type": "code",
   "execution_count": 66,
   "id": "6b0c73e6",
   "metadata": {},
   "outputs": [
    {
     "data": {
      "text/latex": [
       "$$ λ \\leq 0.125 $$"
      ],
      "text/plain": [
       "upper_bound : λ ≤ 0.125"
      ]
     },
     "execution_count": 66,
     "metadata": {},
     "output_type": "execute_result"
    }
   ],
   "source": [
    "JuMP.@constraint(model, upper_bound, model[:λ] ≤ 0.125)"
   ]
  },
  {
   "cell_type": "code",
   "execution_count": 67,
   "id": "815c914f",
   "metadata": {},
   "outputs": [
    {
     "name": "stdout",
     "output_type": "stream",
     "text": [
      "------------------------------------------------------------------\n",
      "\t       SCS v3.2.3 - Splitting Conic Solver\n",
      "\t(c) Brendan O'Donoghue, Stanford University, 2012\n",
      "------------------------------------------------------------------\n",
      "problem:  variables n: 544166, constraints m: 833725\n",
      "cones: \t  z: primal zero / dual free vars: 289559\n",
      "\t  l: linear vars: 1\n",
      "\t  s: psd vars: 544165, ssize: 4\n",
      "settings: eps_abs: 1.0e-09, eps_rel: 1.0e-09, eps_infeas: 1.0e-07\n",
      "\t  alpha: 1.95, scale: 1.00e-01, adaptive_scale: 1\n",
      "\t  max_iters: 20000, normalize: 1, rho_x: 1.00e-06\n",
      "\t  acceleration_lookback: 50, acceleration_interval: 10\n",
      "lin-sys:  sparse-direct-mkl-pardiso\n",
      "\t  nnz(A): 4965179, nnz(P): 0\n",
      "------------------------------------------------------------------\n",
      " iter | pri res | dua res |   gap   |   obj   |  scale  | time (s)\n",
      "------------------------------------------------------------------\n",
      "     0| 2.40e+01  1.00e+00  2.03e+01 -1.02e+01  1.00e-01  1.48e+02 \n",
      "   250| 2.90e-03  2.43e-04  3.47e-03 -1.26e-01  2.31e+00  5.32e+02 \n",
      "   500| 1.36e-05  1.18e-05  3.30e-05 -1.25e-01  5.59e-02  9.23e+02 \n",
      "   750| 2.27e-05  4.50e-07  1.01e-05 -1.25e-01  1.25e-02  1.17e+03 \n",
      "  1000| 1.39e-05  2.14e-07  1.06e-05 -1.25e-01  1.25e-02  1.27e+03 \n",
      "  1250| 9.37e-06  3.26e-08  1.14e-05 -1.25e-01  1.25e-02  1.38e+03 \n",
      "  1500| 8.76e-06  1.37e-08  1.03e-05 -1.25e-01  1.25e-02  1.48e+03 \n",
      "  1750| 8.26e-06  5.45e-09  9.59e-06 -1.25e-01  1.25e-02  1.58e+03 \n",
      "  2000| 7.75e-06  2.03e-09  8.85e-06 -1.25e-01  1.25e-02  1.68e+03 \n",
      "  2250| 3.70e-05  1.01e-05  1.31e-05 -1.25e-01  6.39e-01  2.04e+03 \n",
      "  2450| 3.49e-09  5.27e-10  9.08e-11 -1.25e-01  6.39e-01  2.12e+03 \n",
      "------------------------------------------------------------------\n",
      "status:  solved\n",
      "timings: total: 2.12e+03s = setup: 1.47e+02s + solve: 1.97e+03s\n",
      "\t lin-sys: 5.14e+02s, cones: 4.74e+02s, accel: 4.41e+00s\n",
      "------------------------------------------------------------------\n",
      "objective = -0.125000\n",
      "------------------------------------------------------------------\n"
     ]
    },
    {
     "name": "stderr",
     "output_type": "stream",
     "text": [
      "\u001b[36m\u001b[1m┌ \u001b[22m\u001b[39m\u001b[36m\u001b[1mInfo: \u001b[22m\u001b[39mOptimization has finished with\n",
      "\u001b[36m\u001b[1m└ \u001b[22m\u001b[39m  status = OPTIMAL::TerminationStatusCode = 1\n"
     ]
    }
   ],
   "source": [
    "status, warm = PropertyT.solve(\n",
    "        model,\n",
    "        with_optimizer,\n",
    "        warm,\n",
    "    );\n",
    "# note: since we're using scs there will be no printout until the optimization has finished \n",
    "# please bear with us...\n",
    "@info \"Optimization has finished with\" status"
   ]
  },
  {
   "cell_type": "markdown",
   "id": "7aad65b7",
   "metadata": {},
   "source": [
    "### Reconstructing and certifying the solution"
   ]
  },
  {
   "cell_type": "code",
   "execution_count": 68,
   "id": "5738ff88",
   "metadata": {},
   "outputs": [
    {
     "name": "stderr",
     "output_type": "stream",
     "text": [
      "\u001b[36m\u001b[1m[ \u001b[22m\u001b[39m\u001b[36m\u001b[1mInfo: \u001b[22m\u001b[39mreconstructing the solution\n"
     ]
    },
    {
     "name": "stdout",
     "output_type": "stream",
     "text": [
      "  1.321305 seconds (11.98 M allocations: 825.351 MiB, 10.68% gc time, 4.25% compilation time)\n"
     ]
    },
    {
     "data": {
      "text/plain": [
       "2073×2073 Matrix{Float64}:\n",
       " 0.0   0.0           0.0           0.0          …   0.0           0.0\n",
       " 0.0   0.53076       0.122576      0.127844         0.00062125   -6.15139e-5\n",
       " 0.0   0.122576      0.53076       0.13139          0.00062125   -6.15139e-5\n",
       " 0.0   0.127844      0.13139       0.527937         0.000852002  -0.000178643\n",
       " 0.0   0.13139       0.127844      0.129358         0.000852002  -0.000178643\n",
       " 0.0   0.127784      0.127784      0.131408     …  -2.42835e-5   -0.000543139\n",
       " 0.0   0.13139       0.127844      0.12953          0.0010291     0.00106489\n",
       " 0.0   0.127844      0.13139       0.132646         0.0010291     0.00106489\n",
       " 0.0   0.127784      0.127784      0.127877         0.000569626   0.00228599\n",
       " 0.0   0.119758      0.122304      0.127844         0.00062125   -6.15139e-5\n",
       " 0.0   0.122304      0.119758      0.13139      …   0.00062125   -6.15139e-5\n",
       " 0.0   0.127844      0.13139       0.121956         0.000852002  -0.000178643\n",
       " 0.0   0.13139       0.127844      0.132655         0.000852002  -0.000178643\n",
       " ⋮                                              ⋱                \n",
       " 0.0   0.000558433   0.000558433   0.00143944      -0.00018255    0.000395841\n",
       " 0.0   0.0022708    -0.000101172   0.000817083      0.00274044    0.000691007\n",
       " 0.0  -0.000101172   0.0022708     0.000128289      0.00274044    0.000691007\n",
       " 0.0  -0.000492815  -0.000468689  -0.00202039      -0.00318707    0.00483409\n",
       " 0.0  -0.000468689  -0.000492815   0.000903997  …  -0.00318707    0.00483409\n",
       " 0.0   0.00201998    0.00201998    0.00180304       0.00559151   -0.00160783\n",
       " 0.0  -0.000634226   0.00121733   -0.00190689       0.00274044    0.000691007\n",
       " 0.0   0.00121733   -0.000634226  -0.000477358      0.00274044    0.000691007\n",
       " 0.0   0.0012265    -0.00205262    0.00143391      -0.00318707    0.00483409\n",
       " 0.0  -0.00205262    0.0012265    -0.00154484   …  -0.00318707    0.00483409\n",
       " 0.0   0.00062125    0.00062125    0.000852002      0.0249886     0.000823079\n",
       " 0.0  -6.15139e-5   -6.15139e-5   -0.000178643      0.000823079   0.0355207"
      ]
     },
     "execution_count": 68,
     "metadata": {},
     "output_type": "execute_result"
    }
   ],
   "source": [
    "@info \"reconstructing the solution\"\n",
    "Q = @time let wd = wd, Ps = [JuMP.value.(P) for P in varP]\n",
    "    Qs = real.(sqrt.(Ps))\n",
    "    PropertyT.reconstruct(Qs, wd)\n",
    "end"
   ]
  },
  {
   "cell_type": "code",
   "execution_count": 69,
   "id": "69552e43",
   "metadata": {},
   "outputs": [
    {
     "name": "stderr",
     "output_type": "stream",
     "text": [
      "\u001b[36m\u001b[1m[ \u001b[22m\u001b[39m\u001b[36m\u001b[1mInfo: \u001b[22m\u001b[39mcertifying the solution\n"
     ]
    },
    {
     "name": "stdout",
     "output_type": "stream",
     "text": [
      "  0.166054 seconds (6 allocations: 41.550 MiB)\n"
     ]
    },
    {
     "name": "stderr",
     "output_type": "stream",
     "text": [
      "\u001b[36m\u001b[1m┌ \u001b[22m\u001b[39m\u001b[36m\u001b[1mInfo: \u001b[22m\u001b[39mChecking in Float64 arithmetic with\n",
      "\u001b[36m\u001b[1m└ \u001b[22m\u001b[39m  λ = 0.12499999763821108\n",
      "\u001b[36m\u001b[1m┌ \u001b[22m\u001b[39m\u001b[36m\u001b[1mInfo: \u001b[22m\u001b[39mNumerical metrics of the obtained SOS:\n",
      "\u001b[36m\u001b[1m│ \u001b[22m\u001b[39mɛ(elt - λu - ∑ξᵢ*ξᵢ) ≈ 6.27080334803982e-11\n",
      "\u001b[36m\u001b[1m│ \u001b[22m\u001b[39m‖elt - λu - ∑ξᵢ*ξᵢ‖₁ ≈ 5.0405928043122056e-6\n",
      "\u001b[36m\u001b[1m└ \u001b[22m\u001b[39m λ ≈ 0.12491934815334209\n"
     ]
    },
    {
     "name": "stdout",
     "output_type": "stream",
     "text": [
      "  1.452540 seconds (74 allocations: 804.395 MiB, 4.59% gc time)\n"
     ]
    },
    {
     "name": "stderr",
     "output_type": "stream",
     "text": [
      "\u001b[36m\u001b[1m┌ \u001b[22m\u001b[39m\u001b[36m\u001b[1mInfo: \u001b[22m\u001b[39mChecking in Interval{Float64} arithmetic with\n",
      "\u001b[36m\u001b[1m└ \u001b[22m\u001b[39m  λ_int = [0.124999, 0.125]\n",
      "\u001b[36m\u001b[1m┌ \u001b[22m\u001b[39m\u001b[36m\u001b[1mInfo: \u001b[22m\u001b[39mNumerical metrics of the obtained SOS:\n",
      "\u001b[36m\u001b[1m│ \u001b[22m\u001b[39mɛ(elt - λu - ∑ξᵢ*ξᵢ) ∈ [-6.00861e-08, 6.00381e-08]\n",
      "\u001b[36m\u001b[1m│ \u001b[22m\u001b[39m‖elt - λu - ∑ξᵢ*ξᵢ‖₁ ∈ [4.98061e-06, 5.10075e-06]\n",
      "\u001b[36m\u001b[1m└ \u001b[22m\u001b[39m λ ∈ [0.124918, 0.124921]\n",
      "\u001b[36m\u001b[1m┌ \u001b[22m\u001b[39m\u001b[36m\u001b[1mInfo: \u001b[22m\u001b[39mCertified result: Adj_C₂ is positive\n",
      "\u001b[36m\u001b[1m└ \u001b[22m\u001b[39m  PropertyT.IntervalArithmetic.inf(λ) = 0.12491838579643448\n"
     ]
    }
   ],
   "source": [
    "@info \"certifying the solution\"\n",
    "certified, λ = PropertyT.certify_solution(\n",
    "    AdjC₂,\n",
    "    Δ,\n",
    "    JuMP.objective_value(model),\n",
    "    Q;\n",
    "    halfradius = HALFRADIUS,\n",
    "    augmented = true,\n",
    ")\n",
    "\n",
    "if certified && λ > 0\n",
    "    @info \"Certified result: Adj_C₂ is positive\" PropertyT.IntervalArithmetic.inf(λ)\n",
    "else\n",
    "    @info \"Could NOT certify the positivity of Adj_C₂\" certified λ\n",
    "end"
   ]
  },
  {
   "cell_type": "code",
   "execution_count": 70,
   "id": "03072355",
   "metadata": {},
   "outputs": [
    {
     "data": {
      "text/plain": [
       "2023-06-22T15:25:38.024"
      ]
     },
     "execution_count": 70,
     "metadata": {},
     "output_type": "execute_result"
    }
   ],
   "source": [
    "using Dates\n",
    "Dates.now()"
   ]
  },
  {
   "cell_type": "code",
   "execution_count": 71,
   "id": "5f0e72f2",
   "metadata": {},
   "outputs": [
    {
     "name": "stdout",
     "output_type": "stream",
     "text": [
      "Julia Version 1.9.1\n",
      "Commit 147bdf428cd (2023-06-07 08:27 UTC)\n",
      "Platform Info:\n",
      "  OS: Linux (x86_64-linux-gnu)\n",
      "  CPU: 16 × AMD Ryzen 7 PRO 4750U with Radeon Graphics\n",
      "  WORD_SIZE: 64\n",
      "  LIBM: libopenlibm\n",
      "  LLVM: libLLVM-14.0.6 (ORCJIT, znver2)\n",
      "  Threads: 9 on 16 virtual cores\n",
      "Environment:\n",
      "  JULIA_NUM_THREADS = 8\n",
      "  JULIA_IMAGE_THREADS = 1\n"
     ]
    }
   ],
   "source": [
    "versioninfo()"
   ]
  },
  {
   "cell_type": "code",
   "execution_count": null,
   "id": "266c3727",
   "metadata": {},
   "outputs": [],
   "source": []
  }
 ],
 "metadata": {
  "kernelspec": {
   "display_name": "Julia 1.9.1",
   "language": "julia",
   "name": "julia-1.9"
  },
  "language_info": {
   "file_extension": ".jl",
   "mimetype": "application/julia",
   "name": "julia",
   "version": "1.9.1"
  }
 },
 "nbformat": 4,
 "nbformat_minor": 5
}
